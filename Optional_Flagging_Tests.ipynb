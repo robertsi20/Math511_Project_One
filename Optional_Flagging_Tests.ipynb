{
  "nbformat": 4,
  "nbformat_minor": 0,
  "metadata": {
    "colab": {
      "name": "Optional Flagging Tests.ipynb",
      "provenance": [],
      "collapsed_sections": []
    },
    "kernelspec": {
      "name": "python3",
      "display_name": "Python 3"
    },
    "language_info": {
      "name": "python"
    }
  },
  "cells": [
    {
      "cell_type": "code",
      "metadata": {
        "id": "BDEwlUTGyGRT"
      },
      "source": [
        "# Testing LSH\n",
        "\n",
        "# This notebook covers the implementation (with Numpy) and testing of a traditional LSH process. Covering shingling, MinHashing, and a straightforward LSH banding process for identifying candidate pairs.\n",
        "\n",
        "# The first thing we need is data."
      ],
      "execution_count": null,
      "outputs": []
    },
    {
      "cell_type": "code",
      "metadata": {
        "id": "ESJXlrnG9pp7"
      },
      "source": [
        "import requests #for importing the data from a url\n",
        "import pandas as pd #data reading and also visualization towards the end.\n",
        "import numpy as np\n",
        "import io #with pandas, reads in the data from the URL."
      ],
      "execution_count": null,
      "outputs": []
    },
    {
      "cell_type": "code",
      "metadata": {
        "id": "HEJqj31awkJy"
      },
      "source": [
        "# url = \"https://raw.githubusercontent.com/brmson/dataset-sts/master/data/sts/sick2014/SICK_train.txt\"\n",
        "\n",
        "# text = requests.get(url).text\n",
        "\n",
        "# data = pd.read_csv(io.StringIO(text), sep='\\t')\n",
        "# data.head()"
      ],
      "execution_count": null,
      "outputs": []
    },
    {
      "cell_type": "code",
      "metadata": {
        "colab": {
          "base_uri": "https://localhost:8080/"
        },
        "id": "uM-DiNgc9OqP",
        "outputId": "5db4714b-cbd0-4774-f168-b289d29431e7"
      },
      "source": [
        "from google.colab import drive \n",
        "drive.mount('/content/gdrive')"
      ],
      "execution_count": null,
      "outputs": [
        {
          "output_type": "stream",
          "name": "stdout",
          "text": [
            "Drive already mounted at /content/gdrive; to attempt to forcibly remount, call drive.mount(\"/content/gdrive\", force_remount=True).\n"
          ]
        }
      ]
    },
    {
      "cell_type": "code",
      "metadata": {
        "id": "4OBvf1sU6hqk"
      },
      "source": [
        "data = pd.read_csv('gdrive/My Drive/Colab Notebooks/Book1.csv')\n",
        "#print(text)"
      ],
      "execution_count": null,
      "outputs": []
    },
    {
      "cell_type": "code",
      "metadata": {
        "colab": {
          "base_uri": "https://localhost:8080/"
        },
        "id": "vW0Vqj0xwuvM",
        "outputId": "ad45d689-c1c7-4cc8-99de-aa27d927b2ab"
      },
      "source": [
        "#sentences = data['sentence_A'].tolist() #convert sentenceA column to a list type\n",
        "sentences = data['Sentences'].tolist() #convert sentenceA column to a list type\n",
        "sentences[:3] #each entry in the original df is a list item"
      ],
      "execution_count": null,
      "outputs": [
        {
          "output_type": "execute_result",
          "data": {
            "text/plain": [
              "['Mathematicians seek and use patterns to formulate new conjectures; they resolve the truth or falsity of such by mathematical proof. When mathematical structures are good models of real phenomena, mathematical reasoning can be used to provide insight or predictions about nature.',\n",
              " \"Tennis is a racket sport that can be played individually against a single opponent (singles) or between two teams of two players each (doubles). Each player uses a tennis racket that is strung with cord to strike a hollow rubber ball covered with felt over or around a net and into the opponent's court.\",\n",
              " 'Tennis is racquet sport that is played against opponents or teams of players in douhbles. Each player uses a racquet that is strung with a wire to strike a hollow ball covered with fuzz over a net.']"
            ]
          },
          "metadata": {},
          "execution_count": 6
        }
      ]
    },
    {
      "cell_type": "code",
      "metadata": {
        "id": "Dv04E08KyKuM"
      },
      "source": [
        "# We have our data, now to shingle and one-hot encode it."
      ],
      "execution_count": null,
      "outputs": []
    },
    {
      "cell_type": "code",
      "metadata": {
        "id": "5jg5jyJYwvgX"
      },
      "source": [
        "def build_shingles(sentence: str, k: int):\n",
        "    shingles = [] #initialize our shingle list\n",
        "    for i in range(len(sentence) - k): #goes to the last point that allows for a \"complete\" shingle (length k)\n",
        "        shingles.append(sentence[i:i+k])\n",
        "    return set(shingles)\n",
        "\n",
        "def build_vocab(shingle_sets: list):\n",
        "    # convert list of shingle sets into single set\n",
        "    full_set = {item for set_ in shingle_sets for item in set_}\n",
        "      #underscore after \"set\" just tells python that we're using what would o/w be a class name as something else (iterator in this case)\n",
        "    vocab = {}\n",
        "    print(full_set)\n",
        "    for i, shingle in enumerate(list(full_set)):\n",
        "        vocab[shingle] = i #builds the dictionary with keys = shingles, values = index\n",
        "    return vocab\n",
        "\n",
        "# one_hot gets used in a loop\n",
        "# each time it puts a 1 in the index == value in the vocab dictionary for that shingle\n",
        "def one_hot(shingles: set, vocab: dict):\n",
        "    vec = np.zeros(len(vocab))\n",
        "    for shingle in shingles:\n",
        "        idx = vocab[shingle]\n",
        "        vec[idx] = 1\n",
        "    return vec"
      ],
      "execution_count": null,
      "outputs": []
    },
    {
      "cell_type": "code",
      "metadata": {
        "colab": {
          "base_uri": "https://localhost:8080/"
        },
        "id": "X74vZu4XwzLU",
        "outputId": "c51a02ff-0c77-47ea-c8be-502f9e837641"
      },
      "source": [
        "k = 6  # shingle size\n",
        "\n",
        "from tqdm import tqdm #b/c I like progress bars.\n",
        "\n",
        "# build shingles\n",
        "shingles = []\n",
        "for sentence in tqdm(sentences):\n",
        "    shingles.append(build_shingles(sentence, k))\n",
        "\n",
        "# build vocab\n",
        "vocab = build_vocab(shingles)\n",
        "\n",
        "# one-hot encode our shingles\n",
        "shingles_1hot = []\n",
        "for shingle_set in shingles:\n",
        "    shingles_1hot.append(one_hot(shingle_set, vocab))\n",
        "# stack into single numpy array\n",
        "shingles_1hot = np.stack(shingles_1hot) #converts our list to an array\n",
        "shingles_1hot.shape"
      ],
      "execution_count": null,
      "outputs": [
        {
          "output_type": "stream",
          "name": "stderr",
          "text": [
            "100%|██████████| 15/15 [00:00<00:00, 5009.52it/s]"
          ]
        },
        {
          "output_type": "stream",
          "name": "stdout",
          "text": [
            "{'ssiona', 'mitles', 'tor? A', 'ractic', 'ncorpo', 'dventu', 'king a', 'roo, a', ' meani', 'w rubb', 'cludin', 'eld is', 'ystery', 'nger? ', 'ment a', 'all is', 'orithm', 'l syst', ' membe', 'it. Th', 'rial s', 'ainst ', 'ubber ', 'and\\xa0co', 's Appl', 'ividua', 'zz ove', 'pular ', 'e most', 'tion a', 'ive th', 'a net ', 'gle op', 'enomen', 'd Rona', 'ak, an', 'stems ', ' the m', 'inform', 'l norm', '? A ma', 'al sys', 's from', ' mathe', 'rder C', 'rtaint', 'rd is ', 'It was', 'm is u', 'to com', 'am, re', 'ia are', 'as App', 'ut nat', 'f foot', 're\\xa0and', ' insig', 'ion\\xa0it', ' of my', 'e fami', 'n acti', 'nd Woz', 'are un', 'ession', ' formu', ' of fo', 'f adve', 'sonal ', ' to va', 'xtract', ' trigg', 'As a d', 'codili', 'foot\")', 'bles. ', 'ers ea', 'on\\xa0and', 'be the', 'insigh', 'about ', 'grew q', 's usua', 'o deal', 'ound a', 'ls wit', 'nst op', 'line, ', 'tilopi', 've Woz', 'shoot ', 'machin', 'n ore ', 'otball', 'cropod', 'ge of ', ' A col', 's of e', 'ere is', 'he ext', 'e comp', 'ometim', 'n actu', 'ster b', 'oy. Yo', ' weste', 'nt (si', 'ria is', 'good m', 'cer de', 'ited. ', 'are la', 'ly mea', 'ence\\xa0i', 'es, ki', 'thing ', 's of\\xa0a', 'rigger', 'etween', 'ns see', 'ngle o', '\\xa0and\\xa0c', '. When', 'els of', 'nomena', 'falsit', 'ver a ', 'proces', 'ghout ', ' varyi', 'ld is ', \"here's\", 'r depo', 'olve t', 'rmally', 'all to', 's in A', 'nd com', 'o stri', 'oot pe', 'lorer?', 'an itc', 'dae) o', 'able m', ' of re', 'the pr', 'orpora', 'f risk', 'udy al', 'aria a', 'nerali', ' by St', 'hat is', 'tuaria', 'proof.', 'ms, an', 'edicti', 'o deve', 'r plac', ' studi', 'mily C', ' theor', 'es wer', 'nst a ', 'uet th', 't is t', 'as and', 'of suc', 'uses a', 'h play', 'h an i', 'extant', 'lop an', 's foun', 'word f', ' an or', 'puter,', 'semiaq', 'strali', 'the fa', 'of top', ' a thi', 'as wel', 'oftwar', 'e insi', 'ience ', 'is som', 'oning ', ', Stev', 'or tru', 'hemati', 'uable ', 'rocess', 'I pers', 'ith an', 'rth, u', 'ern gr', 'who de', 't the ', 'ng is ', ' inter', ' mater', 'd comm', 'h by m', 's in\\xa0h', 'rsupia', 'at is ', 'less. ', 'ball c', '\\xa0is th', 'easure', 'ions a', ' famil', 'g \"lar', 'Austra', 'ngaroo', 'uter. ', 'een tw', 'our fi', 'ually ', 'ion ga', ' vein,', 'ur fin', 'ber ba', 'ls fro', 'merica', ' be us', 'tion t', 'r? An ', ' degre', ', or p', 'h your', 'the op', 're loo', 'niak a', 'hms,\\xa0c', 'iles (', ' When ', 'd sale', 'over o', 'layer ', 'ord fo', 'plemen', 'acquet', 'achine', 'od mod', 'that a', 'oughou', 'ftware', ' proof', 'nis is', 'sit. T', 'ch by ', 'sely t', 'w conj', ', kick', 'on\\xa0to ', 'bs and', 'e was ', 'ss pro', 'overed', 'e) or ', 'rdware', 'ilopin', 'he Ame', ' and W', 'An exp', 'les of', 's rack', ' a hol', 'ger fi', ', seam', 't of r', 't a si', 'he Ear', ' rubbe', 'esses,', 'of eco', 'ally m', 'with t', 'its co', 'ture! ', 'uary i', 're lar', '. Unqu', 'hey re', 'comput', 'dware\\xa0', 'ucture', 'of imp', 'atic r', 'in, se', 'ded by', 'racque', 'is a m', 'er? A ', 'sia, t', 't can ', 'hat in', 'matici', ' net a', ' can b', \"nent's\", 'to str', 's stru', 'fessio', 'scribe', 'and St', 'de all', 'y Jobs', 'al who', 'the te', 'rd to ', 'quatic', 'd Stev', 'd to p', 'a fami', 'on\\xa0its', ' racqu', ' strik', 'scipli', 'sional', 'sity o', ' of tw', ' the f', ' extan', 'd Wozn', 'gical ', 'ed by ', 'tropic', 're to ', 'sues o', 'ts tha', ' a lot', 'terest', 'hbles.', 'rest t', 'to sho', 'eoreti', 'mily, ', 'lt ove', 'e form', 'd west', 'ce spa', 'garoo ', 'e, to ', 'mally ', 'o scor', 'lly a ', 'study ', 'e a go', '\\xa0infor', 'ncerta', 'limite', 'he mea', ' yours', 'footba', ' incor', 'o play', '\\xa0algor', 'of the', ' wire ', 'he fam', ' of te', 'be use', 'nding ', 'velop ', 'vered ', 'fun! A', 'podida', '7, and', 'can be', 'd even', 'ant to', ' to pr', 'ost po', 'f, or ', 'redict', 'and of', 'in dou', 'oot\").', 'ight o', 's of r', 'even m', 'onents', 'ence s', ' and S', 'grey k', 'to pro', 'nis ra', 'ralize', 'o shap', '. Are ', 'rd foo', ' of ad', 'd is a', 'here i', 'e\\xa0and\\xa0', 'pple I', 'lized ', 't peop', 'rporat', ' of im', 'oo is ', 'ayer u', 'eal ph', 'ardwar', 's the ', 'rmulat', 'de ins', 't is s', 'ues of', 'predic', 'in\\xa0har', 'ne kan', 'ngles)', 'ily of', ' Croco', 'arial ', 'ials f', 'ion to', 'sight ', 'struct', ' enjoy', 'h or f', 'that c', 'by Ste', 'ude al', 'ogical', 'rougho', 'obs an', 'ualifi', 's) or ', 't oppo', 'u an a', 'ate ne', 'rom an', 'a, Asi', 'ning c', 'popula', 'odels ', 'materi', 'y, lod', 'hat li', \"t's co\", 'deals ', 'ge foo', 'uatic ', 'alia. ', 'discip', 'uremen', 'na, ma', ' antil', 'rraria', 'e I pe', 'asonin', 'al str', ' your ', 'oubles', 'Terrar', ' myste', 'omputa', ' live ', 't are ', 'zed co', ' ball ', 'y to i', 'henome', 'r uses', 'er? Th', 'ystems', '; they', 'ormati', 'de, ve', 'nd Ron', ' teams', 'cal pr', 'e you ', 'nc. in', 'heoret', 'two te', 'ess pr', '. It w', 'res ar', 'tless.', 'hen ma', ' issue', 'ng \"la', 'order ', 'ally f', 'or eve', 'meanin', 'implem', 'y of\\xa0a', 'ou wan', 'arge f', 'by Job', 'is a b', 'r, Inc', 'onding', 'd to d', 'easter', 'ction ', 'roo, e', ' perso', 'word i', 's with', 'ures a', 'ple wi', 'an be ', 'rn gre', ' to sh', ' An ex', '? An e', 'ertain', 'uncert', 'ey kan', '\"). In', 's a bu', 'ical m', 'ed a l', 'someti', 'ow rub', 'ter so', 'rs of ', 'gement', 'r a ne', 's a te', 'truth ', 'erm cr', 'thms,\\xa0', 'trigge', '1976 t', 'r opti', 't was ', 'egrees', ' speci', 'o, and', 'll nor', 'cians ', 'orm of', 'om thi', 'eptile', ' is of', '! A la', ' maste', 'ball i', 'ed com', 'e extr', 'ouhble', 'nd sal', 'putati', ' each ', 'eve. I', 'th cor', 'covere', 'odile ', 'used e', 'reason', 'red ka', 'rovide', 'ally a', 'ch pla', ' sport', 'et tha', 'rike a', 'h a wi', 'is a l', 'nd wes', 'onomic', 'that i', ' build', 'ning i', 'oppone', ' a rac', 'odity ', 'agains', '. Your', 'mpleme', 'mmon u', 'esolve', 'ainty.', 'nd sel', 'modity', 'unded ', 'ocesse', 'njoy. ', ' disci', 'all no', 've thr', 'ant me', 'arying', 'of mys', 'everyo', 'iduall', 'your f', 'attern', 'l. Unq', ' and s', 'und a ', ' and R', 'ly Cro', ' tropi', 's cour', 'ing is', 'It spa', 'is use', ' we st', 'he stu', 'aria i', ' goal.', 'e new ', 'of adv', 'e limi', 'ines\\xa0a', ') or t', 'teve W', 'Each p', 'd and ', 'large ', '. In c', '\\xa0to th', 'rs eac', 'er use', 'y from', 'mathem', 'ae (ma', ' easte', 'iak as', 'atical', 'e\\xa0is t', 'in Ter', 'all ex', 'hmic p', 'an act', 'r ever', 'r or a', 'ter sc', 'ractio', ' defen', 'round ', 'g for ', 's are ', ' to fo', 'alized', 'rm of ', 'uilder', 'es, ma', 'on use', 'ge sem', ' in do', ' or ot', ' want ', 'rs to ', 'erns t', 'igger ', 'single', 're the', 'eve Jo', 'nteres', 'real p', 'ca, As', 't that', 'ine ka', 'hardwa', 'nded b', ' croco', 'volve,', 'rns to', 'means ', ' the c', 'rica, ', 'team s', 'tion\\xa0i', 'er fin', 's in T', ' fun! ', 'ndivid', 'ple Co', 'r? The', ', grew', '\\xa0itsel', ' sales', 'n\\xa0hard', 'ket th', 'includ', ' good ', ' machi', 's\\xa0and\\xa0', 'ional,', 'pe, de', 'nd Ste', 'tures ', ' and i', 'mily o', 'and Au', 'st to ', ' this ', 'ular w', 'ayed i', 'e! A l', 'ement ', 'terns ', 'ther g', 'ures; ', 'format', 'he App', ' by Jo', 'that l', 'practi', 'l stru', 'eans t', 'efend,', 'stern ', 'puters', 'd\\xa0comp', 'tracti', 'sk and', ' of th', 'joy. Y', 'we stu', ' kicki', 'usines', 'vide i', \"that's\", 'ning \"', 'issues', 'rrespo', ' optio', ' infor', 'cies f', 'd of m', 'or aro', 'ericas', 'n 1977', 'wo pla', '? Ther', 'you an', 'ods, m', 'true c', 'ales o', ' Inc. ', 'e the ', 'oof. W', 'n douh', 's actu', 'les ar', \"niak's\", 'eople ', 'bs, St', 'busine', 'f valu', 'y algo', 'ional ', 'ike a ', 'ompute', 'wire t', ' econo', 'd grew', \"k's Ap\", 'r? A c', 'qualif', 'is rac', 'quet s', 'ple wa', 'antilo', 'into t', ' busin', 'pple C', 'two pl', ' 1976 ', ' to de', 'ae) or', 'n\\xa0to t', 'ion it', ' cord ', 'rer? T', 'alsity', 'kangar', 'ed aga', ' seam,', 'ng can', 'ennis ', 'An act', ' 1977,', 'en we ', 'le Com', 'un! A ', 'here t', 'reef, ', ' cover', ', comp', 'tion\\xa0t', ' I per', 'ropodi', 'uet sp', 'a mars', ', the ', 'as fou', 'scienc', ' you a', 'cal is', 'uding ', 'eaning', 'e play', 'hout t', 'ecture', 'ams of', 'he for', 'o vary', 'al, an', 'iles t', 'ach (d', 'racket', 'bles).', 'r scie', 'system', ' Your ', 'minera', 'ion\\xa0an', 'ptiles', 'Comput', 'rew qu', 'osits ', ' tenni', ' provi', 'n more', 'rom th', 'n two ', 'o comp', 'layers', ' proce', 'dy of\\xa0', 'e foot', 'l who ', 'a are ', 'hy tri', 'll as ', 're a g', 'ia is ', 'tself.', 'nd\\xa0sof', 'arge s', 'indivi', 'nomic ', 'sell W', 's were', 'ary is', 'g with', '6 to d', 'body, ', ' use t', 'yours ', ', as w', '\\xa0and\\xa0s', ' in Af', 'are li', 'person', 'lgorit', ' popul', 'mes us', 'e anti', 'is pla', 'the wo', 'h (dou', 'myster', 'y agai', '976 to', 'tic re', 'a mine', 'isk an', 'ething', ' a ten', 'ur opt', 'for ev', '(macro', 'imitle', 're you', \"nt's c\", 's a di', 'le I p', 'lly fr', 'ons in', 'me of ', 'enting', 'a racq', ' geolo', ' means', 'y reso', ' to in', 'he red', ' was f', 'nature', ' betwe', 's each', 'ales w', ', lode', 'of tea', ' marsu', 'ls of ', ') or b', ' shape', 'nting ', 'pial f', 'nald W', 'l as t', ' unlim', 'le was', 'use th', 'and th', 'ot peo', 'chines', 's and ', 'e Comp', ' topic', 'as the', \"'s som\", 'ineral', ' usual', 'dylida', 's some', 'al mac', ' Unqua', 'The ka', 'r geol', ' in\\xa0ha', 'land o', 'algori', 'cord t', 'roof. ', 'used t', 'is fam', 'ou an ', ' It wa', ' study', 's play', 's form', 'lly me', 'ayed a', 'ng com', 's a ra', 'nlimit', ' form ', ' a wir', 'y kang', 'z over', 'e of t', ' gamer', 'ness p', 'luding', 'hat ca', 's is r', 'and en', 'omethi', 'yers i', 'develo', 'is the', 'c proc', 'opodid', 'nd man', ' itchy', ' were ', 'ity th', ' measu', 'Inc. i', ' reef,', 'ems in', 'ne, co', 'her ge', 'ormula', ' a goa', '\\xa0softw', ' syste', 'ns to ', 'orer? ', 'eologi', 'teams ', ' of to', 'n 1976', '1977, ', 'ied, t', ' Ronal', 'er bal', 'o, eas', 's. Are', 'veryon', 'f topi', ' for e', 'resolv', 'econom', 'ses, m', ' aroun', 'ughout', 'l cove', 'ty. Th', 'jectur', 'ield i', 'le is ', 'ng the', 'n! A l', ' again', 'Africa', 'nt mem', 'ts com', 'ord to', 'ng a b', ' profe', 'ementi', 'he pra', ' the o', 'les). ', 'ylidae', ' a mar', 'es fro', ' is th', 'nt of ', ' place', 'descri', 'A mast', 'n use ', 'ollow ', \"hat's \", \" that'\", 'ire to', 'dity t', 'l to s', 'limitl', 'of two', 'or oth', 'When m', 'aning ', ' a lan', 'felt o', 'h felt', 'se the', 'n, sea', 's prof', 'mon us', 'ocodil', ' uncer', 'r? A m', 'g fiel', 'nal, a', ' are g', ' model', 'nent (', 'll tha', 'hing f', 'ide in', 'e trut', ' of it', 'codyli', 'ame of', 'patter', 'ed ind', 'option', 'ly aga', 'llow b', ' These', 'yer us', 'ers in', 'ing de', ' of al', 'are\\xa0an', 'd use ', 'm croc', 'ing th', 'a goal', 'f such', 'itchy ', 'matica', 'uhbles', 'erials', 't and ', 'y trig', 'iles a', '\\xa0As a ', 'nts or', ' body,', 'o is a', 'the mi', 'ubles)', 'pecies', ' is pl', 'finger', 'l phen', 's, mac', 'quickl', 'tchy t', 'Steve ', 'mentin', 'der? A', 'of\\xa0alg', 'les th', 'ell as', 'terial', 'over a', 'th fuz', ' other', 'throug', 'le opp', 'the co', ' invol', ' large', 'ung wi', '. The ', 's to s', ' peopl', 'mic pr', 'ue cro', ' order', 'uickly', 'es (fa', 'erybod', 'o desc', 'n and ', 'ball t', ' the w', 'rt tha', ' all e', ' more ', 'people', 'es,\\xa0co', 'ters, ', 'e prac', ' It sp', ', incl', ' kanga', ' Apple', ' of fu', 'is a f', 'new co', 'ommodi', 'of foo', 'reptil', 'nclude', 'l mate', 'y, the', 'als fr', ' the e', ' douhb', 'gorith', 'st opp', 'o form', ' pract', 'ty of ', ' by ma', ' falsi', 'et spo', 'easoni', 'lement', 'er wit', 'tion\\xa0a', 'rge fo', 'ily Ma', 'betwee', 'explor', 'A land', 'to var', 'd\\xa0soft', 'ith a ', 'mputat', 's inco', ' over ', ' and c', ' be pl', 'al. Un', 'ingle ', ' or pl', 'rm a m', 'dels o', 'elt ov', ' Do yo', 'nd unc', 'or pre', ' semia', 'u want', 'st pop', 'diles ', 'a holl', 'ctuari', 'on to ', ' struc', 'n Afri', ' depos', ' as Ap', 'al rea', 'aluabl', 'w quic', 'oo, as', 'crocod', 'al phe', 'ed. Do', ' There', 'h the ', 'e orde', 'hape, ', 'you wa', 're is ', 'd comp', 'In com', 'agemen', 'th fel', 's comp', ' are u', 'r buil', 'posit.', 'at are', 'sed a ', 'ing \"l', 'om the', 'd kang', 'he mos', 'ematic', 'en mor', 'porate', 'ying d', ' court', 't spec', ' is ra', ' land ', 'Tennis', 'cket t', 'upial ', 'omena,', 'mation', ' from ', 'of its', 'out th', 'ble mi', 'en two', 'ns in ', 'y Stev', 'xtant ', 'es are', 'spondi', 'e, com', 'a wire', 'a, the', '(doubl', 'idae) ', ' Jobs,', 'range ', 'ery! A', 'and un', 'A coll', ' natur', ' most ', 'es tha', 'f myst', ' somet', 'rmatio', ' In co', 'ollect', 'elop a', 'opine ', 't over', 'pods, ', 'intere', 't popu', 'ans th', ' seek ', 'of pla', 'h fuzz', 'dy, lo', 'mmodit', 'est to', 'to inc', 'er bui', 'd sell', 'sed ev', 'Ronald', 'cas an', 'e Eart', 'sureme', 'eals w', 'er, In', 'and in', 'l that', ' was i', 'l from', 'nd, an', ' softw', ' Are y', 'rm is ', 'ricas ', ' \"larg', 'al sci', 'advent', 'e span', 'lar wh', 'ia, th', ', mean', 'commod', ', usua', 'respon', 'as inc', ' of su', 'oretic', 'e Amer', 'e semi', ' loose', 'le min', 'lidae)', 'd\\xa0info', 'ers, i', 'ciplin', \"iak's \", ' is ac', 'iscipl', 'ns the', \"ere's \", 'ple II', 'ria ar', 're bod', 'th, us', 'udy of', 'l reas', 'rubber', 'ef, or', 'profes', 'ity of', 'ss. Ar', 'lacer ', 'to for', 'pans a', 're! A ', 'e, def', 'opics ', 'e trop', ' about', 'enture', 'they r', 'ics in', 'e and ', 'itless', 'the st', 'ventur', 'c rept', ' the a', 'dividu', 'corres', 'ports ', ' (doub', 'ctor? ', 'ncludi', \"ent's \", 'e in 1', 'I, gre', 'inger?', 'founde', 'te new', ' Asia,', 'ak as ', 'ralia.', 'ing ca', 'nnis i', 'ket sp', 'rue cr', 'end, a', 'or tea', 'n itse', 'such b', 'm the ', 'r soft', 's racq', 'c. in ', ' they ', 'ctions', 'rofess', 'th you', ' to sc', 'ithmic', 'l proo', 'certai', 'ithms,', 'when w', 'n\\xa0itse', ', mach', 'These ', 'rs, in', 'argest', 'want t', 's, Ste', 'at liv', 'd, the', 'evelop', 'd info', 'he kan', 'o incl', 'llecto', 's of t', 'uch by', 'larges', ' A lan', ' algor', 'es a r', 'eek an', 'p and ', 'he cor', ' a net', 'onal m', 'l issu', 'rs in ', 'tween ', 't\"). I', 'ulate ', 'of ris', 'corpor', 'mited.', ' of pl', ' to st', ' a sin', 'cking ', 'hoot p', 'ical i', 'ts or ', 'h cord', 'nsight', 'and\\xa0in', ' resol', 'ed eve', 'e name', 'g is t', 'in Afr', 'use pa', '(famil', 'with f', 'fend, ', 'hines ', 'dy alg', 'f play', ',\\xa0comp', 'the Ap', 'thms, ', 'garoo,', 'rithmi', 'ing fi', 'd foot', ' shoot', 'ribe t', 'f fun!', 'ware\\xa0a', 'n Terr', 'where ', 'nce is', 'ght or', 't. The', 'urs to', 'w ball', ' deals', ' extra', 'nes\\xa0an', 'k and ', ' an ac', 'ms,\\xa0co', 'ter. I', 'lsity ', ' range', 'was in', 'varyin', 'and co', 'th the', 'utatio', 's,\\xa0com', 'of fun', 'tery! ', ' corre', 'iness ', 'he min', 'involv', ' true ', 'cquet ', \"'s cou\", ' and u', 'rees, ', 'pics i', 'e word', 'Crocod', 'good a', 'ts for', 'gainst', 'nd int', 'acket ', 'live t', 'f.\\xa0As ', 'f. Whe', 'hines\\xa0', 'our op', 'e unli', 've. It', ' adven', 'degree', ' Earth', 'es). E', '\\xa0and\\xa0i', 'strung', 'Your o', 'se dep', 's of p', 'thmic ', 'g the ', 'name o', 'wo tea', 'ne in ', 'eef, o', 'There ', 'nents ', 'II, gr', 'a busi', \"e's so\", 'Asia, ', 'ith fu', 'ms of ', 'mbers ', 'rying ', 'e. It ', ' miner', 'oosely', 'ses,\\xa0c', 'tions ', 'ly to ', 'is act', 'ayers ', ' to th', 'cket s', 'e is w', ' a ran', 'seek a', 'dile i', 'with y', 'he lar', 'alifie', 'e meas', 'ile is', 'c inte', 'ropods', 'erm is', 'sses,\\xa0', 'ed to ', 'od and', 'all co', 'uter s', 'ed, th', 'his fa', 'ector?', 'of val', 'cribe ', 'als wi', 'niak, ', ' and g', 'ozniak', 'r fals', 'n expl', 'es of\\xa0', 'geolog', 'amily,', 'f team', 'ayne i', 'on of ', 'ion an', ' or be', 'op and', 'ter, I', ' Terra', 'gest s', 'ted. D', 'sses, ', 'amily ', ' quick', 'm this', 'ovide ', 'les. E', 'ting c', 's, and', 'onald ', ' uses ', ', to v', 't to t', 'y a th', 'ver or', ' colle', ' Afric', 'a is a', 'tant m', 'd that', 'dae (m', 'core a', 'oo, ea', 'Woznia', '. in 1', '). In ', 'ena, m', 'to the', 'layed ', 'ent of', 'ion\\xa0to', 'teve a', 'uarial', 'd Aust', 'st a s', 'icking', 'Apple ', 'ot\"). ', 's abou', 'ht or ', ' The t', 's seek', 'sales ', 'chy tr', ' is st', 'e all ', 'n grey', 'deposi', 'der? T', 'eams o', 'family', 'f its ', 'escrib', ' of va', 'xplore', 'ere th', ' conje', 'o shoo', 'g comp', 'h, usu', 'pline,', 'Earth,', 'times ', 'orm a ', ' two p', 'score ', 'actuar', 'nd inf', 'to sha', 'ruth o', 'other ', 'he nam', ' a bal', 'lf. It', 'o, as ', 'seam, ', 'e thro', 'fied, ', ' such ', ' as th', 'The te', 'uth or', ' of ec', ' fuzz ', 'and us', 'es. Ea', 'ies of', 'builde', 'omic i', 'sed to', 'nge of', 'is is ', 'logica', 'a rack', ' red k', 'd with', 'nto th', 'ions i', 'e is s', 'rybody', 'm, ree', 'lder? ', ' a min', 'etimes', ' oppon', 'al iss', 'n comm', 'rey ka', 'Mathem', ' grey ', 've the', 'y is a', ' itsel', ' strun', 'elf.\\xa0A', '76 to ', 'nal wh', 'lf.\\xa0As', 'rials ', ' name ', 'tion g', 'y. The', 'arsupi', 'estern', 'a. The', \"re's s\", 'of. Wh', 'r fing', 's; the', 'ng wit', 'als or', ' scien', 'nd Aus', 'idae (', 'ians s', 'he wor', 'opods,', 'ining ', 'f real', 'softwa', ' spans', 'ody, l', 'mily M', 'd of a', 'were g', 'ers of', 'es\\xa0and', 'retica', 'zniak,', 'in 197', 'clude ', 'l scie', 'rated ', 'lly ag', ' norma', '77, an', '). Eac', 'e mine', 'nageme', 'ial sc', 'ans a ', 'd indi', 'at inv', 's a la', 'acropo', 'll Woz', 's of a', 'a land', ' descr', 'tennis', 'or bet', 'Steve.', 'imited', 's a ma', ' thing', 'e oppo', ' actua', 'is whe', ' predi', 'bber b', 'uzz ov', 'aticia', 'odylid', 'ds, me', 'strike', '? A co', 'eam, r', 'pondin', ' throu', 'dies o', 'g degr', 'e depo', 'each (', 'eposit', 'mulate', 'posits', 've Job', 's or o', 'ere go', 'spans ', ' is a ', 'e corr', 'ent an', ' the l', 'onal w', 'master', ' foot\"', 'th an ', 'rocody', 'ion of', ' who d', 'loosel', ' commo', 'eve Wo', 'common', 'errari', 'n itch', ', reef', 'ange o', 'and Wo', 'tician', 'pponen', 'cal ma', 'tical ', 'the ex', 'the la', 'ience\\xa0', ', and ', 's fami', 'tudy o', 'played', 'ry! A ', 'ommon ', 'defend', 'er a n', ' field', 'mena, ', 'pple w', 'inst o', 'ctical', 'a rang', 'ic int', ' the A', 'roo is', 'gamer ', 'ing a ', 'ith fe', 'player', ' Steve', ', defe', '. Each', 't or p', 'tems i', 're com', 'ofessi', 'ponent', 'iaquat', 'siness', 'r betw', ' that ', 're lim', 'o you ', 'pics f', 'nd a n', 'ilder?', 'nal co', 'e term', ' where', 'f impl', 'ingles', 'nd\\xa0com', 'are go', ' word ', '(singl', 'ding t', 'dually', 'port t', ' or fa', 'd to s', '977, a', ' its c', 'someth', ' repti', 'lector', 'y Macr', 'aquati', 'f econ', 'uter, ', 'ey res', 'lve th', 'rung w', '\\xa0compu', ' a dis', 'y of s', 'm of f', 'ic pro', 'most p', 'is usu', 'unlimi', 'nt and', 'opular', 'luable', 'asurem', 'inty. ', ' when ', 'hat ar', 'der Cr', 'stery!', 't spor', 'e body', 'n game', 'd is u', 'tudy a', 'ents o', ' the t', 'tainty', 'ure! A', 'ic rep', 'ut the', 's, inc', 'r ball', ' and A', 'e Appl', 'lopine', 'ized c', ' A mas', ' lode,', 'or fal', 'al mat', 'd of f', 'angaro', ', Inc.', ' hollo', 's. Eac', 's (fam', 'ns a r', ' term ', 'low ru', 'actica', 'tralia', ' indiv', 'Unqual', ' even ', 'ours t', 'sports', 'al fro', ' and m', 'tudies', 'er geo', 'ar whe', ' a bus', 'al stu', 'and Ro', 'athema', 'ople w', 'sport ', 'cs fro', 'or? An', 'd into', ' the E', 'ent (s', 'nquali', 'ation\\xa0', \"There'\", 'ith th', ' team ', 'trung ', 'ls or ', ' new c', 'nty. T', 'rals o', 'lude a', 'n to c', 'r true', 'er. It', 'the an', ' footb', 'f two ', ' as we', 'm spor', 'anagem', 'douhbl', 'l exta', 'he ant', 'is of ', 'a tenn', '\"large', 's used', 'ted by', 'soning', 'ans se', 'ms in\\xa0', 'ical r', 'raria ', 'tion o', 'l mach', 'tuary ', 'hen we', 'e red ', 't invo', 'ses a ', 'rm cro', 'macrop', 'ons ab', 'astern', 'around', ' is wh', ' finge', ' is us', 'tball ', 'res; t', 'oal. U', 'lia. T', 'st spe', 'and sa', 'l stud', 'cs in ', 'ball n', ' and w', 'be pla', 'ch (do', 'Wayne ', 'll cov', 'ies fr', ' or pr', 's that', 'k, and', 's when', ' real ', 'the Am', 'ica, A', 'ess. A', 'amer w', 'se pat', 'nd\\xa0inf', 'imes u', 'collec', 'ald Wa', 'field ', ' two t', 'd by S', 'nd gre', 'tion i', 'r Croc', 'o the ', 't is p', 'red wi', 'y. You', 'the mo', 'plorer', 'theore', 'ateria', ' The n', ', vein', 'usuall', 'f the ', 'risk a', 'e patt', 'iak, a', ' with ', 'ely to', 'onal c', 'ine, c', ' manag', ' is so', ' sell ', 'tern g', 'and we', 'al pro', 'les) o', \"zniak'\", 'used a', 'e, vei', 'es) or', 'shape,', 'mputer', 'ore bo', 'odidae', 'ropics', 'f\\xa0algo', 'solve ', 'yed ag', ' (fami', 'ily Cr', 'ines t', 'orts t', '\\xa0hardw', 'ics fr', 'everyb', 'ow bal', 'all th', 't memb', 'Americ', 'ment o', 'puter.', 'Mining', 'and ma', 'ek and', 'ered w', 'iction', 'ach pl', 'verybo', 'sits f', 'itself', 'th or ', 'Jobs, ', ' risk ', 'enjoy.', 'form o', 'ell Wo', 'a sing', 'r wher', 'ence i', 'ew con', 'ween t', 'en mat', 'hrough', 'vidual', 'with a', 'self.\\xa0', 'the or', 'd a ne', 'the Ea', 'ootbal', 'cal st', 'land t', 'osit. ', 'conjec', 'of rea', 'ode, v', 's to f', ' of\\xa0al', 'm a mi', 'ith yo', 'ia. Th', 'ation ', 'ed kan', 'r arou', 'e with', 'ounded', 'he tru', 'rithms', 'orated', ' Compu', 'elf. I', 'ecies ', 'm an o', 'r team', 'and gr', 'ord is', 'hese d', 'marsup', 'mer wi', 'espond', 'y Croc', 'or pla', 'orresp', 'ified,', 'n math', 'a ball', 's, mea', 'are co', 'ple I ', 'es use', 'placer', 'nd enj', 'd mana', 'of alg', 'the tr', 'nal sy', 'the fo', 'goal. ', 'n of v', 'etical', ' or tr', 'acer d', 'and se', 'nerals', ' use p', ' grew ', 'on its', 'grees,', 'ly Mac', 'yne in', 'from t', 'llow r', ' explo', 'incorp', 'zniak ', ' score', 'nce sp', 's of i', 'osely ', ' in 19', 'les we', ' a fam', ' the r', 'cience', 'supial', 'teve J', 'he tro', 'er sof', 'ding f', 'ld Way', 'embers', 'themat', 'ibe th', ' singl', 't live', ' Each ', 'ho dea', 'was fo', 'les (f', 'a thin', 'Macrop', 'nture!', 'manage', 'd by J', 's, kic', 'teve. ', 'dictio', 'from a', '.\\xa0As a', 'ew qui', \"ak's A\", ' Ameri', 'metime', ' limit', 'miaqua', 'quet t', 'f algo', '. It s', 'y of t', ' Wayne', 'ort th', 'e larg', 're unl', 'gles) ', 'sually', 'didae ', ', math', 'pine k', 'ood mo', 'n we s', 'r pred', 'nvolve', 'am spo', 'eryone', 'mic in', 'er Cro', 'studie', \"t's yo\", 'ated b', 'd. Do ', 's well', 'y math', 'r with', ' of ri', 'term c', 'its fo', 'a, mat', 'on and', 'member', 're goo', 'rocodi', 'r. It ', 'more l', 'ith co', 'd a lo', 'at can', ' and e', ' compu', 'njectu', \"onent'\", 'lified', 've and', 'e good', 'frica,', 'low ba', ' (sing', ' in Te', ' devel', 'd unce', 'lode, ', ' pheno', 'oo, an', 'o prov', 'is str', 'le wit', 'le II,', 'he ter', 'n be u', 'ormall', 'ty tha', 'eve an', 'odiles', 'nes th', 'is a r', 'ing fo', 'Footba', 'om an ', 'er or ', ' patte', 'arth, ', ' inclu', 'y mean', 'nce\\xa0is', 'e is u', 'll to ', ' to co', 'd mode', 'r othe', 'e used', 'ger? A', 'puter ', 'aroo, ', 'ntilop', 'ke a h', ' valua', 's or t', 'nal ma', 'phenom', 'e to s', 'methin', 'erest ', ' or te', 'eam sp', ' Jobs ', 'ipline', \"'s you\", 'hms, a', 'vein, ', 'kickin', 't (sin', 'ng deg', 'yed in', 's). Ea', ' found', 'g can ', 'd Wayn', 'action', 'm theo', 'well a', 'nd of ', 'models', 'onal s', 'Are yo', 'gger f', 'form a', 'est sp', 'tterns', 'erals ', 'valuab', 'provid', 'ood an', 'hollow', ' well ', 'er dep', 'ustral', 'rement', 'conomi', 't is o', 'specie', 'rsonal', 't span', 'ce\\xa0is ', 'ce is ', ' used ', ' are l', 'the me', ' actio', '. Thes', 'ctures', 'n be p', 'onent ', 'net an', 's a fa', ' ore b', ' the s', 'codile', 'he opp', 'es a t', 'fuzz o', 'ctuary', 'cal re', 'formul', 'tructu', \"'s App\", 'e loos', ' Wozni', 'y that', 'inst a', 'e kang', ' you w', 'icas a', 'ly of ', 'ly a t', 'eraliz', 'rgest ', 'Jobs a', 've, to', 'ly fro', 's in d', ' truth', 'to dev', 'he ord', 'ical p', 'ssues ', 'ial fr', 'et and', 'aster ', 'to des', 'ore lo', 'ry is ', ', east', 'ersona', 'ese de', 'and\\xa0so', 'y! A l', 'tation', 'ructur', 't natu', ' II, g', ' racke', 'wester', 'nt to ', 'ven mo', 'nd tha', 'ing co', 'e (mac', 'on gam', ' playe', 'out na', 'yers e', 'e II, ', 'ein, s', 'self. ', 'ationa', 'e Wozn', 'd enjo', 'e Jobs', 'bers o', 'ees, k', 'nd use', 'ocodyl', ', Asia', 'obs, S', 'ns abo', '. Do y', 'l comp', 'topics', ' imple', ' into ', 'this f', 'd, and', ' an it', 'onject', 'lve, t', 'l is a', 'Do you', 'double', 'olve, ', 'e stud', 'e croc', 'bout n', 'ng fie', 'emiaqu', 's your', 'icians', 'extrac', 'normal', 'ng for', 'nforma', 'with c', 'ter bu', 'tures;', ' (macr', 'e a ho', 't to s', \"at's y\", ' Macro', 'udies ', 'l, and', 'nnis r', 'o team', 'tional', 'the re', 'term i', 'to sco', 'ptions', 'al com', 'ly, th', 'n\\xa0and\\xa0', 'trike ', 'ical s', 'ore a ', 'ape, d', 'er sci', 'uters,', ' are c', 'a disc', 'g a ba', 'ologic', 'rts th', ' felt ', 'onal, ', 'th a w', 'tiles ', 'es; th', 'aroo i', ' reaso', 'l Wozn', 'd agai', ' every', 'an ore', 'by mat', 'f. It ', 'k as A', 'The na', 'measur', 'ily, t', ' or ar', 'll ext', 'll is ', ' the p', 's is a', 'cesses', 'g is u', ' Austr', 'es of ', 'late n', 'rge se', 'ed wit'}\n"
          ]
        },
        {
          "output_type": "stream",
          "name": "stderr",
          "text": [
            "\n"
          ]
        },
        {
          "output_type": "execute_result",
          "data": {
            "text/plain": [
              "(15, 2498)"
            ]
          },
          "metadata": {},
          "execution_count": 9
        }
      ]
    },
    {
      "cell_type": "code",
      "metadata": {
        "colab": {
          "base_uri": "https://localhost:8080/"
        },
        "id": "1SquPt-rXBz9",
        "outputId": "5020dabc-7817-4009-dff3-1a61af127e3a"
      },
      "source": [
        "vocab = build_vocab(shingles)\n",
        "\n",
        "len(shingles)"
      ],
      "execution_count": null,
      "outputs": [
        {
          "output_type": "stream",
          "name": "stdout",
          "text": [
            "{'ssiona', 'mitles', 'tor? A', 'ractic', 'ncorpo', 'dventu', 'king a', 'roo, a', ' meani', 'w rubb', 'cludin', 'eld is', 'ystery', 'nger? ', 'ment a', 'all is', 'orithm', 'l syst', ' membe', 'it. Th', 'rial s', 'ainst ', 'ubber ', 'and\\xa0co', 's Appl', 'ividua', 'zz ove', 'pular ', 'e most', 'tion a', 'ive th', 'a net ', 'gle op', 'enomen', 'd Rona', 'ak, an', 'stems ', ' the m', 'inform', 'l norm', '? A ma', 'al sys', 's from', ' mathe', 'rder C', 'rtaint', 'rd is ', 'It was', 'm is u', 'to com', 'am, re', 'ia are', 'as App', 'ut nat', 'f foot', 're\\xa0and', ' insig', 'ion\\xa0it', ' of my', 'e fami', 'n acti', 'nd Woz', 'are un', 'ession', ' formu', ' of fo', 'f adve', 'sonal ', ' to va', 'xtract', ' trigg', 'As a d', 'codili', 'foot\")', 'bles. ', 'ers ea', 'on\\xa0and', 'be the', 'insigh', 'about ', 'grew q', 's usua', 'o deal', 'ound a', 'ls wit', 'nst op', 'line, ', 'tilopi', 've Woz', 'shoot ', 'machin', 'n ore ', 'otball', 'cropod', 'ge of ', ' A col', 's of e', 'ere is', 'he ext', 'e comp', 'ometim', 'n actu', 'ster b', 'oy. Yo', ' weste', 'nt (si', 'ria is', 'good m', 'cer de', 'ited. ', 'are la', 'ly mea', 'ence\\xa0i', 'es, ki', 'thing ', 's of\\xa0a', 'rigger', 'etween', 'ns see', 'ngle o', '\\xa0and\\xa0c', '. When', 'els of', 'nomena', 'falsit', 'ver a ', 'proces', 'ghout ', ' varyi', 'ld is ', \"here's\", 'r depo', 'olve t', 'rmally', 'all to', 's in A', 'nd com', 'o stri', 'oot pe', 'lorer?', 'an itc', 'dae) o', 'able m', ' of re', 'the pr', 'orpora', 'f risk', 'udy al', 'aria a', 'nerali', ' by St', 'hat is', 'tuaria', 'proof.', 'ms, an', 'edicti', 'o deve', 'r plac', ' studi', 'mily C', ' theor', 'es wer', 'nst a ', 'uet th', 't is t', 'as and', 'of suc', 'uses a', 'h play', 'h an i', 'extant', 'lop an', 's foun', 'word f', ' an or', 'puter,', 'semiaq', 'strali', 'the fa', 'of top', ' a thi', 'as wel', 'oftwar', 'e insi', 'ience ', 'is som', 'oning ', ', Stev', 'or tru', 'hemati', 'uable ', 'rocess', 'I pers', 'ith an', 'rth, u', 'ern gr', 'who de', 't the ', 'ng is ', ' inter', ' mater', 'd comm', 'h by m', 's in\\xa0h', 'rsupia', 'at is ', 'less. ', 'ball c', '\\xa0is th', 'easure', 'ions a', ' famil', 'g \"lar', 'Austra', 'ngaroo', 'uter. ', 'een tw', 'our fi', 'ually ', 'ion ga', ' vein,', 'ur fin', 'ber ba', 'ls fro', 'merica', ' be us', 'tion t', 'r? An ', ' degre', ', or p', 'h your', 'the op', 're loo', 'niak a', 'hms,\\xa0c', 'iles (', ' When ', 'd sale', 'over o', 'layer ', 'ord fo', 'plemen', 'acquet', 'achine', 'od mod', 'that a', 'oughou', 'ftware', ' proof', 'nis is', 'sit. T', 'ch by ', 'sely t', 'w conj', ', kick', 'on\\xa0to ', 'bs and', 'e was ', 'ss pro', 'overed', 'e) or ', 'rdware', 'ilopin', 'he Ame', ' and W', 'An exp', 'les of', 's rack', ' a hol', 'ger fi', ', seam', 't of r', 't a si', 'he Ear', ' rubbe', 'esses,', 'of eco', 'ally m', 'with t', 'its co', 'ture! ', 'uary i', 're lar', '. Unqu', 'hey re', 'comput', 'dware\\xa0', 'ucture', 'of imp', 'atic r', 'in, se', 'ded by', 'racque', 'is a m', 'er? A ', 'sia, t', 't can ', 'hat in', 'matici', ' net a', ' can b', \"nent's\", 'to str', 's stru', 'fessio', 'scribe', 'and St', 'de all', 'y Jobs', 'al who', 'the te', 'rd to ', 'quatic', 'd Stev', 'd to p', 'a fami', 'on\\xa0its', ' racqu', ' strik', 'scipli', 'sional', 'sity o', ' of tw', ' the f', ' extan', 'd Wozn', 'gical ', 'ed by ', 'tropic', 're to ', 'sues o', 'ts tha', ' a lot', 'terest', 'hbles.', 'rest t', 'to sho', 'eoreti', 'mily, ', 'lt ove', 'e form', 'd west', 'ce spa', 'garoo ', 'e, to ', 'mally ', 'o scor', 'lly a ', 'study ', 'e a go', '\\xa0infor', 'ncerta', 'limite', 'he mea', ' yours', 'footba', ' incor', 'o play', '\\xa0algor', 'of the', ' wire ', 'he fam', ' of te', 'be use', 'nding ', 'velop ', 'vered ', 'fun! A', 'podida', '7, and', 'can be', 'd even', 'ant to', ' to pr', 'ost po', 'f, or ', 'redict', 'and of', 'in dou', 'oot\").', 'ight o', 's of r', 'even m', 'onents', 'ence s', ' and S', 'grey k', 'to pro', 'nis ra', 'ralize', 'o shap', '. Are ', 'rd foo', ' of ad', 'd is a', 'here i', 'e\\xa0and\\xa0', 'pple I', 'lized ', 't peop', 'rporat', ' of im', 'oo is ', 'ayer u', 'eal ph', 'ardwar', 's the ', 'rmulat', 'de ins', 't is s', 'ues of', 'predic', 'in\\xa0har', 'ne kan', 'ngles)', 'ily of', ' Croco', 'arial ', 'ials f', 'ion to', 'sight ', 'struct', ' enjoy', 'h or f', 'that c', 'by Ste', 'ude al', 'ogical', 'rougho', 'obs an', 'ualifi', 's) or ', 't oppo', 'u an a', 'ate ne', 'rom an', 'a, Asi', 'ning c', 'popula', 'odels ', 'materi', 'y, lod', 'hat li', \"t's co\", 'deals ', 'ge foo', 'uatic ', 'alia. ', 'discip', 'uremen', 'na, ma', ' antil', 'rraria', 'e I pe', 'asonin', 'al str', ' your ', 'oubles', 'Terrar', ' myste', 'omputa', ' live ', 't are ', 'zed co', ' ball ', 'y to i', 'henome', 'r uses', 'er? Th', 'ystems', '; they', 'ormati', 'de, ve', 'nd Ron', ' teams', 'cal pr', 'e you ', 'nc. in', 'heoret', 'two te', 'ess pr', '. It w', 'res ar', 'tless.', 'hen ma', ' issue', 'ng \"la', 'order ', 'ally f', 'or eve', 'meanin', 'implem', 'y of\\xa0a', 'ou wan', 'arge f', 'by Job', 'is a b', 'r, Inc', 'onding', 'd to d', 'easter', 'ction ', 'roo, e', ' perso', 'word i', 's with', 'ures a', 'ple wi', 'an be ', 'rn gre', ' to sh', ' An ex', '? An e', 'ertain', 'uncert', 'ey kan', '\"). In', 's a bu', 'ical m', 'ed a l', 'someti', 'ow rub', 'ter so', 'rs of ', 'gement', 'r a ne', 's a te', 'truth ', 'erm cr', 'thms,\\xa0', 'trigge', '1976 t', 'r opti', 't was ', 'egrees', ' speci', 'o, and', 'll nor', 'cians ', 'orm of', 'om thi', 'eptile', ' is of', '! A la', ' maste', 'ball i', 'ed com', 'e extr', 'ouhble', 'nd sal', 'putati', ' each ', 'eve. I', 'th cor', 'covere', 'odile ', 'used e', 'reason', 'red ka', 'rovide', 'ally a', 'ch pla', ' sport', 'et tha', 'rike a', 'h a wi', 'is a l', 'nd wes', 'onomic', 'that i', ' build', 'ning i', 'oppone', ' a rac', 'odity ', 'agains', '. Your', 'mpleme', 'mmon u', 'esolve', 'ainty.', 'nd sel', 'modity', 'unded ', 'ocesse', 'njoy. ', ' disci', 'all no', 've thr', 'ant me', 'arying', 'of mys', 'everyo', 'iduall', 'your f', 'attern', 'l. Unq', ' and s', 'und a ', ' and R', 'ly Cro', ' tropi', 's cour', 'ing is', 'It spa', 'is use', ' we st', 'he stu', 'aria i', ' goal.', 'e new ', 'of adv', 'e limi', 'ines\\xa0a', ') or t', 'teve W', 'Each p', 'd and ', 'large ', '. In c', '\\xa0to th', 'rs eac', 'er use', 'y from', 'mathem', 'ae (ma', ' easte', 'iak as', 'atical', 'e\\xa0is t', 'in Ter', 'all ex', 'hmic p', 'an act', 'r ever', 'r or a', 'ter sc', 'ractio', ' defen', 'round ', 'g for ', 's are ', ' to fo', 'alized', 'rm of ', 'uilder', 'es, ma', 'on use', 'ge sem', ' in do', ' or ot', ' want ', 'rs to ', 'erns t', 'igger ', 'single', 're the', 'eve Jo', 'nteres', 'real p', 'ca, As', 't that', 'ine ka', 'hardwa', 'nded b', ' croco', 'volve,', 'rns to', 'means ', ' the c', 'rica, ', 'team s', 'tion\\xa0i', 'er fin', 's in T', ' fun! ', 'ndivid', 'ple Co', 'r? The', ', grew', '\\xa0itsel', ' sales', 'n\\xa0hard', 'ket th', 'includ', ' good ', ' machi', 's\\xa0and\\xa0', 'ional,', 'pe, de', 'nd Ste', 'tures ', ' and i', 'mily o', 'and Au', 'st to ', ' this ', 'ular w', 'ayed i', 'e! A l', 'ement ', 'terns ', 'ther g', 'ures; ', 'format', 'he App', ' by Jo', 'that l', 'practi', 'l stru', 'eans t', 'efend,', 'stern ', 'puters', 'd\\xa0comp', 'tracti', 'sk and', ' of th', 'joy. Y', 'we stu', ' kicki', 'usines', 'vide i', \"that's\", 'ning \"', 'issues', 'rrespo', ' optio', ' infor', 'cies f', 'd of m', 'or aro', 'ericas', 'n 1977', 'wo pla', '? Ther', 'you an', 'ods, m', 'true c', 'ales o', ' Inc. ', 'e the ', 'oof. W', 'n douh', 's actu', 'les ar', \"niak's\", 'eople ', 'bs, St', 'busine', 'f valu', 'y algo', 'ional ', 'ike a ', 'ompute', 'wire t', ' econo', 'd grew', \"k's Ap\", 'r? A c', 'qualif', 'is rac', 'quet s', 'ple wa', 'antilo', 'into t', ' busin', 'pple C', 'two pl', ' 1976 ', ' to de', 'ae) or', 'n\\xa0to t', 'ion it', ' cord ', 'rer? T', 'alsity', 'kangar', 'ed aga', ' seam,', 'ng can', 'ennis ', 'An act', ' 1977,', 'en we ', 'le Com', 'un! A ', 'here t', 'reef, ', ' cover', ', comp', 'tion\\xa0t', ' I per', 'ropodi', 'uet sp', 'a mars', ', the ', 'as fou', 'scienc', ' you a', 'cal is', 'uding ', 'eaning', 'e play', 'hout t', 'ecture', 'ams of', 'he for', 'o vary', 'al, an', 'iles t', 'ach (d', 'racket', 'bles).', 'r scie', 'system', ' Your ', 'minera', 'ion\\xa0an', 'ptiles', 'Comput', 'rew qu', 'osits ', ' tenni', ' provi', 'n more', 'rom th', 'n two ', 'o comp', 'layers', ' proce', 'dy of\\xa0', 'e foot', 'l who ', 'a are ', 'hy tri', 'll as ', 're a g', 'ia is ', 'tself.', 'nd\\xa0sof', 'arge s', 'indivi', 'nomic ', 'sell W', 's were', 'ary is', 'g with', '6 to d', 'body, ', ' use t', 'yours ', ', as w', '\\xa0and\\xa0s', ' in Af', 'are li', 'person', 'lgorit', ' popul', 'mes us', 'e anti', 'is pla', 'the wo', 'h (dou', 'myster', 'y agai', '976 to', 'tic re', 'a mine', 'isk an', 'ething', ' a ten', 'ur opt', 'for ev', '(macro', 'imitle', 're you', \"nt's c\", 's a di', 'le I p', 'lly fr', 'ons in', 'me of ', 'enting', 'a racq', ' geolo', ' means', 'y reso', ' to in', 'he red', ' was f', 'nature', ' betwe', 's each', 'ales w', ', lode', 'of tea', ' marsu', 'ls of ', ') or b', ' shape', 'nting ', 'pial f', 'nald W', 'l as t', ' unlim', 'le was', 'use th', 'and th', 'ot peo', 'chines', 's and ', 'e Comp', ' topic', 'as the', \"'s som\", 'ineral', ' usual', 'dylida', 's some', 'al mac', ' Unqua', 'The ka', 'r geol', ' in\\xa0ha', 'land o', 'algori', 'cord t', 'roof. ', 'used t', 'is fam', 'ou an ', ' It wa', ' study', 's play', 's form', 'lly me', 'ayed a', 'ng com', 's a ra', 'nlimit', ' form ', ' a wir', 'y kang', 'z over', 'e of t', ' gamer', 'ness p', 'luding', 'hat ca', 's is r', 'and en', 'omethi', 'yers i', 'develo', 'is the', 'c proc', 'opodid', 'nd man', ' itchy', ' were ', 'ity th', ' measu', 'Inc. i', ' reef,', 'ems in', 'ne, co', 'her ge', 'ormula', ' a goa', '\\xa0softw', ' syste', 'ns to ', 'orer? ', 'eologi', 'teams ', ' of to', 'n 1976', '1977, ', 'ied, t', ' Ronal', 'er bal', 'o, eas', 's. Are', 'veryon', 'f topi', ' for e', 'resolv', 'econom', 'ses, m', ' aroun', 'ughout', 'l cove', 'ty. Th', 'jectur', 'ield i', 'le is ', 'ng the', 'n! A l', ' again', 'Africa', 'nt mem', 'ts com', 'ord to', 'ng a b', ' profe', 'ementi', 'he pra', ' the o', 'les). ', 'ylidae', ' a mar', 'es fro', ' is th', 'nt of ', ' place', 'descri', 'A mast', 'n use ', 'ollow ', \"hat's \", \" that'\", 'ire to', 'dity t', 'l to s', 'limitl', 'of two', 'or oth', 'When m', 'aning ', ' a lan', 'felt o', 'h felt', 'se the', 'n, sea', 's prof', 'mon us', 'ocodil', ' uncer', 'r? A m', 'g fiel', 'nal, a', ' are g', ' model', 'nent (', 'll tha', 'hing f', 'ide in', 'e trut', ' of it', 'codyli', 'ame of', 'patter', 'ed ind', 'option', 'ly aga', 'llow b', ' These', 'yer us', 'ers in', 'ing de', ' of al', 'are\\xa0an', 'd use ', 'm croc', 'ing th', 'a goal', 'f such', 'itchy ', 'matica', 'uhbles', 'erials', 't and ', 'y trig', 'iles a', '\\xa0As a ', 'nts or', ' body,', 'o is a', 'the mi', 'ubles)', 'pecies', ' is pl', 'finger', 'l phen', 's, mac', 'quickl', 'tchy t', 'Steve ', 'mentin', 'der? A', 'of\\xa0alg', 'les th', 'ell as', 'terial', 'over a', 'th fuz', ' other', 'throug', 'le opp', 'the co', ' invol', ' large', 'ung wi', '. The ', 's to s', ' peopl', 'mic pr', 'ue cro', ' order', 'uickly', 'es (fa', 'erybod', 'o desc', 'n and ', 'ball t', ' the w', 'rt tha', ' all e', ' more ', 'people', 'es,\\xa0co', 'ters, ', 'e prac', ' It sp', ', incl', ' kanga', ' Apple', ' of fu', 'is a f', 'new co', 'ommodi', 'of foo', 'reptil', 'nclude', 'l mate', 'y, the', 'als fr', ' the e', ' douhb', 'gorith', 'st opp', 'o form', ' pract', 'ty of ', ' by ma', ' falsi', 'et spo', 'easoni', 'lement', 'er wit', 'tion\\xa0a', 'rge fo', 'ily Ma', 'betwee', 'explor', 'A land', 'to var', 'd\\xa0soft', 'ith a ', 'mputat', 's inco', ' over ', ' and c', ' be pl', 'al. Un', 'ingle ', ' or pl', 'rm a m', 'dels o', 'elt ov', ' Do yo', 'nd unc', 'or pre', ' semia', 'u want', 'st pop', 'diles ', 'a holl', 'ctuari', 'on to ', ' struc', 'n Afri', ' depos', ' as Ap', 'al rea', 'aluabl', 'w quic', 'oo, as', 'crocod', 'al phe', 'ed. Do', ' There', 'h the ', 'e orde', 'hape, ', 'you wa', 're is ', 'd comp', 'In com', 'agemen', 'th fel', 's comp', ' are u', 'r buil', 'posit.', 'at are', 'sed a ', 'ing \"l', 'om the', 'd kang', 'he mos', 'ematic', 'en mor', 'porate', 'ying d', ' court', 't spec', ' is ra', ' land ', 'Tennis', 'cket t', 'upial ', 'omena,', 'mation', ' from ', 'of its', 'out th', 'ble mi', 'en two', 'ns in ', 'y Stev', 'xtant ', 'es are', 'spondi', 'e, com', 'a wire', 'a, the', '(doubl', 'idae) ', ' Jobs,', 'range ', 'ery! A', 'and un', 'A coll', ' natur', ' most ', 'es tha', 'f myst', ' somet', 'rmatio', ' In co', 'ollect', 'elop a', 'opine ', 't over', 'pods, ', 'intere', 't popu', 'ans th', ' seek ', 'of pla', 'h fuzz', 'dy, lo', 'mmodit', 'est to', 'to inc', 'er bui', 'd sell', 'sed ev', 'Ronald', 'cas an', 'e Eart', 'sureme', 'eals w', 'er, In', 'and in', 'l that', ' was i', 'l from', 'nd, an', ' softw', ' Are y', 'rm is ', 'ricas ', ' \"larg', 'al sci', 'advent', 'e span', 'lar wh', 'ia, th', ', mean', 'commod', ', usua', 'respon', 'as inc', ' of su', 'oretic', 'e Amer', 'e semi', ' loose', 'le min', 'lidae)', 'd\\xa0info', 'ers, i', 'ciplin', \"iak's \", ' is ac', 'iscipl', 'ns the', \"ere's \", 'ple II', 'ria ar', 're bod', 'th, us', 'udy of', 'l reas', 'rubber', 'ef, or', 'profes', 'ity of', 'ss. Ar', 'lacer ', 'to for', 'pans a', 're! A ', 'e, def', 'opics ', 'e trop', ' about', 'enture', 'they r', 'ics in', 'e and ', 'itless', 'the st', 'ventur', 'c rept', ' the a', 'dividu', 'corres', 'ports ', ' (doub', 'ctor? ', 'ncludi', \"ent's \", 'e in 1', 'I, gre', 'inger?', 'founde', 'te new', ' Asia,', 'ak as ', 'ralia.', 'ing ca', 'nnis i', 'ket sp', 'rue cr', 'end, a', 'or tea', 'n itse', 'such b', 'm the ', 'r soft', 's racq', 'c. in ', ' they ', 'ctions', 'rofess', 'th you', ' to sc', 'ithmic', 'l proo', 'certai', 'ithms,', 'when w', 'n\\xa0itse', ', mach', 'These ', 'rs, in', 'argest', 'want t', 's, Ste', 'at liv', 'd, the', 'evelop', 'd info', 'he kan', 'o incl', 'llecto', 's of t', 'uch by', 'larges', ' A lan', ' algor', 'es a r', 'eek an', 'p and ', 'he cor', ' a net', 'onal m', 'l issu', 'rs in ', 'tween ', 't\"). I', 'ulate ', 'of ris', 'corpor', 'mited.', ' of pl', ' to st', ' a sin', 'cking ', 'hoot p', 'ical i', 'ts or ', 'h cord', 'nsight', 'and\\xa0in', ' resol', 'ed eve', 'e name', 'g is t', 'in Afr', 'use pa', '(famil', 'with f', 'fend, ', 'hines ', 'dy alg', 'f play', ',\\xa0comp', 'the Ap', 'thms, ', 'garoo,', 'rithmi', 'ing fi', 'd foot', ' shoot', 'ribe t', 'f fun!', 'ware\\xa0a', 'n Terr', 'where ', 'nce is', 'ght or', 't. The', 'urs to', 'w ball', ' deals', ' extra', 'nes\\xa0an', 'k and ', ' an ac', 'ms,\\xa0co', 'ter. I', 'lsity ', ' range', 'was in', 'varyin', 'and co', 'th the', 'utatio', 's,\\xa0com', 'of fun', 'tery! ', ' corre', 'iness ', 'he min', 'involv', ' true ', 'cquet ', \"'s cou\", ' and u', 'rees, ', 'pics i', 'e word', 'Crocod', 'good a', 'ts for', 'gainst', 'nd int', 'acket ', 'live t', 'f.\\xa0As ', 'f. Whe', 'hines\\xa0', 'our op', 'e unli', 've. It', ' adven', 'degree', ' Earth', 'es). E', '\\xa0and\\xa0i', 'strung', 'Your o', 'se dep', 's of p', 'thmic ', 'g the ', 'name o', 'wo tea', 'ne in ', 'eef, o', 'There ', 'nents ', 'II, gr', 'a busi', \"e's so\", 'Asia, ', 'ith fu', 'ms of ', 'mbers ', 'rying ', 'e. It ', ' miner', 'oosely', 'ses,\\xa0c', 'tions ', 'ly to ', 'is act', 'ayers ', ' to th', 'cket s', 'e is w', ' a ran', 'seek a', 'dile i', 'with y', 'he lar', 'alifie', 'e meas', 'ile is', 'c inte', 'ropods', 'erm is', 'sses,\\xa0', 'ed to ', 'od and', 'all co', 'uter s', 'ed, th', 'his fa', 'ector?', 'of val', 'cribe ', 'als wi', 'niak, ', ' and g', 'ozniak', 'r fals', 'n expl', 'es of\\xa0', 'geolog', 'amily,', 'f team', 'ayne i', 'on of ', 'ion an', ' or be', 'op and', 'ter, I', ' Terra', 'gest s', 'ted. D', 'sses, ', 'amily ', ' quick', 'm this', 'ovide ', 'les. E', 'ting c', 's, and', 'onald ', ' uses ', ', to v', 't to t', 'y a th', 'ver or', ' colle', ' Afric', 'a is a', 'tant m', 'd that', 'dae (m', 'core a', 'oo, ea', 'Woznia', '. in 1', '). In ', 'ena, m', 'to the', 'layed ', 'ent of', 'ion\\xa0to', 'teve a', 'uarial', 'd Aust', 'st a s', 'icking', 'Apple ', 'ot\"). ', 's abou', 'ht or ', ' The t', 's seek', 'sales ', 'chy tr', ' is st', 'e all ', 'n grey', 'deposi', 'der? T', 'eams o', 'family', 'f its ', 'escrib', ' of va', 'xplore', 'ere th', ' conje', 'o shoo', 'g comp', 'h, usu', 'pline,', 'Earth,', 'times ', 'orm a ', ' two p', 'score ', 'actuar', 'nd inf', 'to sha', 'ruth o', 'other ', 'he nam', ' a bal', 'lf. It', 'o, as ', 'seam, ', 'e thro', 'fied, ', ' such ', ' as th', 'The te', 'uth or', ' of ec', ' fuzz ', 'and us', 'es. Ea', 'ies of', 'builde', 'omic i', 'sed to', 'nge of', 'is is ', 'logica', 'a rack', ' red k', 'd with', 'nto th', 'ions i', 'e is s', 'rybody', 'm, ree', 'lder? ', ' a min', 'etimes', ' oppon', 'al iss', 'n comm', 'rey ka', 'Mathem', ' grey ', 've the', 'y is a', ' itsel', ' strun', 'elf.\\xa0A', '76 to ', 'nal wh', 'lf.\\xa0As', 'rials ', ' name ', 'tion g', 'y. The', 'arsupi', 'estern', 'a. The', \"re's s\", 'of. Wh', 'r fing', 's; the', 'ng wit', 'als or', ' scien', 'nd Aus', 'idae (', 'ians s', 'he wor', 'opods,', 'ining ', 'f real', 'softwa', ' spans', 'ody, l', 'mily M', 'd of a', 'were g', 'ers of', 'es\\xa0and', 'retica', 'zniak,', 'in 197', 'clude ', 'l scie', 'rated ', 'lly ag', ' norma', '77, an', '). Eac', 'e mine', 'nageme', 'ial sc', 'ans a ', 'd indi', 'at inv', 's a la', 'acropo', 'll Woz', 's of a', 'a land', ' descr', 'tennis', 'or bet', 'Steve.', 'imited', 's a ma', ' thing', 'e oppo', ' actua', 'is whe', ' predi', 'bber b', 'uzz ov', 'aticia', 'odylid', 'ds, me', 'strike', '? A co', 'eam, r', 'pondin', ' throu', 'dies o', 'g degr', 'e depo', 'each (', 'eposit', 'mulate', 'posits', 've Job', 's or o', 'ere go', 'spans ', ' is a ', 'e corr', 'ent an', ' the l', 'onal w', 'master', ' foot\"', 'th an ', 'rocody', 'ion of', ' who d', 'loosel', ' commo', 'eve Wo', 'common', 'errari', 'n itch', ', reef', 'ange o', 'and Wo', 'tician', 'pponen', 'cal ma', 'tical ', 'the ex', 'the la', 'ience\\xa0', ', and ', 's fami', 'tudy o', 'played', 'ry! A ', 'ommon ', 'defend', 'er a n', ' field', 'mena, ', 'pple w', 'inst o', 'ctical', 'a rang', 'ic int', ' the A', 'roo is', 'gamer ', 'ing a ', 'ith fe', 'player', ' Steve', ', defe', '. Each', 't or p', 'tems i', 're com', 'ofessi', 'ponent', 'iaquat', 'siness', 'r betw', ' that ', 're lim', 'o you ', 'pics f', 'nd a n', 'ilder?', 'nal co', 'e term', ' where', 'f impl', 'ingles', 'nd\\xa0com', 'are go', ' word ', '(singl', 'ding t', 'dually', 'port t', ' or fa', 'd to s', '977, a', ' its c', 'someth', ' repti', 'lector', 'y Macr', 'aquati', 'f econ', 'uter, ', 'ey res', 'lve th', 'rung w', '\\xa0compu', ' a dis', 'y of s', 'm of f', 'ic pro', 'most p', 'is usu', 'unlimi', 'nt and', 'opular', 'luable', 'asurem', 'inty. ', ' when ', 'hat ar', 'der Cr', 'stery!', 't spor', 'e body', 'n game', 'd is u', 'tudy a', 'ents o', ' the t', 'tainty', 'ure! A', 'ic rep', 'ut the', 's, inc', 'r ball', ' and A', 'e Appl', 'lopine', 'ized c', ' A mas', ' lode,', 'or fal', 'al mat', 'd of f', 'angaro', ', Inc.', ' hollo', 's. Eac', 's (fam', 'ns a r', ' term ', 'low ru', 'actica', 'tralia', ' indiv', 'Unqual', ' even ', 'ours t', 'sports', 'al fro', ' and m', 'tudies', 'er geo', 'ar whe', ' a bus', 'al stu', 'and Ro', 'athema', 'ople w', 'sport ', 'cs fro', 'or? An', 'd into', ' the E', 'ent (s', 'nquali', 'ation\\xa0', \"There'\", 'ith th', ' team ', 'trung ', 'ls or ', ' new c', 'nty. T', 'rals o', 'lude a', 'n to c', 'r true', 'er. It', 'the an', ' footb', 'f two ', ' as we', 'm spor', 'anagem', 'douhbl', 'l exta', 'he ant', 'is of ', 'a tenn', '\"large', 's used', 'ted by', 'soning', 'ans se', 'ms in\\xa0', 'ical r', 'raria ', 'tion o', 'l mach', 'tuary ', 'hen we', 'e red ', 't invo', 'ses a ', 'rm cro', 'macrop', 'ons ab', 'astern', 'around', ' is wh', ' finge', ' is us', 'tball ', 'res; t', 'oal. U', 'lia. T', 'st spe', 'and sa', 'l stud', 'cs in ', 'ball n', ' and w', 'be pla', 'ch (do', 'Wayne ', 'll cov', 'ies fr', ' or pr', 's that', 'k, and', 's when', ' real ', 'the Am', 'ica, A', 'ess. A', 'amer w', 'se pat', 'nd\\xa0inf', 'imes u', 'collec', 'ald Wa', 'field ', ' two t', 'd by S', 'nd gre', 'tion i', 'r Croc', 'o the ', 't is p', 'red wi', 'y. You', 'the mo', 'plorer', 'theore', 'ateria', ' The n', ', vein', 'usuall', 'f the ', 'risk a', 'e patt', 'iak, a', ' with ', 'ely to', 'onal c', 'ine, c', ' manag', ' is so', ' sell ', 'tern g', 'and we', 'al pro', 'les) o', \"zniak'\", 'used a', 'e, vei', 'es) or', 'shape,', 'mputer', 'ore bo', 'odidae', 'ropics', 'f\\xa0algo', 'solve ', 'yed ag', ' (fami', 'ily Cr', 'ines t', 'orts t', '\\xa0hardw', 'ics fr', 'everyb', 'ow bal', 'all th', 't memb', 'Americ', 'ment o', 'puter.', 'Mining', 'and ma', 'ek and', 'ered w', 'iction', 'ach pl', 'verybo', 'sits f', 'itself', 'th or ', 'Jobs, ', ' risk ', 'enjoy.', 'form o', 'ell Wo', 'a sing', 'r wher', 'ence i', 'ew con', 'ween t', 'en mat', 'hrough', 'vidual', 'with a', 'self.\\xa0', 'the or', 'd a ne', 'the Ea', 'ootbal', 'cal st', 'land t', 'osit. ', 'conjec', 'of rea', 'ode, v', 's to f', ' of\\xa0al', 'm a mi', 'ith yo', 'ia. Th', 'ation ', 'ed kan', 'r arou', 'e with', 'ounded', 'he tru', 'rithms', 'orated', ' Compu', 'elf. I', 'ecies ', 'm an o', 'r team', 'and gr', 'ord is', 'hese d', 'marsup', 'mer wi', 'espond', 'y Croc', 'or pla', 'orresp', 'ified,', 'n math', 'a ball', 's, mea', 'are co', 'ple I ', 'es use', 'placer', 'nd enj', 'd mana', 'of alg', 'the tr', 'nal sy', 'the fo', 'goal. ', 'n of v', 'etical', ' or tr', 'acer d', 'and se', 'nerals', ' use p', ' grew ', 'on its', 'grees,', 'ly Mac', 'yne in', 'from t', 'llow r', ' explo', 'incorp', 'zniak ', ' score', 'nce sp', 's of i', 'osely ', ' in 19', 'les we', ' a fam', ' the r', 'cience', 'supial', 'teve J', 'he tro', 'er sof', 'ding f', 'ld Way', 'embers', 'themat', 'ibe th', ' singl', 't live', ' Each ', 'ho dea', 'was fo', 'les (f', 'a thin', 'Macrop', 'nture!', 'manage', 'd by J', 's, kic', 'teve. ', 'dictio', 'from a', '.\\xa0As a', 'ew qui', \"ak's A\", ' Ameri', 'metime', ' limit', 'miaqua', 'quet t', 'f algo', '. It s', 'y of t', ' Wayne', 'ort th', 'e larg', 're unl', 'gles) ', 'sually', 'didae ', ', math', 'pine k', 'ood mo', 'n we s', 'r pred', 'nvolve', 'am spo', 'eryone', 'mic in', 'er Cro', 'studie', \"t's yo\", 'ated b', 'd. Do ', 's well', 'y math', 'r with', ' of ri', 'term c', 'its fo', 'a, mat', 'on and', 'member', 're goo', 'rocodi', 'r. It ', 'more l', 'ith co', 'd a lo', 'at can', ' and e', ' compu', 'njectu', \"onent'\", 'lified', 've and', 'e good', 'frica,', 'low ba', ' (sing', ' in Te', ' devel', 'd unce', 'lode, ', ' pheno', 'oo, an', 'o prov', 'is str', 'le wit', 'le II,', 'he ter', 'n be u', 'ormall', 'ty tha', 'eve an', 'odiles', 'nes th', 'is a r', 'ing fo', 'Footba', 'om an ', 'er or ', ' patte', 'arth, ', ' inclu', 'y mean', 'nce\\xa0is', 'e is u', 'll to ', ' to co', 'd mode', 'r othe', 'e used', 'ger? A', 'puter ', 'aroo, ', 'ntilop', 'ke a h', ' valua', 's or t', 'nal ma', 'phenom', 'e to s', 'methin', 'erest ', ' or te', 'eam sp', ' Jobs ', 'ipline', \"'s you\", 'hms, a', 'vein, ', 'kickin', 't (sin', 'ng deg', 'yed in', 's). Ea', ' found', 'g can ', 'd Wayn', 'action', 'm theo', 'well a', 'nd of ', 'models', 'onal s', 'Are yo', 'gger f', 'form a', 'est sp', 'tterns', 'erals ', 'valuab', 'provid', 'ood an', 'hollow', ' well ', 'er dep', 'ustral', 'rement', 'conomi', 't is o', 'specie', 'rsonal', 't span', 'ce\\xa0is ', 'ce is ', ' used ', ' are l', 'the me', ' actio', '. Thes', 'ctures', 'n be p', 'onent ', 'net an', 's a fa', ' ore b', ' the s', 'codile', 'he opp', 'es a t', 'fuzz o', 'ctuary', 'cal re', 'formul', 'tructu', \"'s App\", 'e loos', ' Wozni', 'y that', 'inst a', 'e kang', ' you w', 'icas a', 'ly of ', 'ly a t', 'eraliz', 'rgest ', 'Jobs a', 've, to', 'ly fro', 's in d', ' truth', 'to dev', 'he ord', 'ical p', 'ssues ', 'ial fr', 'et and', 'aster ', 'to des', 'ore lo', 'ry is ', ', east', 'ersona', 'ese de', 'and\\xa0so', 'y! A l', 'tation', 'ructur', 't natu', ' II, g', ' racke', 'wester', 'nt to ', 'ven mo', 'nd tha', 'ing co', 'e (mac', 'on gam', ' playe', 'out na', 'yers e', 'e II, ', 'ein, s', 'self. ', 'ationa', 'e Wozn', 'd enjo', 'e Jobs', 'bers o', 'ees, k', 'nd use', 'ocodyl', ', Asia', 'obs, S', 'ns abo', '. Do y', 'l comp', 'topics', ' imple', ' into ', 'this f', 'd, and', ' an it', 'onject', 'lve, t', 'l is a', 'Do you', 'double', 'olve, ', 'e stud', 'e croc', 'bout n', 'ng fie', 'emiaqu', 's your', 'icians', 'extrac', 'normal', 'ng for', 'nforma', 'with c', 'ter bu', 'tures;', ' (macr', 'e a ho', 't to s', \"at's y\", ' Macro', 'udies ', 'l, and', 'nnis r', 'o team', 'tional', 'the re', 'term i', 'to sco', 'ptions', 'al com', 'ly, th', 'n\\xa0and\\xa0', 'trike ', 'ical s', 'ore a ', 'ape, d', 'er sci', 'uters,', ' are c', 'a disc', 'g a ba', 'ologic', 'rts th', ' felt ', 'onal, ', 'th a w', 'tiles ', 'es; th', 'aroo i', ' reaso', 'l Wozn', 'd agai', ' every', 'an ore', 'by mat', 'f. It ', 'k as A', 'The na', 'measur', 'ily, t', ' or ar', 'll ext', 'll is ', ' the p', 's is a', 'cesses', 'g is u', ' Austr', 'es of ', 'late n', 'rge se', 'ed wit'}\n"
          ]
        },
        {
          "output_type": "execute_result",
          "data": {
            "text/plain": [
              "15"
            ]
          },
          "metadata": {},
          "execution_count": 10
        }
      ]
    },
    {
      "cell_type": "code",
      "metadata": {
        "colab": {
          "base_uri": "https://localhost:8080/"
        },
        "id": "4nCUfnUiw2AT",
        "outputId": "e78dcef7-920e-496b-ffcf-1b589960b9b6"
      },
      "source": [
        "print(shingles_1hot.shape)\n",
        "print(shingles_1hot[:5])"
      ],
      "execution_count": null,
      "outputs": [
        {
          "output_type": "stream",
          "name": "stdout",
          "text": [
            "(15, 2498)\n",
            "[[0. 0. 0. ... 1. 0. 0.]\n",
            " [0. 0. 0. ... 0. 0. 1.]\n",
            " [0. 0. 0. ... 0. 0. 1.]\n",
            " [0. 0. 0. ... 0. 0. 0.]\n",
            " [0. 1. 1. ... 0. 0. 0.]]\n"
          ]
        }
      ]
    },
    {
      "cell_type": "code",
      "metadata": {
        "colab": {
          "base_uri": "https://localhost:8080/"
        },
        "id": "7luGAzVHxVCe",
        "outputId": "d9093ef3-1d24-4ef2-b2f0-d2d9c0da5afc"
      },
      "source": [
        "sum(shingles_1hot[0])  # confirm we have 1s"
      ],
      "execution_count": null,
      "outputs": [
        {
          "output_type": "execute_result",
          "data": {
            "text/plain": [
              "249.0"
            ]
          },
          "metadata": {},
          "execution_count": 12
        }
      ]
    },
    {
      "cell_type": "code",
      "metadata": {
        "id": "n_T8BZEjxXHr"
      },
      "source": [
        "# MinHash\n",
        "# Now we move onto minhashing, first we need to create functions for building a range of minhash vectors, and another to process our sparse vectors through this minhash array - to produce our signatures."
      ],
      "execution_count": null,
      "outputs": []
    },
    {
      "cell_type": "code",
      "metadata": {
        "id": "llFbn8_NxZ7r"
      },
      "source": [
        "def minhash_arr(vocab: dict, resolution: int):\n",
        "    length = len(vocab.keys())\n",
        "    arr = np.zeros((resolution, length))\n",
        "    for i in range(resolution):\n",
        "        permutation = np.random.permutation(len(vocab)) + 1\n",
        "        arr[i, :] = permutation.copy()\n",
        "    return arr.astype(int)\n",
        "\n",
        "def get_signature(minhash, vector):\n",
        "    # get index locations of every 1 value in vector\n",
        "    idx = np.nonzero(vector)[0].tolist()\n",
        "    # use index locations to pull only +ve positions in minhash\n",
        "    shingles = minhash[:, idx]\n",
        "    # find minimum value in each hash vector\n",
        "    signature = np.min(shingles, axis=1)\n",
        "    return signature"
      ],
      "execution_count": null,
      "outputs": []
    },
    {
      "cell_type": "code",
      "metadata": {
        "colab": {
          "base_uri": "https://localhost:8080/"
        },
        "id": "rTDf9hJHxcBE",
        "outputId": "1273be2e-67c1-431e-ae7b-a5d851d6808d"
      },
      "source": [
        "arr = minhash_arr(vocab, 40)\n",
        "\n",
        "signatures = []\n",
        "\n",
        "for vector in shingles_1hot:\n",
        "    signatures.append(get_signature(arr, vector))\n",
        "\n",
        "# merge signatures into single array\n",
        "signatures = np.stack(signatures)\n",
        "signatures.shape"
      ],
      "execution_count": null,
      "outputs": [
        {
          "output_type": "execute_result",
          "data": {
            "text/plain": [
              "(15, 40)"
            ]
          },
          "metadata": {},
          "execution_count": 15
        }
      ]
    },
    {
      "cell_type": "code",
      "metadata": {
        "colab": {
          "base_uri": "https://localhost:8080/"
        },
        "id": "w-pjNDOVxeAE",
        "outputId": "b56f7628-6b3e-4c1c-d28d-59f228d3f484"
      },
      "source": [
        "signatures[0]"
      ],
      "execution_count": null,
      "outputs": [
        {
          "output_type": "execute_result",
          "data": {
            "text/plain": [
              "array([ 3,  2,  5,  4,  2, 11, 43,  5, 15,  6,  1,  5,  2,  4,  1, 12, 30,\n",
              "       10,  9,  2,  5,  9, 16,  2,  3,  6,  8,  4, 26,  3, 13, 26,  3,  3,\n",
              "        8, 10,  9,  6,  2, 11])"
            ]
          },
          "metadata": {},
          "execution_count": 16
        }
      ]
    },
    {
      "cell_type": "code",
      "metadata": {
        "id": "PnZFVgQQxjSj"
      },
      "source": [
        "# LSH\n",
        "# Finally, we move onto the LSH process. We will use a class here:"
      ],
      "execution_count": null,
      "outputs": []
    },
    {
      "cell_type": "code",
      "metadata": {
        "id": "-GYLO51oxkwr"
      },
      "source": [
        "from itertools import combinations\n",
        "\n",
        "class LSH:\n",
        "    buckets = []\n",
        "    counter = 0\n",
        "    def __init__(self, b):\n",
        "        self.b = b\n",
        "        for i in range(b):\n",
        "            self.buckets.append({})\n",
        "\n",
        "    def make_subvecs(self, signature): #makes a (b, l/b) shape array of our subvectors, which is just an array of the original signature\n",
        "        #that is, row 1 = values 1:5, row 2 = values 6:10, ... row 20 = values 96:100 on a 100-value signature.\n",
        "        l = len(signature)\n",
        "        assert l % self.b == 0\n",
        "        r = int(l / self.b)\n",
        "        # break signature into subvectors\n",
        "        subvecs = []\n",
        "        for i in range(0, l, r):\n",
        "            subvecs.append(signature[i:i+r])\n",
        "        return np.stack(subvecs)\n",
        "    \n",
        "    def add_hash(self, signature): #Here we're checking each subvector to see if it's in the 'dictionary' of keys and values that we're building.\n",
        "        #If it's in there, we increment the counter for that subvector.\n",
        "        #If it's not in there, we make a new entry with that subvector.\n",
        "        subvecs = self.make_subvecs(signature).astype(str)\n",
        "        for i, subvec in enumerate(subvecs):\n",
        "            subvec = ','.join(subvec)\n",
        "            if subvec not in self.buckets[i].keys():\n",
        "                self.buckets[i][subvec] = []\n",
        "            self.buckets[i][subvec].append(self.counter)\n",
        "        self.counter += 1\n",
        "\n",
        "    def check_candidates(self):\n",
        "        candidates = []\n",
        "        for bucket_band in self.buckets:\n",
        "            keys = bucket_band.keys()\n",
        "            for bucket in keys:\n",
        "                hits = bucket_band[bucket]\n",
        "                if len(hits) > 1:\n",
        "                    candidates.extend(combinations(hits, 2))\n",
        "        return set(candidates)"
      ],
      "execution_count": null,
      "outputs": []
    },
    {
      "cell_type": "code",
      "metadata": {
        "id": "cI5oJWrMxpq8"
      },
      "source": [
        "b = 20 #number of buckets\n",
        "\n",
        "lsh = LSH(b)\n",
        "\n",
        "for signature in signatures:\n",
        "    lsh.add_hash(signature)"
      ],
      "execution_count": null,
      "outputs": []
    },
    {
      "cell_type": "code",
      "metadata": {
        "id": "qYo-et1Rxv4N"
      },
      "source": [
        "lsh.buckets\n",
        "# Now we've filled our hash buckets all we need to do is loop through each and where we have multiple entries in a single bucket, mark these as our candidate pairs.\n",
        "# If you look through the keys, you'll see some have more than one value.\n",
        "# These are the candidate pairs who share some "
      ],
      "execution_count": null,
      "outputs": []
    },
    {
      "cell_type": "code",
      "metadata": {
        "colab": {
          "base_uri": "https://localhost:8080/"
        },
        "id": "s5NJenUyxxUz",
        "outputId": "607959a9-69ac-4828-d719-bff65226f03f"
      },
      "source": [
        "candidate_pairs = lsh.check_candidates()\n",
        "len(candidate_pairs)\n",
        "\n",
        "#num_buckets = [1,2,5,10,20,25,50,100]\n",
        "#cand_pairs = [13468, 13468, 13468, 13468, 25385, 31436, 153464, 1289942]"
      ],
      "execution_count": null,
      "outputs": [
        {
          "output_type": "execute_result",
          "data": {
            "text/plain": [
              "5"
            ]
          },
          "metadata": {},
          "execution_count": 21
        }
      ]
    },
    {
      "cell_type": "code",
      "metadata": {
        "colab": {
          "base_uri": "https://localhost:8080/"
        },
        "id": "kv3K-x-tyTjr",
        "outputId": "a6156f03-1c73-4cfe-f70c-6c3dd8d1b80d"
      },
      "source": [
        "list(candidate_pairs)[:6] #candidate_pairs was a set, so we observe as a list"
      ],
      "execution_count": null,
      "outputs": [
        {
          "output_type": "execute_result",
          "data": {
            "text/plain": [
              "[(1, 2), (10, 11), (4, 6), (0, 13), (7, 9)]"
            ]
          },
          "metadata": {},
          "execution_count": 22
        }
      ]
    },
    {
      "cell_type": "code",
      "metadata": {
        "id": "Ak-msciIyX4z"
      },
      "source": [
        "# We now have all of our candidate pairs!\n",
        "# Optimizing the Bands\n",
        "\n",
        "# Now let's visualize the actual cosine similarity of our signature vectors against whether we identified the signatures as candidate pairs or not.\n",
        "\n",
        "# (we will also calculate Jaccard but it's less useful here, try both!)"
      ],
      "execution_count": null,
      "outputs": []
    },
    {
      "cell_type": "code",
      "metadata": {
        "id": "CLMOJZFIypoS"
      },
      "source": [
        "from sklearn.metrics.pairwise import cosine_similarity\n",
        "\n",
        "def jaccard(a: set, b: set):\n",
        "    return len(a.intersection(b)) / len(a.union(b))"
      ],
      "execution_count": null,
      "outputs": []
    },
    {
      "cell_type": "code",
      "metadata": {
        "colab": {
          "base_uri": "https://localhost:8080/"
        },
        "id": "M-We2ozHyrYr",
        "outputId": "e5d35c06-ed07-497a-b445-48b42e7d92ae"
      },
      "source": [
        "pairs = pd.DataFrame({\n",
        "    'x': [],\n",
        "    'y': [],\n",
        "    'jaccard': [],\n",
        "    'cosine': [],\n",
        "    'candidate': []\n",
        "})\n",
        "\n",
        "data_len = shingles_1hot.shape[0]\n",
        "chosen = set()\n",
        "# take random sample of pairs\n",
        "sample_size = 50000\n",
        "for _ in tqdm(range(sample_size)):\n",
        "    x, y = np.random.choice(data_len, 2) #x is a random index, and y is a 0 or 1.\n",
        "    #if our (index,one_hot) tuples matches, we move forward.\n",
        "    if x == y or (x, y) in chosen: continue\n",
        "    chosen.add((x, y))\n",
        "    vector_x = signatures[x]\n",
        "    vector_y = signatures[y]\n",
        "    candidate = 1 if (x, y) in candidate_pairs else 0\n",
        "    cosine = cosine_similarity([vector_x], [vector_y])[0][0] #convert the np.arrays to lists (vectors) for cosine comparison\n",
        "    pairs = pairs.append({\n",
        "            'x': x,\n",
        "            'y': y,\n",
        "            'jaccard': jaccard(set(vector_x), set(vector_y)),\n",
        "            'cosine': cosine,\n",
        "            'candidate': candidate\n",
        "        }, ignore_index=True)\n",
        "\n",
        "# add a normalized cosine column for better alignment\n",
        "cos_min = pairs['cosine'].min()\n",
        "cos_max = pairs['cosine'].max()\n",
        "pairs['cosine_norm'] = (pairs['cosine'] - cos_min) / (cos_max - cos_min)"
      ],
      "execution_count": null,
      "outputs": [
        {
          "output_type": "stream",
          "name": "stderr",
          "text": [
            "100%|██████████| 50000/50000 [00:06<00:00, 8133.32it/s]\n"
          ]
        }
      ]
    },
    {
      "cell_type": "code",
      "metadata": {
        "colab": {
          "base_uri": "https://localhost:8080/",
          "height": 279
        },
        "id": "SqWCH8b3ytYL",
        "outputId": "03546818-86f0-4402-e77b-4f3906360924"
      },
      "source": [
        "import matplotlib.pyplot as plt\n",
        "import seaborn as sns\n",
        "\n",
        "#sns.scatterplot(data=pairs, x='cosine', y='candidate', alpha=0.5)\n",
        "plot1 = sns.scatterplot(data=pairs, x='cosine', y='candidate', alpha=0.5)\n",
        "plt.show(plot1)"
      ],
      "execution_count": null,
      "outputs": [
        {
          "output_type": "display_data",
          "data": {
            "image/png": "[encoded data removed]",
            "text/plain": [
              "<Figure size 432x288 with 1 Axes>"
            ]
          },
          "metadata": {
            "needs_background": "light"
          }
        }
      ]
    },
    {
      "cell_type": "code",
      "metadata": {
        "id": "9FS8mO--z7xt"
      },
      "source": [
        "# Now, this is an interesting way to visualize our distribution, but we have reason. \n",
        "# We can actually tune our LSH function using b, and we have a formalized function that tells us the probability of identifying a pair as candidate pairs given their similarity. \n",
        "# We calculate this as so:\n",
        "\n",
        "def probability(s, r, b):\n",
        "    # s: similarity\n",
        "    # r: rows (per band)\n",
        "    # b: number of bands\n",
        "    return 1 - (1 - s**r)**b\n",
        "\n",
        "def normalize(x, x_min, x_max):\n",
        "    return (x - x_min) / (x_max - x_min)"
      ],
      "execution_count": null,
      "outputs": []
    },
    {
      "cell_type": "code",
      "metadata": {
        "id": "w0nqEBJc0G_c"
      },
      "source": [
        "# Let's visualize that for our current parameters, alongside our scatter plot."
      ],
      "execution_count": null,
      "outputs": []
    },
    {
      "cell_type": "code",
      "metadata": {
        "colab": {
          "base_uri": "https://localhost:8080/",
          "height": 297
        },
        "id": "LssmXgZ50Li2",
        "outputId": "e6bc1c46-0076-433c-87a1-03ce361c3ec9"
      },
      "source": [
        "b = 20\n",
        "r = int(100 / b)\n",
        "s_scores = np.arange(0.01, 1, 0.01)\n",
        "P_scores = [probability(s, r, b) for s in s_scores]\n",
        "\n",
        "sns.lineplot(x=s_scores, y=P_scores)\n",
        "sns.scatterplot(data=pairs, x='cosine', y='candidate', alpha=0.1, color='k')"
      ],
      "execution_count": null,
      "outputs": [
        {
          "output_type": "execute_result",
          "data": {
            "text/plain": [
              "<matplotlib.axes._subplots.AxesSubplot at 0x7f37473b2410>"
            ]
          },
          "metadata": {},
          "execution_count": 28
        },
        {
          "output_type": "display_data",
          "data": {
            "image/png": "[encoded data removed]",
            "text/plain": [
              "<Figure size 432x288 with 1 Axes>"
            ]
          },
          "metadata": {
            "needs_background": "light"
          }
        }
      ]
    },
    {
      "cell_type": "code",
      "metadata": {
        "colab": {
          "base_uri": "https://localhost:8080/",
          "height": 298
        },
        "id": "hemUfC3P0Syt",
        "outputId": "8c74d031-7740-4078-f7e9-a5f8110ec5f5"
      },
      "source": [
        "b = 20\n",
        "r = int(100 / b)\n",
        "s_scores = np.arange(0.01, 1, 0.01)\n",
        "P_scores = [probability(s, r, b) for s in s_scores]\n",
        "\n",
        "sns.lineplot(x=s_scores, y=P_scores)\n",
        "sns.scatterplot(data=pairs, x='cosine_norm', y='candidate', alpha=0.1, color='k')"
      ],
      "execution_count": null,
      "outputs": [
        {
          "output_type": "execute_result",
          "data": {
            "text/plain": [
              "<matplotlib.axes._subplots.AxesSubplot at 0x7f3746ea2f10>"
            ]
          },
          "metadata": {},
          "execution_count": 29
        },
        {
          "output_type": "display_data",
          "data": {
            "image/png": "[encoded data removed]",
            "text/plain": [
              "<Figure size 432x288 with 1 Axes>"
            ]
          },
          "metadata": {
            "needs_background": "light"
          }
        }
      ]
    },
    {
      "cell_type": "code",
      "metadata": {
        "id": "6jGTDdCGR1hW"
      },
      "source": [
        "from numpy.ma.extras import average\n",
        "def calculate(df):\n",
        "  four = ['jaccard', 'cosine', 'candidate', 'cosine_norm']\n",
        "  avgs, maxes, mins = [], [], []\n",
        "  for label in four:\n",
        "    avgs.append(average(df[label]))\n",
        "    maxes.append(max(df[label]))\n",
        "    mins.append((min(df[label])))\n",
        "  return(avgs, maxes, mins)\n"
      ],
      "execution_count": null,
      "outputs": []
    },
    {
      "cell_type": "code",
      "metadata": {
        "colab": {
          "base_uri": "https://localhost:8080/"
        },
        "id": "jQCKL3znLPfS",
        "outputId": "de5f45c9-a2f0-47ff-be49-388c74832338"
      },
      "source": [
        "only_pairs = pairs[pairs['candidate']==1]\n",
        "only_fails = pairs[pairs['candidate']==0]\n",
        "pairs_values = calculate(only_pairs)\n",
        "fails_values = calculate(only_fails)\n",
        "all_values = calculate(pairs)\n",
        "print(pairs_values)\n",
        "print(fails_values)\n",
        "print(all_values)"
      ],
      "execution_count": null,
      "outputs": [
        {
          "output_type": "stream",
          "name": "stdout",
          "text": [
            "([0.4744793709758646, 0.6813809681196255, 1.0, 0.5947921735786784], [0.6521739130434783, 0.8953775328064334, 1.0, 1.0], [0.32432432432432434, 0.5242093854321039, 1.0, 0.29718386622468823])\n",
            "([0.46366964695177665, 0.5419008792222832, 0.0, 0.33068315045551955], [0.7391304347826086, 0.8953775328064334, 0.0, 1.0], [0.2571428571428571, 0.3672619567161002, 0.0, 0.0])\n",
            "([0.4639270213333026, 0.545221833719839, 0.023809523809523808, 0.3369714605298804], [0.7391304347826086, 0.8953775328064334, 1.0, 1.0], [0.2571428571428571, 0.3672619567161002, 0.0, 0.0])\n"
          ]
        }
      ]
    },
    {
      "cell_type": "code",
      "metadata": {
        "id": "oEwJK-hKV0Hj",
        "colab": {
          "base_uri": "https://localhost:8080/",
          "height": 381
        },
        "outputId": "bd2de559-053a-40b6-be5b-ee32f0f1d939"
      },
      "source": [
        "#Finding number of pairs based on min similarity values of the exisiting pairs\n",
        "print(sum(pairs[pairs['jaccard']>0.6521739130434783]['candidate']))\n",
        "# pairs[pairs['jaccard']>0.4744793709758646] #avg\n",
        "pairs[pairs['jaccard']>0.6521739130434783] #max\n",
        "# pairs[pairs['jaccard']>0.32432432432432434] #min\n",
        "# pairs[pairs['cosine']>0.6813809681196255] #avg\n",
        "# pairs[pairs['cosine']>0.8953775328064334] #max\n",
        "# pairs[pairs['cosine']>0.5242093854321039] #min"
      ],
      "execution_count": null,
      "outputs": [
        {
          "output_type": "stream",
          "name": "stdout",
          "text": [
            "0.0\n"
          ]
        },
        {
          "output_type": "execute_result",
          "data": {
            "text/html": [
              "<div>\n",
              "<style scoped>\n",
              "    .dataframe tbody tr th:only-of-type {\n",
              "        vertical-align: middle;\n",
              "    }\n",
              "\n",
              "    .dataframe tbody tr th {\n",
              "        vertical-align: top;\n",
              "    }\n",
              "\n",
              "    .dataframe thead th {\n",
              "        text-align: right;\n",
              "    }\n",
              "</style>\n",
              "<table border=\"1\" class=\"dataframe\">\n",
              "  <thead>\n",
              "    <tr style=\"text-align: right;\">\n",
              "      <th></th>\n",
              "      <th>x</th>\n",
              "      <th>y</th>\n",
              "      <th>jaccard</th>\n",
              "      <th>cosine</th>\n",
              "      <th>candidate</th>\n",
              "      <th>cosine_norm</th>\n",
              "    </tr>\n",
              "  </thead>\n",
              "  <tbody>\n",
              "    <tr>\n",
              "      <th>5</th>\n",
              "      <td>12.0</td>\n",
              "      <td>5.0</td>\n",
              "      <td>0.680000</td>\n",
              "      <td>0.674513</td>\n",
              "      <td>0.0</td>\n",
              "      <td>0.581787</td>\n",
              "    </tr>\n",
              "    <tr>\n",
              "      <th>59</th>\n",
              "      <td>5.0</td>\n",
              "      <td>12.0</td>\n",
              "      <td>0.680000</td>\n",
              "      <td>0.674513</td>\n",
              "      <td>0.0</td>\n",
              "      <td>0.581787</td>\n",
              "    </tr>\n",
              "    <tr>\n",
              "      <th>62</th>\n",
              "      <td>1.0</td>\n",
              "      <td>7.0</td>\n",
              "      <td>0.666667</td>\n",
              "      <td>0.573929</td>\n",
              "      <td>0.0</td>\n",
              "      <td>0.391330</td>\n",
              "    </tr>\n",
              "    <tr>\n",
              "      <th>66</th>\n",
              "      <td>4.0</td>\n",
              "      <td>12.0</td>\n",
              "      <td>0.739130</td>\n",
              "      <td>0.589686</td>\n",
              "      <td>0.0</td>\n",
              "      <td>0.421165</td>\n",
              "    </tr>\n",
              "    <tr>\n",
              "      <th>123</th>\n",
              "      <td>5.0</td>\n",
              "      <td>4.0</td>\n",
              "      <td>0.680000</td>\n",
              "      <td>0.581162</td>\n",
              "      <td>0.0</td>\n",
              "      <td>0.405026</td>\n",
              "    </tr>\n",
              "    <tr>\n",
              "      <th>129</th>\n",
              "      <td>12.0</td>\n",
              "      <td>4.0</td>\n",
              "      <td>0.739130</td>\n",
              "      <td>0.589686</td>\n",
              "      <td>0.0</td>\n",
              "      <td>0.421165</td>\n",
              "    </tr>\n",
              "    <tr>\n",
              "      <th>146</th>\n",
              "      <td>7.0</td>\n",
              "      <td>12.0</td>\n",
              "      <td>0.695652</td>\n",
              "      <td>0.699408</td>\n",
              "      <td>0.0</td>\n",
              "      <td>0.628927</td>\n",
              "    </tr>\n",
              "    <tr>\n",
              "      <th>164</th>\n",
              "      <td>12.0</td>\n",
              "      <td>7.0</td>\n",
              "      <td>0.695652</td>\n",
              "      <td>0.699408</td>\n",
              "      <td>0.0</td>\n",
              "      <td>0.628927</td>\n",
              "    </tr>\n",
              "    <tr>\n",
              "      <th>184</th>\n",
              "      <td>7.0</td>\n",
              "      <td>1.0</td>\n",
              "      <td>0.666667</td>\n",
              "      <td>0.573929</td>\n",
              "      <td>0.0</td>\n",
              "      <td>0.391330</td>\n",
              "    </tr>\n",
              "    <tr>\n",
              "      <th>191</th>\n",
              "      <td>4.0</td>\n",
              "      <td>5.0</td>\n",
              "      <td>0.680000</td>\n",
              "      <td>0.581162</td>\n",
              "      <td>0.0</td>\n",
              "      <td>0.405026</td>\n",
              "    </tr>\n",
              "  </tbody>\n",
              "</table>\n",
              "</div>"
            ],
            "text/plain": [
              "        x     y   jaccard    cosine  candidate  cosine_norm\n",
              "5    12.0   5.0  0.680000  0.674513        0.0     0.581787\n",
              "59    5.0  12.0  0.680000  0.674513        0.0     0.581787\n",
              "62    1.0   7.0  0.666667  0.573929        0.0     0.391330\n",
              "66    4.0  12.0  0.739130  0.589686        0.0     0.421165\n",
              "123   5.0   4.0  0.680000  0.581162        0.0     0.405026\n",
              "129  12.0   4.0  0.739130  0.589686        0.0     0.421165\n",
              "146   7.0  12.0  0.695652  0.699408        0.0     0.628927\n",
              "164  12.0   7.0  0.695652  0.699408        0.0     0.628927\n",
              "184   7.0   1.0  0.666667  0.573929        0.0     0.391330\n",
              "191   4.0   5.0  0.680000  0.581162        0.0     0.405026"
            ]
          },
          "metadata": {},
          "execution_count": 41
        }
      ]
    },
    {
      "cell_type": "code",
      "metadata": {
        "id": "gnluu6gAgaDh",
        "colab": {
          "base_uri": "https://localhost:8080/",
          "height": 489
        },
        "outputId": "8e7169b5-d158-436f-d400-eee2042c8470"
      },
      "source": [
        "pairs[pairs['cosine']>0.6813809681196255]"
      ],
      "execution_count": null,
      "outputs": [
        {
          "output_type": "execute_result",
          "data": {
            "text/html": [
              "<div>\n",
              "<style scoped>\n",
              "    .dataframe tbody tr th:only-of-type {\n",
              "        vertical-align: middle;\n",
              "    }\n",
              "\n",
              "    .dataframe tbody tr th {\n",
              "        vertical-align: top;\n",
              "    }\n",
              "\n",
              "    .dataframe thead th {\n",
              "        text-align: right;\n",
              "    }\n",
              "</style>\n",
              "<table border=\"1\" class=\"dataframe\">\n",
              "  <thead>\n",
              "    <tr style=\"text-align: right;\">\n",
              "      <th></th>\n",
              "      <th>x</th>\n",
              "      <th>y</th>\n",
              "      <th>jaccard</th>\n",
              "      <th>cosine</th>\n",
              "      <th>candidate</th>\n",
              "      <th>cosine_norm</th>\n",
              "    </tr>\n",
              "  </thead>\n",
              "  <tbody>\n",
              "    <tr>\n",
              "      <th>0</th>\n",
              "      <td>11.0</td>\n",
              "      <td>10.0</td>\n",
              "      <td>0.324324</td>\n",
              "      <td>0.736539</td>\n",
              "      <td>0.0</td>\n",
              "      <td>0.699236</td>\n",
              "    </tr>\n",
              "    <tr>\n",
              "      <th>2</th>\n",
              "      <td>11.0</td>\n",
              "      <td>7.0</td>\n",
              "      <td>0.314286</td>\n",
              "      <td>0.685628</td>\n",
              "      <td>0.0</td>\n",
              "      <td>0.602834</td>\n",
              "    </tr>\n",
              "    <tr>\n",
              "      <th>10</th>\n",
              "      <td>10.0</td>\n",
              "      <td>11.0</td>\n",
              "      <td>0.324324</td>\n",
              "      <td>0.736539</td>\n",
              "      <td>1.0</td>\n",
              "      <td>0.699236</td>\n",
              "    </tr>\n",
              "    <tr>\n",
              "      <th>52</th>\n",
              "      <td>9.0</td>\n",
              "      <td>8.0</td>\n",
              "      <td>0.419355</td>\n",
              "      <td>0.704838</td>\n",
              "      <td>0.0</td>\n",
              "      <td>0.639208</td>\n",
              "    </tr>\n",
              "    <tr>\n",
              "      <th>53</th>\n",
              "      <td>0.0</td>\n",
              "      <td>13.0</td>\n",
              "      <td>0.652174</td>\n",
              "      <td>0.895378</td>\n",
              "      <td>1.0</td>\n",
              "      <td>1.000000</td>\n",
              "    </tr>\n",
              "    <tr>\n",
              "      <th>74</th>\n",
              "      <td>8.0</td>\n",
              "      <td>10.0</td>\n",
              "      <td>0.371429</td>\n",
              "      <td>0.710209</td>\n",
              "      <td>0.0</td>\n",
              "      <td>0.649379</td>\n",
              "    </tr>\n",
              "    <tr>\n",
              "      <th>75</th>\n",
              "      <td>8.0</td>\n",
              "      <td>9.0</td>\n",
              "      <td>0.419355</td>\n",
              "      <td>0.704838</td>\n",
              "      <td>0.0</td>\n",
              "      <td>0.639208</td>\n",
              "    </tr>\n",
              "    <tr>\n",
              "      <th>84</th>\n",
              "      <td>13.0</td>\n",
              "      <td>0.0</td>\n",
              "      <td>0.652174</td>\n",
              "      <td>0.895378</td>\n",
              "      <td>0.0</td>\n",
              "      <td>1.000000</td>\n",
              "    </tr>\n",
              "    <tr>\n",
              "      <th>110</th>\n",
              "      <td>3.0</td>\n",
              "      <td>1.0</td>\n",
              "      <td>0.518519</td>\n",
              "      <td>0.682432</td>\n",
              "      <td>0.0</td>\n",
              "      <td>0.596782</td>\n",
              "    </tr>\n",
              "    <tr>\n",
              "      <th>112</th>\n",
              "      <td>10.0</td>\n",
              "      <td>8.0</td>\n",
              "      <td>0.371429</td>\n",
              "      <td>0.710209</td>\n",
              "      <td>0.0</td>\n",
              "      <td>0.649379</td>\n",
              "    </tr>\n",
              "    <tr>\n",
              "      <th>130</th>\n",
              "      <td>1.0</td>\n",
              "      <td>3.0</td>\n",
              "      <td>0.518519</td>\n",
              "      <td>0.682432</td>\n",
              "      <td>0.0</td>\n",
              "      <td>0.596782</td>\n",
              "    </tr>\n",
              "    <tr>\n",
              "      <th>146</th>\n",
              "      <td>7.0</td>\n",
              "      <td>12.0</td>\n",
              "      <td>0.695652</td>\n",
              "      <td>0.699408</td>\n",
              "      <td>0.0</td>\n",
              "      <td>0.628927</td>\n",
              "    </tr>\n",
              "    <tr>\n",
              "      <th>153</th>\n",
              "      <td>7.0</td>\n",
              "      <td>11.0</td>\n",
              "      <td>0.314286</td>\n",
              "      <td>0.685628</td>\n",
              "      <td>0.0</td>\n",
              "      <td>0.602834</td>\n",
              "    </tr>\n",
              "    <tr>\n",
              "      <th>164</th>\n",
              "      <td>12.0</td>\n",
              "      <td>7.0</td>\n",
              "      <td>0.695652</td>\n",
              "      <td>0.699408</td>\n",
              "      <td>0.0</td>\n",
              "      <td>0.628927</td>\n",
              "    </tr>\n",
              "  </tbody>\n",
              "</table>\n",
              "</div>"
            ],
            "text/plain": [
              "        x     y   jaccard    cosine  candidate  cosine_norm\n",
              "0    11.0  10.0  0.324324  0.736539        0.0     0.699236\n",
              "2    11.0   7.0  0.314286  0.685628        0.0     0.602834\n",
              "10   10.0  11.0  0.324324  0.736539        1.0     0.699236\n",
              "52    9.0   8.0  0.419355  0.704838        0.0     0.639208\n",
              "53    0.0  13.0  0.652174  0.895378        1.0     1.000000\n",
              "74    8.0  10.0  0.371429  0.710209        0.0     0.649379\n",
              "75    8.0   9.0  0.419355  0.704838        0.0     0.639208\n",
              "84   13.0   0.0  0.652174  0.895378        0.0     1.000000\n",
              "110   3.0   1.0  0.518519  0.682432        0.0     0.596782\n",
              "112  10.0   8.0  0.371429  0.710209        0.0     0.649379\n",
              "130   1.0   3.0  0.518519  0.682432        0.0     0.596782\n",
              "146   7.0  12.0  0.695652  0.699408        0.0     0.628927\n",
              "153   7.0  11.0  0.314286  0.685628        0.0     0.602834\n",
              "164  12.0   7.0  0.695652  0.699408        0.0     0.628927"
            ]
          },
          "metadata": {},
          "execution_count": 43
        }
      ]
    },
    {
      "cell_type": "code",
      "metadata": {
        "id": "75-oyVVKbjhJ",
        "colab": {
          "base_uri": "https://localhost:8080/",
          "height": 489
        },
        "outputId": "e24e50ba-16a2-483c-ea94-0947d6861bc1"
      },
      "source": [
        "pairs[pairs['x']==1.0]\n",
        "# Seeing how many false positives we'd get if we used the lowest true pair (this one was missed)\n",
        "pairs[pairs['jaccard']>0.379310]\n",
        "pairs[pairs['cosine']>0.605875]\n",
        "pairs[pairs['cosine_norm']>0.518626]"
      ],
      "execution_count": null,
      "outputs": [
        {
          "output_type": "execute_result",
          "data": {
            "text/html": [
              "<div>\n",
              "<style scoped>\n",
              "    .dataframe tbody tr th:only-of-type {\n",
              "        vertical-align: middle;\n",
              "    }\n",
              "\n",
              "    .dataframe tbody tr th {\n",
              "        vertical-align: top;\n",
              "    }\n",
              "\n",
              "    .dataframe thead th {\n",
              "        text-align: right;\n",
              "    }\n",
              "</style>\n",
              "<table border=\"1\" class=\"dataframe\">\n",
              "  <thead>\n",
              "    <tr style=\"text-align: right;\">\n",
              "      <th></th>\n",
              "      <th>x</th>\n",
              "      <th>y</th>\n",
              "      <th>jaccard</th>\n",
              "      <th>cosine</th>\n",
              "      <th>candidate</th>\n",
              "      <th>cosine_norm</th>\n",
              "    </tr>\n",
              "  </thead>\n",
              "  <tbody>\n",
              "    <tr>\n",
              "      <th>1</th>\n",
              "      <td>1.0</td>\n",
              "      <td>0.0</td>\n",
              "      <td>0.480000</td>\n",
              "      <td>0.421327</td>\n",
              "      <td>0.0</td>\n",
              "      <td>0.260297</td>\n",
              "    </tr>\n",
              "    <tr>\n",
              "      <th>11</th>\n",
              "      <td>1.0</td>\n",
              "      <td>5.0</td>\n",
              "      <td>0.500000</td>\n",
              "      <td>0.474466</td>\n",
              "      <td>0.0</td>\n",
              "      <td>0.334680</td>\n",
              "    </tr>\n",
              "    <tr>\n",
              "      <th>12</th>\n",
              "      <td>1.0</td>\n",
              "      <td>11.0</td>\n",
              "      <td>0.281250</td>\n",
              "      <td>0.592727</td>\n",
              "      <td>0.0</td>\n",
              "      <td>0.500222</td>\n",
              "    </tr>\n",
              "    <tr>\n",
              "      <th>16</th>\n",
              "      <td>1.0</td>\n",
              "      <td>12.0</td>\n",
              "      <td>0.416667</td>\n",
              "      <td>0.280834</td>\n",
              "      <td>0.0</td>\n",
              "      <td>0.063636</td>\n",
              "    </tr>\n",
              "    <tr>\n",
              "      <th>29</th>\n",
              "      <td>1.0</td>\n",
              "      <td>10.0</td>\n",
              "      <td>0.500000</td>\n",
              "      <td>0.639252</td>\n",
              "      <td>0.0</td>\n",
              "      <td>0.565347</td>\n",
              "    </tr>\n",
              "    <tr>\n",
              "      <th>72</th>\n",
              "      <td>1.0</td>\n",
              "      <td>2.0</td>\n",
              "      <td>0.379310</td>\n",
              "      <td>0.605875</td>\n",
              "      <td>0.0</td>\n",
              "      <td>0.518626</td>\n",
              "    </tr>\n",
              "    <tr>\n",
              "      <th>73</th>\n",
              "      <td>1.0</td>\n",
              "      <td>4.0</td>\n",
              "      <td>0.590909</td>\n",
              "      <td>0.440120</td>\n",
              "      <td>0.0</td>\n",
              "      <td>0.286604</td>\n",
              "    </tr>\n",
              "    <tr>\n",
              "      <th>86</th>\n",
              "      <td>1.0</td>\n",
              "      <td>3.0</td>\n",
              "      <td>0.370370</td>\n",
              "      <td>0.586625</td>\n",
              "      <td>0.0</td>\n",
              "      <td>0.491680</td>\n",
              "    </tr>\n",
              "    <tr>\n",
              "      <th>98</th>\n",
              "      <td>1.0</td>\n",
              "      <td>7.0</td>\n",
              "      <td>0.481481</td>\n",
              "      <td>0.652094</td>\n",
              "      <td>0.0</td>\n",
              "      <td>0.583324</td>\n",
              "    </tr>\n",
              "    <tr>\n",
              "      <th>150</th>\n",
              "      <td>1.0</td>\n",
              "      <td>6.0</td>\n",
              "      <td>0.440000</td>\n",
              "      <td>0.553255</td>\n",
              "      <td>0.0</td>\n",
              "      <td>0.444969</td>\n",
              "    </tr>\n",
              "    <tr>\n",
              "      <th>179</th>\n",
              "      <td>1.0</td>\n",
              "      <td>14.0</td>\n",
              "      <td>0.520000</td>\n",
              "      <td>0.491071</td>\n",
              "      <td>0.0</td>\n",
              "      <td>0.357925</td>\n",
              "    </tr>\n",
              "    <tr>\n",
              "      <th>184</th>\n",
              "      <td>1.0</td>\n",
              "      <td>9.0</td>\n",
              "      <td>0.428571</td>\n",
              "      <td>0.446698</td>\n",
              "      <td>0.0</td>\n",
              "      <td>0.295811</td>\n",
              "    </tr>\n",
              "    <tr>\n",
              "      <th>194</th>\n",
              "      <td>1.0</td>\n",
              "      <td>13.0</td>\n",
              "      <td>0.480000</td>\n",
              "      <td>0.415146</td>\n",
              "      <td>0.0</td>\n",
              "      <td>0.251645</td>\n",
              "    </tr>\n",
              "    <tr>\n",
              "      <th>195</th>\n",
              "      <td>1.0</td>\n",
              "      <td>8.0</td>\n",
              "      <td>0.583333</td>\n",
              "      <td>0.437800</td>\n",
              "      <td>0.0</td>\n",
              "      <td>0.283356</td>\n",
              "    </tr>\n",
              "  </tbody>\n",
              "</table>\n",
              "</div>"
            ],
            "text/plain": [
              "       x     y   jaccard    cosine  candidate  cosine_norm\n",
              "1    1.0   0.0  0.480000  0.421327        0.0     0.260297\n",
              "11   1.0   5.0  0.500000  0.474466        0.0     0.334680\n",
              "12   1.0  11.0  0.281250  0.592727        0.0     0.500222\n",
              "16   1.0  12.0  0.416667  0.280834        0.0     0.063636\n",
              "29   1.0  10.0  0.500000  0.639252        0.0     0.565347\n",
              "72   1.0   2.0  0.379310  0.605875        0.0     0.518626\n",
              "73   1.0   4.0  0.590909  0.440120        0.0     0.286604\n",
              "86   1.0   3.0  0.370370  0.586625        0.0     0.491680\n",
              "98   1.0   7.0  0.481481  0.652094        0.0     0.583324\n",
              "150  1.0   6.0  0.440000  0.553255        0.0     0.444969\n",
              "179  1.0  14.0  0.520000  0.491071        0.0     0.357925\n",
              "184  1.0   9.0  0.428571  0.446698        0.0     0.295811\n",
              "194  1.0  13.0  0.480000  0.415146        0.0     0.251645\n",
              "195  1.0   8.0  0.583333  0.437800        0.0     0.283356"
            ]
          },
          "metadata": {},
          "execution_count": 62
        }
      ]
    },
    {
      "cell_type": "code",
      "metadata": {
        "id": "ZL3TUarj0Tj0"
      },
      "source": [
        "# From here we can attempt to modify the similarity threshold t - which is the cut-off point on our similarity axes as to where we would like a given cosine similarity to rate as a candidate pair or not.\n",
        "\n",
        "# Let's try a few different band values with our probability formula to see where this balance may be."
      ],
      "execution_count": null,
      "outputs": []
    },
    {
      "cell_type": "code",
      "metadata": {
        "colab": {
          "base_uri": "https://localhost:8080/",
          "height": 297
        },
        "id": "Hce5LQBI0hXr",
        "outputId": "0041ca83-a31a-46ad-f115-5f552c03272b"
      },
      "source": [
        "probs = pd.DataFrame({\n",
        "    'P': [],\n",
        "    's': [],\n",
        "    'b': []\n",
        "}) #initialize the df\n",
        "\n",
        "for b in [100, 50, 25, 20, 10, 5, 2]: #test diff band sizes\n",
        "    r = int(100 / b)\n",
        "    s_scores = np.arange(0.01, 1, 0.01) #calculate at small increments to create the smooth curve\n",
        "    P_scores = [probability(s, r, b) for s in s_scores]\n",
        "    probs = probs.append(pd.DataFrame({\n",
        "        'P': P_scores,\n",
        "        's': s_scores,\n",
        "        'b': [str(b)]*len(s_scores)\n",
        "    }), ignore_index=True)\n",
        "\n",
        "sns.lineplot(data=probs, x='s', y='P', hue='b')\n",
        "#What we get is a plot showing sigmoid-lik curves.\n",
        "#The t (threshold) of similarity to be classified as a 1 here shifts as our b value shifts.\n",
        "#So for b=20, we're seeing t of s=~.4 to be classified as a match.\n",
        "#For b=10, we see t of s=~.8 or so.\n",
        "#What counts as \"too high\" is subjective and depends on your goal/data set.\n",
        "#For plagiarism detection, I'd argue that false positives aren't a huge deal because\n",
        "  #they're going to be reviewed later by a human."
      ],
      "execution_count": null,
      "outputs": [
        {
          "output_type": "execute_result",
          "data": {
            "text/plain": [
              "<matplotlib.axes._subplots.AxesSubplot at 0x7fdc917a2e90>"
            ]
          },
          "metadata": {},
          "execution_count": 32
        },
        {
          "output_type": "display_data",
          "data": {
            "image/png": "[encoded data removed]",
            "text/plain": [
              "<Figure size 432x288 with 1 Axes>"
            ]
          },
          "metadata": {
            "needs_background": "light"
          }
        }
      ]
    },
    {
      "cell_type": "code",
      "metadata": {
        "id": "yqoCTywM0i_i"
      },
      "source": [
        "# So a b value of 20 gave us a threshold value t slightly too high (depending on our definition of 'similar'), so maybe we can use b == 25 to get a better distribution of our candidate pairs."
      ],
      "execution_count": null,
      "outputs": []
    },
    {
      "cell_type": "code",
      "metadata": {
        "id": "WWXNOrko0tAT"
      },
      "source": [
        "# b = 25\n",
        "\n",
        "# lsh = LSH(b)\n",
        "\n",
        "# for signature in signatures:\n",
        "#     lsh.add_hash(signature)\n",
        "\n",
        "# candidate_pairs = lsh.check_candidates()\n",
        "# len(candidate_pairs)\n",
        "\n",
        "#pretty sure this was me screwing around"
      ],
      "execution_count": null,
      "outputs": []
    },
    {
      "cell_type": "code",
      "metadata": {
        "colab": {
          "base_uri": "https://localhost:8080/"
        },
        "id": "_RJwrZK30ucE",
        "outputId": "6cc0b357-4e56-416a-801f-7f427ac62b88"
      },
      "source": [
        "pairs = pd.DataFrame({\n",
        "    'x': [],\n",
        "    'y': [],\n",
        "    'jaccard': [],\n",
        "    'cosine': [],\n",
        "    'candidate': []\n",
        "})\n",
        "\n",
        "data_len = shingles_1hot.shape[0]\n",
        "chosen = set()\n",
        "# take random sample of pairs\n",
        "sample_size = 50_000\n",
        "for _ in tqdm(range(sample_size)):\n",
        "    x, y = np.random.choice(data_len, 2)\n",
        "    if x == y or (x, y) in chosen: continue\n",
        "    chosen.add((x, y))\n",
        "    vector_x = signatures[x]\n",
        "    vector_y = signatures[y]\n",
        "    candidate = 1 if (x, y) in candidate_pairs else 0\n",
        "    cosine = cosine_similarity([vector_x], [vector_y])[0][0]\n",
        "    pairs = pairs.append({\n",
        "            'x': x,\n",
        "            'y': y,\n",
        "            'jaccard': jaccard(set(vector_x), set(vector_y)),\n",
        "            'cosine': cosine,\n",
        "            'candidate': candidate\n",
        "        }, ignore_index=True)\n",
        "\n",
        "# add a normalized cosine column for better alignment\n",
        "cos_min = pairs['cosine'].min()\n",
        "cos_max = pairs['cosine'].max()\n",
        "pairs['cosine_norm'] = (pairs['cosine'] - cos_min) / (cos_max - cos_min)"
      ],
      "execution_count": null,
      "outputs": [
        {
          "output_type": "stream",
          "name": "stderr",
          "text": [
            "100%|██████████| 50000/50000 [00:02<00:00, 21305.41it/s]\n"
          ]
        }
      ]
    },
    {
      "cell_type": "code",
      "metadata": {
        "colab": {
          "base_uri": "https://localhost:8080/",
          "height": 298
        },
        "id": "wYFeUFhc0xyr",
        "outputId": "62b3cbb0-4afb-4923-ebaa-bd2c2b7c6268"
      },
      "source": [
        "r = int(100 / b)\n",
        "s_scores = np.arange(0.01, 1, 0.01)\n",
        "P_scores = [probability(s, r, b) for s in s_scores]\n",
        "\n",
        "sns.lineplot(x=s_scores, y=P_scores)\n",
        "sns.scatterplot(data=pairs, x='cosine_norm', y='candidate', alpha=0.1, color='k')"
      ],
      "execution_count": null,
      "outputs": [
        {
          "output_type": "execute_result",
          "data": {
            "text/plain": [
              "<matplotlib.axes._subplots.AxesSubplot at 0x7f61c2137390>"
            ]
          },
          "metadata": {},
          "execution_count": 46
        },
        {
          "output_type": "display_data",
          "data": {
            "image/png": "[encoded data removed]",
            "text/plain": [
              "<Figure size 432x288 with 1 Axes>"
            ]
          },
          "metadata": {
            "needs_background": "light"
          }
        }
      ]
    },
    {
      "cell_type": "code",
      "metadata": {
        "colab": {
          "base_uri": "https://localhost:8080/",
          "height": 298
        },
        "id": "gQe8_TXz4PpC",
        "outputId": "d9dbf24e-6b9c-4668-daf0-86d31188570d"
      },
      "source": [
        "r = int(100 / b)\n",
        "s_scores = np.arange(0.01, 1, 0.01)\n",
        "P_scores = [probability(s, r, b) for s in s_scores]\n",
        "\n",
        "sns.lineplot(x=s_scores, y=P_scores)\n",
        "sns.scatterplot(data=pairs, x='cosine_norm', y='candidate', alpha=0.1, color='k')"
      ],
      "execution_count": null,
      "outputs": [
        {
          "output_type": "execute_result",
          "data": {
            "text/plain": [
              "<matplotlib.axes._subplots.AxesSubplot at 0x7f61c2042910>"
            ]
          },
          "metadata": {},
          "execution_count": 47
        },
        {
          "output_type": "display_data",
          "data": {
            "image/png": "[encoded data removed]",
            "text/plain": [
              "<Figure size 432x288 with 1 Axes>"
            ]
          },
          "metadata": {
            "needs_background": "light"
          }
        }
      ]
    },
    {
      "cell_type": "code",
      "metadata": {
        "id": "Gsn0seOR4Ic0"
      },
      "source": [
        "# Shifting from b == 20 to b == 25 has reduced the number of non-candidates around 0.7 - 0.8, and we can see that the number of candidate pairs in total has increased significantly too, from 7468 to 19436.\n",
        "\n",
        "# Now, in our own use-cases, the preferred similarity threshold will of-course change.\n",
        "\n",
        "# It's also worth noting that different similarity metrics will produce different charts:\n"
      ],
      "execution_count": null,
      "outputs": []
    },
    {
      "cell_type": "code",
      "metadata": {
        "id": "oKPa9oQW4MX5",
        "colab": {
          "base_uri": "https://localhost:8080/",
          "height": 297
        },
        "outputId": "fb2ee354-f09e-4700-a5e5-68f253d9496c"
      },
      "source": [
        "r = int(100 / b)\n",
        "s_scores = np.arange(0.01, 1, 0.01)\n",
        "P_scores = [probability(s, r, b) for s in s_scores]\n",
        "\n",
        "sns.lineplot(x=s_scores, y=P_scores)\n",
        "sns.scatterplot(data=pairs, x='jaccard', y='candidate', alpha=0.5, color='k')"
      ],
      "execution_count": null,
      "outputs": [
        {
          "output_type": "execute_result",
          "data": {
            "text/plain": [
              "<matplotlib.axes._subplots.AxesSubplot at 0x7f61c2031390>"
            ]
          },
          "metadata": {},
          "execution_count": 49
        },
        {
          "output_type": "display_data",
          "data": {
            "image/png": "[encoded data removed]",
            "text/plain": [
              "<Figure size 432x288 with 1 Axes>"
            ]
          },
          "metadata": {
            "needs_background": "light"
          }
        }
      ]
    },
    {
      "cell_type": "code",
      "metadata": {
        "id": "C7df7E6Eob0c"
      },
      "source": [
        "#BELOW THIS LINE, I'M TRYING TO MAKE THE DATA.FRAME OF COSINE, COSINE_NORM, AND JACCARD SIMILARITY FOR OUR DATA TO FIND A THRESHOLD."
      ],
      "execution_count": null,
      "outputs": []
    },
    {
      "cell_type": "code",
      "metadata": {
        "id": "qrSX7Zcs4NBU",
        "colab": {
          "base_uri": "https://localhost:8080/",
          "height": 363
        },
        "outputId": "2ce4f1f8-2eb3-435e-bba2-a1ef3755e144"
      },
      "source": [
        "no_matches = pd.read_csv('gdrive/My Drive/Colab Notebooks/Book2.csv')\n",
        "sentences = no_matches['Sentences'].tolist()\n",
        "no_matches"
      ],
      "execution_count": null,
      "outputs": [
        {
          "output_type": "execute_result",
          "data": {
            "text/html": [
              "<div>\n",
              "<style scoped>\n",
              "    .dataframe tbody tr th:only-of-type {\n",
              "        vertical-align: middle;\n",
              "    }\n",
              "\n",
              "    .dataframe tbody tr th {\n",
              "        vertical-align: top;\n",
              "    }\n",
              "\n",
              "    .dataframe thead th {\n",
              "        text-align: right;\n",
              "    }\n",
              "</style>\n",
              "<table border=\"1\" class=\"dataframe\">\n",
              "  <thead>\n",
              "    <tr style=\"text-align: right;\">\n",
              "      <th></th>\n",
              "      <th>Person</th>\n",
              "      <th>Sentences</th>\n",
              "      <th>Plagiarised</th>\n",
              "    </tr>\n",
              "  </thead>\n",
              "  <tbody>\n",
              "    <tr>\n",
              "      <th>0</th>\n",
              "      <td>A</td>\n",
              "      <td>Mathematicians seek and use patterns to formul...</td>\n",
              "      <td>1</td>\n",
              "    </tr>\n",
              "    <tr>\n",
              "      <th>1</th>\n",
              "      <td>C</td>\n",
              "      <td>Tennis is racquet sport that is played against...</td>\n",
              "      <td>1</td>\n",
              "    </tr>\n",
              "    <tr>\n",
              "      <th>2</th>\n",
              "      <td>D</td>\n",
              "      <td>Football is a family of team sports that invol...</td>\n",
              "      <td>0</td>\n",
              "    </tr>\n",
              "    <tr>\n",
              "      <th>3</th>\n",
              "      <td>E</td>\n",
              "      <td>Terraria is a land of adventure! A land of mys...</td>\n",
              "      <td>1</td>\n",
              "    </tr>\n",
              "    <tr>\n",
              "      <th>4</th>\n",
              "      <td>F</td>\n",
              "      <td>Mining is the extraction of valuable minerals ...</td>\n",
              "      <td>0</td>\n",
              "    </tr>\n",
              "    <tr>\n",
              "      <th>5</th>\n",
              "      <td>H</td>\n",
              "      <td>Computer science is the study of algorithmic p...</td>\n",
              "      <td>1</td>\n",
              "    </tr>\n",
              "    <tr>\n",
              "      <th>6</th>\n",
              "      <td>J</td>\n",
              "      <td>An actuary is a business professional who deal...</td>\n",
              "      <td>0</td>\n",
              "    </tr>\n",
              "    <tr>\n",
              "      <th>7</th>\n",
              "      <td>L</td>\n",
              "      <td>Apple was founded by Steve Jobs, Steve Wozniak...</td>\n",
              "      <td>1</td>\n",
              "    </tr>\n",
              "    <tr>\n",
              "      <th>8</th>\n",
              "      <td>N</td>\n",
              "      <td>Crocodiles (family Crocodylidae) or true croco...</td>\n",
              "      <td>0</td>\n",
              "    </tr>\n",
              "    <tr>\n",
              "      <th>9</th>\n",
              "      <td>P</td>\n",
              "      <td>The kangaroo is a marsupial from the family Ma...</td>\n",
              "      <td>0</td>\n",
              "    </tr>\n",
              "  </tbody>\n",
              "</table>\n",
              "</div>"
            ],
            "text/plain": [
              "  Person                                          Sentences  Plagiarised\n",
              "0      A  Mathematicians seek and use patterns to formul...            1\n",
              "1      C  Tennis is racquet sport that is played against...            1\n",
              "2      D  Football is a family of team sports that invol...            0\n",
              "3      E  Terraria is a land of adventure! A land of mys...            1\n",
              "4      F  Mining is the extraction of valuable minerals ...            0\n",
              "5      H  Computer science is the study of algorithmic p...            1\n",
              "6      J  An actuary is a business professional who deal...            0\n",
              "7      L  Apple was founded by Steve Jobs, Steve Wozniak...            1\n",
              "8      N  Crocodiles (family Crocodylidae) or true croco...            0\n",
              "9      P  The kangaroo is a marsupial from the family Ma...            0"
            ]
          },
          "metadata": {},
          "execution_count": 64
        }
      ]
    },
    {
      "cell_type": "code",
      "metadata": {
        "colab": {
          "base_uri": "https://localhost:8080/"
        },
        "id": "xVZtLGdkoa8d",
        "outputId": "498898f2-8b67-45a7-da06-2fda2116da51"
      },
      "source": [
        "k = 6  # shingle size\n",
        "\n",
        "# build shingles\n",
        "shingles = []\n",
        "for sentence in tqdm(sentences):\n",
        "    shingles.append(build_shingles(sentence, k))\n",
        "\n",
        "# build vocab\n",
        "vocab = build_vocab(shingles)\n",
        "\n",
        "# one-hot encode our shingles\n",
        "shingles_1hot = []\n",
        "for shingle_set in shingles:\n",
        "    shingles_1hot.append(one_hot(shingle_set, vocab))\n",
        "# stack into single numpy array\n",
        "shingles_1hot = np.stack(shingles_1hot) #converts our list to an array\n",
        "shingles_1hot.shape"
      ],
      "execution_count": null,
      "outputs": [
        {
          "output_type": "stream",
          "name": "stderr",
          "text": [
            "100%|██████████| 10/10 [00:00<00:00, 6261.09it/s]"
          ]
        },
        {
          "output_type": "stream",
          "name": "stdout",
          "text": [
            "{'ion\\xa0an', 'ven mo', 'nerali', 'res ar', ', mean', ' used ', 'is pla', ' maste', 'uzz ov', 'or tea', 'iness ', 'used t', ', kick', 'ours t', 'ians s', 'al fro', 'opular', 'roo, e', 'mathem', 'e, def', 'rmally', ' A lan', 'llow b', 'ered w', 'es (fa', 'it. Th', 'le was', 'to pro', 'the te', 'ing ca', ' risk ', 'r fing', 'heoret', 'ge foo', 'h play', 'nd Woz', 'ateria', 'eams o', 'r ever', 'uarial', 'ine ka', 'l stud', 'es are', 'quickl', 'ion\\xa0it', 'ger? A', 'rs, in', ' is us', ' lode,', 'olve t', ' II, g', 'udies ', ' manag', 'they r', 'easoni', 'hing f', 'layers', 'Your o', 'Each p', 're loo', 'ied, t', 'dae (m', ' or te', 'ropods', 'idae) ', 'tions ', 'In com', 'cking ', 'rraria', 'ght or', 'a disc', 'ost po', 'as inc', ' commo', 'bout n', 'ector?', 'issues', 'trigge', 'y reso', 'n itch', 'tiles ', 'in 197', 'r buil', 'omputa', 'otball', 'cs in ', ' means', ' reef,', 'ke a h', ' this ', 'alia. ', ' and u', 'gement', 'mic in', 's in d', 'der? A', 'ucture', 'n 1976', 'ilder?', ' hollo', ' is ac', 'ach pl', '1976 t', ' in\\xa0ha', 's\\xa0and\\xa0', 's are ', 'itchy ', 'study ', 'res; t', 'ompute', 'k as A', 'uncert', ' who d', 'uch by', 'd kang', 'omethi', ' build', 'ods, m', 'player', 't natu', 'l to s', 'ent of', ' an or', 'e Amer', 'ical m', 'mally ', 'oof. W', 'g with', '977, a', 'ts for', 'y Macr', 'land o', 'the Ea', 'score ', 'ate ne', 'mmodit', 'estern', ' word ', 're! A ', ' that ', 'are go', 's used', 'podida', 'ith th', 'ctions', 'trung ', 'nc. in', 'lorer?', 's a ra', 'ncludi', 'ef, or', 'ial sc', 'ed kan', 'eals w', 'nsight', 's, mea', 'e a ho', 's the ', 'rial s', 'mily, ', 'uding ', 'd foot', 'ald Wa', 'eans t', 'ent an', ' of it', 'cal pr', 'cer de', 'asurem', 'tion\\xa0t', ' even ', 'dictio', 'he kan', 'ge sem', 'e meas', 'e foot', 'deals ', ' mathe', 'ity th', 'ineral', 'e most', ' trigg', 'osely ', ' to de', 're lim', 'on\\xa0to ', 'ss pro', 'e, com', 't was ', 'xplore', ' can b', 'nd sal', ' antil', ', reef', 'and of', ' A mas', 'de all', 't is p', 'ne in ', ' inclu', 'ericas', 'c inte', ', the ', 'ience ', 'lidae)', 'ine, c', 'you an', ' machi', 'ter sc', ' is th', 'in Ter', 'matici', 'ia are', 'rge fo', 'layer ', 'e span', 'ralize', 'ily Ma', 'l scie', 'll to ', 'ns see', ' sport', 'y Stev', 'of foo', 'ware\\xa0a', 'les of', 'ngaroo', ' econo', 'Comput', 'ho dea', 'ry! A ', 'd agai', 'ience\\xa0', 'of tea', 'range ', 'll is ', 'of eco', 'iak, a', 'predic', 'cal ma', '. Unqu', 'oy. Yo', ' valua', 'ollect', 's, Ste', ' It wa', 'm the ', 't is s', ', vein', 'luding', 'rougho', 'o form', 'an act', 'sits f', ' pract', 'is str', 's well', 'al com', 'and en', ' with ', 'ologic', 'ified,', 'luable', 'codile', 'ne, co', 'rder C', '\\xa0and\\xa0i', 't memb', 'f\\xa0algo', 'of adv', 'ing is', ' large', 'ue cro', 'and sa', 'ctical', 's; the', 'ell Wo', 'or pre', 'd to p', 'ude al', 'al rea', 'e (mac', 'd sale', 'reptil', 'ek and', 'jectur', 'all co', ' corre', ' or fa', ' enjoy', 'lopine', 'th or ', 'e Eart', 'e used', 'op and', 'errari', 'to sco', 'ns a r', 'd\\xa0info', 'Terrar', 'ple II', 'ion of', 'our op', 'e in 1', 'ized c', 'ord fo', ' real ', 'm is u', 'was fo', 'pics i', 'e new ', 'h a wi', 'ayers ', 'e form', 'rying ', 'the fa', 'system', 'ional ', 'tery! ', 'nce sp', 'd\\xa0comp', 'ures; ', 'ally m', 'placer', 'practi', 'tician', 'sureme', '. It w', 'format', ' syste', 'nt of ', 'nd man', ' or tr', 'ans se', ' the w', 'ria ar', 'velop ', ' a hol', 'ese de', 'hbles.', 'on\\xa0and', 'ly to ', 'ometim', 'or tru', 'ia. Th', 'ly of ', 'ning i', '\\xa0and\\xa0s', 'tant m', 'f myst', 'falsit', 'pecies', 'ls fro', ' semia', ' kicki', 'nce\\xa0is', 'ord is', 'ts tha', 'An exp', 'as the', 'sed to', 'team s', 'word f', 'ons ab', ' of ri', 'acropo', 'onal c', 'degree', 'ibe th', ' or pl', 'ropodi', 'tures;', ' true ', 's in\\xa0h', ' or ot', 'argest', 'is the', 'am spo', 'al. Un', ' the t', 'aria i', ' Jobs,', 'ame of', 'oning ', 'zed co', 'raria ', 'field ', 'ut the', 'in Afr', ' and W', 'er. It', 'uremen', ' in Af', 'aning ', 'oot\").', 'ia, th', 'reef, ', 'f its ', 'ry is ', 'he fam', 'orts t', 'ort th', 'uilder', 'nteres', 'garoo,', 'ng deg', ' profe', 'r? A m', 'alifie', 'of\\xa0alg', 'uses a', 'y from', 'ange o', 're\\xa0and', 'lude a', 'ide in', 'yer us', 'ess. A', 'Are yo', 'rung w', 'ical s', 'nclude', 'tainty', 'a mars', 'of. Wh', 'ble mi', 'ithms,', 'out na', 'ematic', 't that', 'the me', 'tion\\xa0a', 'e Wozn', 'r team', 'o shap', 'g \"lar', ' studi', 'or oth', 'struct', 'Crocod', 'nd enj', 's stru', 'ms of ', 'e Jobs', 'sses,\\xa0', 'er Cro', 'nd\\xa0inf', 'll cov', 'materi', '(famil', ' Afric', 'lf.\\xa0As', 'ment a', ' teams', 'd, the', '(macro', '! A la', 'he mea', ' strik', 'cs fro', ' again', 'sed ev', ' in 19', 'e you ', ' miner', 'rm of ', 'teve W', 'd of a', 'hardwa', 'modity', ' perso', 'utatio', 've Woz', 'family', 'm croc', 'y of t', 'd, and', 's of r', \"hat's \", 'inst o', 'dylida', 'stern ', 'posits', 'strali', 'al sys', 'o prov', 'quet s', ' Are y', '\\xa0algor', 'inform', 'isk an', 'm theo', 'orated', 'le Com', ' order', ' and R', ' new c', 'al phe', 'osit. ', 'ersona', 'advent', 'y math', 'e the ', ' devel', 'h fuzz', ' was f', 'd by S', 'arsupi', 'st pop', 'e prac', 'n\\xa0to t', ' to in', 'larges', 'me of ', 'the la', ' truth', \"k's Ap\", 'ng can', 'incorp', 'he App', 'ch by ', 'ical p', 'd by J', 'ayer u', 'ther g', '). In ', ' foot\"', 'e loos', 'master', 'means ', ' ore b', 'all th', 'ardwar', 'o deve', 'ghout ', 'tation', 'd unce', 'f adve', 'n grey', 'loosel', 'acquet', 'et tha', ' the c', 'by Ste', ' to sh', ' by Jo', 'easter', ' patte', 'lve, t', 'of mys', 'e\\xa0is t', 'w ball', 's some', 'These ', 'e corr', 'ers of', 'zniak,', 'dity t', 'f risk', 'f valu', 'usuall', ' oppon', 'ilopin', 'commod', 'end, a', '\"). In', 'sk and', ' extan', 'ht or ', 'ith a ', 'develo', 'nquali', 'phenom', 'ptiles', ' falsi', 'th a w', ' Apple', 'provid', ' norma', ' in do', 'nd, an', 'ver a ', 'ly Mac', 'respon', 'anagem', 'theore', 'the co', 'y Jobs', 'Wayne ', '\\xa0is th', 'ic rep', 's your', 'omic i', 're to ', 'eoreti', 'ical i', 'certai', ' natur', ' about', 'mulate', 'crocod', 'ot\"). ', 'Woznia', 'erals ', 'se the', 'kickin', 'ith fu', 'edicti', 'n comm', ' where', 'les (f', 'ular w', ', to v', 'rs in ', 'o stri', ' yours', ' of to', ' of re', 'tures ', 't or p', \"There'\", 'to des', 'covere', 'mes us', 'cas an', 'ing fo', 'rs of ', ', seam', 'stems ', 'o deal', 'discip', 'z over', 'a racq', 'a, mat', 'nded b', 'of pla', ' of va', 'pial f', 'ing fi', 'yed ag', 'n actu', 'k and ', 'shape,', 'r. It ', 'oo, as', 'r pred', 'land t', 'body, ', 'r, Inc', 'the or', 'n\\xa0and\\xa0', 'd is u', 'normal', 't spec', 'lia. T', 'and th', 'l that', 'ing de', 'n Afri', 'lve th', '\"large', 'collec', 'ans th', 'de, ve', ' are l', 'a goal', 'c rept', 'tern g', 'pple I', 'truth ', 'usines', 'idae (', 'est to', 'e fami', 'nerals', ' good ', 'intere', 'hms,\\xa0c', 'It was', 'sually', ' struc', 'espond', 'ess pr', ' place', 'mmon u', 'ch pla', 'ughout', '76 to ', 'tuary ', 'cal is', 's from', 'lly fr', 'profes', 'ogical', 'al str', 'reason', 'rement', 'ting c', 'ement ', 'd enjo', 'lacer ', '. Each', 'oal. U', 'valuab', 'odidae', 'busine', ' they ', 'pple C', 'ocesse', 'retica', 'y! A l', 'overed', 'on of ', 'and se', 'e Appl', ' to fo', 'ers, i', ' Ameri', ' was i', 'sales ', 'nd use', 'use th', 'efend,', 'als wi', 'nageme', ' and w', 'ions a', 'times ', 'd Rona', 'fied, ', 'athema', 'An act', 'nts or', 'ams of', 'y. The', 'rom an', 'he stu', ' grew ', 'soning', 'o vary', 'o, and', 'r fals', 'y that', 'gorith', 'iscipl', ' of\\xa0al', 'nger? ', 'ng wit', 'order ', 'er wit', 'he nam', 'eologi', 'ns abo', 'f play', 'is use', ' inter', 's play', ' Asia,', 'igger ', 'asonin', 'ootbal', ' a net', 'enomen', 'nt and', 'f real', 'tion o', 'e, vei', 'member', 'es fro', 'e\\xa0and\\xa0', 'quatic', ' is so', ' explo', 'aria a', 'chy tr', 'y is a', ', grew', '; they', 'es\\xa0and', 'to sha', 'are\\xa0an', ',\\xa0comp', 'person', 'When m', 'ayne i', 'ure! A', 'ials f', 'builde', 'ly mea', 'r true', 'nd tha', ' formu', 'a rang', 'ms,\\xa0co', ' mater', 'l norm', \"'s you\", 'nal ma', 'rithms', 'implem', 'by Job', 'ounded', ' An ex', 'e name', 'c. in ', 'ainst ', 'ung wi', 's prof', ' of su', 'rom th', 's of t', 'diles ', 'gger f', 'ce spa', '. The ', 'rocodi', 'wester', 'es of ', ' is of', 'fessio', 'achine', ' Inc. ', 'g fiel', 'corres', 'se dep', 'erns t', 'al stu', 'measur', ' a bus', 'real p', 'e I pe', ' a fam', 'mena, ', 'onding', 'n more', ' defen', 't\"). I', 'ollow ', ' by ma', '. In c', ' grey ', 'thms,\\xa0', 'tterns', 'es tha', 'uet sp', 't popu', 'rest t', 'y, the', 'ctuary', ' croco', 'eam, r', 'm a mi', 'hout t', 'rm is ', 'he mos', 'live t', 'a holl', 's foun', 'eld is', ' extra', ' land ', 'ems in', 'na, ma', 'rrespo', 'he red', 'ofessi', ' actio', ' and m', 'the re', ' footb', 'ily Cr', 'w quic', 's to s', 'limitl', 'ls of ', 't. The', 'tudy o', 'a are ', 'd mana', ' Your ', 'and ma', 'ies fr', 'tuaria', 'wire t', 'hrough', 'icking', 'be the', 'n game', 'a wire', 'onal s', 'the pr', 'rm a m', 'e extr', 'h, usu', 'sely t', 'm, ree', 's form', 'astern', 't is o', 'ter bu', 'der Cr', 'arial ', ' of te', ' famil', 'seam, ', 'nd of ', 'iak as', 'embers', 'ple Co', 'ruth o', 'macrop', 'hollow', ' of th', '\\xa0to th', 'new co', 'ion\\xa0to', 'lode, ', ' the a', '\\xa0As a ', 'e is s', 'ystems', 'rsonal', 'quet t', 's of\\xa0a', 'tropic', 'am, re', 'oughou', 'term i', 'miaqua', 'lly me', 'er dep', 'es of\\xa0', ' found', 'cesses', 'in dou', 'l issu', 'enting', 'is a b', 'pondin', 'seek a', 'cians ', ' busin', 's is r', 'true c', 'rge se', 'y of\\xa0a', 'o desc', ' to sc', 'o scor', 'w conj', 'd comm', 'eek an', 'n acti', \"'s App\", 'in, se', 'his fa', ' usual', ' by St', 'conjec', 'th the', ' of my', 'able m', 'amily ', 'oppone', ' a lan', 'softwa', 'ing co', 'and\\xa0so', 'y to i', 'ence\\xa0i', ' red k', 'minera', 'nnis i', ' optio', 'ew con', 'r depo', 'imes u', ' invol', 'attern', 'methin', 'extant', 'uary i', 'meanin', 'roo, a', 'pics f', 'all is', ' to va', 'cquet ', 'ormula', 'ly fro', 'ed eve', 'ulate ', 'rofess', ' strun', 'ports ', 'orm a ', ' colle', 'n Terr', 'al mat', 'atic r', 'hese d', 'late n', 'ody, l', 'pe, de', 'alsity', 's in T', 'evelop', 't oppo', 'ms in\\xa0', 've the', 'ssiona', 'nents ', 'eraliz', 'enture', 'Africa', 'es a r', 't spor', 'odiles', 've thr', 't of r', 'ricas ', 'logica', \"that's\", 'eryone', 'enjoy.', 'erials', 's (fam', 'someti', 'matica', 'of suc', 'the mi', 'puter ', 'ommodi', 'terial', 'rsupia', 'l Wozn', 'l comp', 'fend, ', 'll Woz', 's actu', 't is t', 'Earth,', 'stery!', 'ar whe', 'to the', 'Apple ', 'ely to', 'ers in', 'st spe', ' adven', ' model', ' goal.', 'odels ', 'teve J', 'the st', 'form a', 'word i', 'is a m', 'gical ', 'rs to ', 'e II, ', 'ftware', ' a wir', 'he for', 'studie', 'r wher', 'niak, ', 'of the', 'ple wa', 'l mate', 'escrib', ' the m', 'etimes', ' sell ', 'mic pr', 'f topi', 'ales o', 'in\\xa0har', ' seam,', 'its co', 'er sci', 'he Ame', '976 to', 'y of s', 'spondi', 'opodid', ' ball ', 'd sell', 'dware\\xa0', 'the ex', 'n 1977', 'the an', 'formul', 'angaro', 'he Ear', 'ter. I', 'henome', 'cludin', 'd Wayn', ' These', 'eve Wo', 'red wi', ' wire ', 'volve,', 'es; th', 'al pro', 'lified', 'ractic', 'rica, ', 'ed wit', \" that'\", 'at is ', 'rd is ', 'of val', 'of top', 'of its', 'risk a', 'is fam', 'rike a', ' Compu', 'odylid', ' the s', 'ery! A', 'I, gre', 'rees, ', ', east', 'rdware', 'ters, ', 'l is a', ' quick', 'l syst', 'core a', 'he min', 'form o', '\\xa0softw', 'with t', 'A land', 'ormati', ' varyi', 'ell as', 'gest s', 'ness p', 'f.\\xa0As ', 'ape, d', 'scienc', 'amer w', 'nal co', 'common', 'e thro', 'ructur', 'inty. ', ' team ', 'e good', 'ns in ', 'as wel', 'tical ', 'is a l', ' and e', 'er? A ', 'and\\xa0in', ' depos', 'n\\xa0hard', '? A ma', 'l who ', 'ding f', ' Wozni', ' 1976 ', 'ey kan', 'scipli', 'Asia, ', ') or t', 'onald ', 'corpor', 'o incl', 'oo, ea', ' are g', 'ventur', 'lector', 'the Ap', 'll tha', 'hen ma', 'proof.', 'itless', 'actica', 'supial', 'ity of', 'Americ', 'itself', 'name o', 'aquati', 'other ', 'nd Aus', 'ica, A', 'sues o', 'yne in', ', Inc.', 'machin', 'siness', 'd use ', '. When', 'le is ', 'th fuz', 'algori', 'low ba', 'n douh', 'f impl', 'e patt', 'll nor', 'eptile', 'icas a', 're bod', 's a la', 'founde', 'ern gr', 'finger', ', Stev', 'xtract', ' (macr', 'll ext', 'trike ', 'uatic ', 'mily M', 'orm of', ' limit', 'ic pro', 'be use', 'agains', 'ines\\xa0a', 'ood mo', 'om thi', 'on\\xa0its', 'gainst', 'less. ', 'and we', 'mer wi', 'or? An', ' proof', ' (fami', 'uters,', 'ecies ', 'garoo ', 'ball c', 'Mining', 'arge s', 'he tro', 'r geol', 'nis is', 'ining ', ' racqu', ' field', ' all e', ' live ', ' measu', 'ocodil', 'lized ', 'ystery', ' other', 'l cove', 'er a n', 'mily o', 'tilopi', 'ion ga', 'cal re', 'explor', 'ts com', \"re's s\", 's abou', ' \"larg', 'th an ', 'als fr', 'aticia', 'l reas', ' issue', 'veryon', 'ore lo', 'icians', 'e kang', 'frica,', '? Ther', 'onal m', ' gamer', 'sell W', 'pans a', 'Inc. i', 'iles (', 'ena, m', 'lgorit', 'well a', 'odile ', 'red ka', 'd mode', 'ed com', 'plemen', 'at inv', ' the e', 'teams ', 'ovide ', 'eal ph', 'ns the', ' sales', 'rals o', 'on use', 'putati', 'myster', 'he pra', 'nge of', 'dels o', 'a ball', 'nd unc', 'l from', 'g for ', 'ted by', 'd is a', 'ne kan', ' weste', ' a min', 'ng for', 'sity o', 'omena,', 'hmic p', 'he cor', 'ss. Ar', 'ily of', 'sonal ', ' provi', 'someth', 'iaquat', 'Footba', ' the A', \"niak's\", 'nd wes', 'er fin', '. Your', ', math', 'd that', 'e mine', 'es, ki', ' of ad', 'inger?', 'large ', 'eve Jo', 'al mac', 'udy of', 'y Croc', 'mon us', 'st opp', 'st to ', 'ed, th', 'obs, S', 's in A', 'conomi', 'tional', 'ees, k', 'ually ', 'played', 'y, lod', ' to th', ', Asia', 'hey re', 'ore bo', 'the Am', 'les th', 'aluabl', 'econom', 'hat in', 'e term', 'ore a ', 'ow bal', 'ics in', 're the', 'ormall', 'ses,\\xa0c', ' uncer', 'e of t', 'port t', 'and un', 'd even', 'nes\\xa0an', 'e trut', 'e all ', ' of im', 'her ge', 'who de', ' the l', ' form ', 'extrac', 'ment o', 'l stru', ' score', 'posit.', 't and ', 'nature', 'actuar', 'ncorpo', ' term ', 'semiaq', 'Steve ', ' range', 'grees,', 'term c', ' disci', 'ls wit', 'a busi', ' insig', 'nvolve', 'orithm', 'a, Asi', ' the E', 'iles a', 'ecture', 's fami', 'c proc', 'e depo', ' fuzz ', 'od mod', ' Terra', 'rer? T', 'om an ', 'where ', 'er use', 'uter. ', 'nty. T', 'puter.', 'n\\xa0itse', ' use p', 'nst op', 'ty tha', 'uhbles', 'an ore', ' is a ', 'om the', 'terest', 'zniak ', 'rocody', 'The te', 'of ris', 'and us', ' a ran', 'ture! ', 'codyli', 'njectu', 'by mat', ' proce', ' In co', 'even m', 'yours ', 'ction ', 'p and ', 't to t', 'o the ', 'bles. ', 'd Aust', 'ak, an', 'd Wozn', ' vein,', 'f the ', 'rm cro', 'alized', 'n expl', ' popul', 'here t', 'for ev', 'he tru', 'yers i', 'from t', ' to pr', ' from ', ' as Ap', ' somet', 'cribe ', 'ntilop', ' resol', 'footba', ' Earth', 'dy, lo', ' of fo', 'ents o', 'ustral', 'more l', ' finge', ' for e', 'n, sea', 'l phen', 'The ka', 'can be', '\\xa0itsel', '.\\xa0As a', 're a g', 'rt tha', 'pods, ', ' easte', 'erest ', 'g the ', 'throug', 'ere th', 'er bui', 'layed ', 'ball n', 'self.\\xa0', ' as we', 'dile i', 'nal sy', 'most p', 'proces', 'merica', 're goo', 'ng \"la', 'rue cr', 'ptions', 'al sci', 'e trop', ' speci', 'ouhble', 'ur opt', 'cropod', 'tructu', 'at liv', 'a is a', ' you a', ' and s', ' When ', 'ive th', 's, kic', 'unded ', 'he ord', 'oosely', 'as and', 'I pers', 'ein, s', 'and Wo', 'with a', 'sional', ' tropi', 'l proo', ' a mar', 'themat', 'includ', 'uet th', 'es. Ea', 'nd\\xa0sof', 'e red ', 'upial ', 'ession', ' itchy', 'vein, ', 'r plac', ', comp', 'e larg', ' over ', ' compu', 'g degr', 'pple w', 'hemati', ' or pr', 'roof. ', 'tion g', ' topic', 'rtaint', 'A mast', ' an ac', \"iak's \", 'r with', 'Ronald', ' is ra', 'gamer ', 'h or f', 'ria is', ', incl', 'rmatio', 'all to', 'ures a', 'Jobs a', 'fuzz o', 'ls or ', 'n be u', 'aster ', 'arying', 'lop an', 'les ar', 'tless.', 'to dev', 'obs an', 'agemen', 'e Comp', 'est sp', 's or t', 'is act', 'niak a', 'qualif', 'patter', ' scien', 's seek', 'xtant ', 'zz ove', '. Are ', 'ething', 'ying d', 'r a ne', 'or fal', 'mitles', 'is of ', 'spans ', 'arge f', 'thing ', '\\xa0hardw', 'elf.\\xa0A', 'f econ', 'rey ka', 'of rea', 'ationa', ' The t', 'ning \"', 'puter,', 'over a', 'm spor', 'ut nat', '77, an', 'f, or ', 'tracti', 'ire to', 'rigger', 'f team', 'strike', 'nald W', 'eam sp', 'rithmi', 'defend', 'uickly', ' Macro', 'to var', 'ncerta', ' I per', \"ere's \", 'is rac', 'he ant', 'tralia', '\\xa0infor', 'd of m', 'ike a ', 'f such', 'ld is ', 's to f', 's inco', 'ally f', 'line, ', 'about ', ' spans', ' douhb', 'tic re', ' throu', 'odity ', 'osits ', '? A co', 'mbers ', 'llecto', ' a dis', 'ons in', 'dies o', ' 1977,', 'es use', 'the wo', 'a land', 'r uses', 'rgest ', ' geolo', 'vide i', 'option', ', as w', '1977, ', 'e orde', 'porate', 'ropics', 'lar wh', 'dy of\\xa0', ' uses ', ' a rac', 'hape, ', 'geolog', 'iles t', ' Ronal', 'e limi', ' as th', 'rporat', 'en mat', 'ed aga', 'easure', 'et spo', 'ions i', ' meani', 'tems i', 'd\\xa0soft', 'mation', 'use pa', 'nting ', ' Croco', 'r othe', 'Mathem', 'ciplin', 'ctuari', ' more ', 'antilo', 'erm is', 's a ma', 'ommon ', 'f foot', ' every', 'ly, th', 'douhbl', 'cal st', 'tion\\xa0i', 'or pla', 'ng com', '7, and', 'racque', 'e word', 'he wor', 'ge of ', 'nal wh', 'ile is', '\\xa0and\\xa0c', ', usua', 'iction', 'er geo', 'egrees', 'e a go', 'bers o', 'imitle', 'ded by', ' most ', ' of ec', 'varyin', 'of imp', 'g comp', 'mpleme', 'its fo', 'he ext', 'rts th', 'ca, As', 'orresp', 'r opti', 'pine k', 's, inc', 'ics fr', 'ozniak', 'involv', 'd to d', 'ed to ', ' Austr', 'ualifi', 'descri', 'strung', 'topics', 'to inc', 'is a f', ' Unqua', 'sight ', 'njoy. ', 'and Ro', 'ponent', 'resolv', ' pheno', 'als or', 'se pat', 'atical', 'kangar', 'acer d', 't invo', 'olve, ', 'this f', ' There', 'rovide', 's that', 'e anti', 'er? Th', 'didae ', ' is pl', 'orpora', 'A coll', 's with', 'e) or ', ' repti', ' Steve', 'oo, an', 'r scie', ' loose', 'th, us', 'eef, o', 'en mor', 'II, gr', \"ak's A\", 's a di', 'n math', ' imple', 'clude ', 'ey res', 'g a ba', 'ak as ', 'e semi', 'm an o', 'comput', 'te new', 'rew qu', 'pponen', 'ainty.', 'ld Way', 'from a', 'nomena', 'ated b', 're lar', 'ennis ', 'ith an', 'foot\")', 'le I p', 'ertain', 's a fa', 'e insi', 'was in', 'e body', 'm this', 'al iss', 'that l', 'ary is', 'oftwar', 'le II,', 'e stud', 'such b', ' incor', 'lement', 's. Eac', 'l mach', ' membe', 'plorer', 'is is ', '\\xa0compu', 'an be ', 'ing th', 'as App', 'sports', 'rth, u', 'ylidae', 'nt mem', 'k, and', 'ing \"l', 'on gam', ' playe', 'ipline', 'to str', 's of e', 'cience', 'pline,', 'mputer', 'marsup', 'The na', ', or p', '. Thes', 'mentin', 'll as ', 'onject', 'he ter', 'scribe', 'e! A l', 'o is a', ' Wayne', 'used e', 'ae) or', 'terns ', 'ds, me', 'e croc', \"zniak'\", 'oretic', 's a bu', 'rocess', '. in 1', 'hy tri', 'o, as ', 'l. Unq', 'l exta', 'all ex', 'ball i', 'y trig', 'solve ', ' the r', ' to st', 'ple I ', 'an itc', 'ssues ', 'eaning', 'ty of ', ' descr', \"'s som\", 'rd foo', 'ithmic', 's comp', 'ses a ', 'e was ', 's racq', 't live', ' of pl', 'tball ', 'ball t', 'rns to', 'Tennis', 'that i', 'Austra', 's of p', 'ia is ', ' the p', 'elop a', 'ocodyl', 'he lar', 'els of', 'oo is ', 'n ore ', 'ralia.', 'manage', 'ical r', 'roo is', 'are li', \"e's so\", 'nd\\xa0com', 'opods,', 'onents', 's,\\xa0com', 'd with', ' Jobs ', 'esolve', 'ementi', 'nding ', 'a, the', ' shape', ' name ', 'Unqual', 'nd sel', ', and ', 'rmulat', ' be us', 'u an a', 'ans a ', 'r Croc', 'a fami', 'joy. Y', ' predi', '? An e', 'ant me', 'ily, t', ' study', 'ctor? ', ' deals', 'amily,', 'thmic ', 'de ins', 'esses,', 'with f', 'ribe t', 'redict', 'y. You', ' use t', 'action', 's of i', 'popula', 'er, In', 't the ', 'ou an ', 'es,\\xa0co', 'tself.', 'sit. T', 'hines\\xa0', 'and\\xa0co', 'cies f', ' a bal', 's Appl', 'dae) o', 've, to', 'a mine', ' in Te', 'ctures', 'to for', 'deposi', 'hat li', 'r? The', 'ew qui', 'onomic', 'ayed a', 'as fou', 'r? An ', 'ed by ', 'insigh', 'le min', 'models', 'mputat', 'al who', 'bs and', 'r? A c', 'h an i', ' marsu', 'rials ', 'Macrop', \"at's y\", 'tudies', 'onal w', 'good m', 'ues of', 'specie', 'out th', 'ter, I', 'ding t', 're you', ' kanga', 'ng a b', 'or eve', 'rated ', \"t's yo\", 'ing a ', 'puters', ' degre', 'urs to', 'nd Ron', 'ce\\xa0is ', 'opics ', ' actua', ' theor', ' such ', ' its c', 'o, eas', 'king a', 'the fo', 'opine ', 'ger fi', 'bs, St', 'lsity ', 'the tr', 'ield i', 'codili', 'tchy t', 've Job', 's or o', 'eposit', ' conje', 'are la', 'dventu', 'ae (ma', ' the o', 'ts or ', 'ic int', 'm of f', 'd west', 'ns to ', 'n of v', 's and ', 'Jobs, ', 'ning c', 'and Au', ' an it', 'nture!', 'the mo', 'tor? A', ' body,', ' Each ', ' well ', 'hat is', 'uter s', 'emiaqu', 'y kang', 'is som', 'a. The', ' and A', 'ies of', 'sport ', 'g can ', 'nomic ', 'uter, ', 'ster b', ' cover', ' reaso', 'ode, v', 'f. Whe', 'goal. ', 'chines', 'ation\\xa0', 'g is t', ' seek ', 'uth or', 'mily C', 'rn gre', 'ight o', 'lder? ', 'ly Cro', 'ng the', 'e to s', 'ng fie', 'ial fr', 'orer? ', 'erm cr', 's. Are', ' a goa', 'uable ', ' is st', 'vered ', '6 to d', ' the f', 'pular ', ', lode', \"here's\", 'aroo, ', ' The n', 'h the ', 'everyo', ', defe', 'aroo i', 'ng is ', 'e, to ', 'grew q', 'h by m', ' myste', 'metime', 'sia, t', 'etical', ' A col', 'l as t', 'arth, ', 'As a d', 'all no', 'ence s', 'les. E', 'nforma', 'ty. Th', 'n use ', 'grey k', 'ractio', 'y mean'}\n"
          ]
        },
        {
          "output_type": "stream",
          "name": "stderr",
          "text": [
            "\n"
          ]
        },
        {
          "output_type": "execute_result",
          "data": {
            "text/plain": [
              "(10, 2130)"
            ]
          },
          "metadata": {},
          "execution_count": 62
        }
      ]
    },
    {
      "cell_type": "code",
      "metadata": {
        "colab": {
          "base_uri": "https://localhost:8080/"
        },
        "id": "MCtYdQgpokQ1",
        "outputId": "127f8e6f-ac7c-4cbf-df1d-e6eec8e15590"
      },
      "source": [
        "vocab = build_vocab(shingles)\n",
        "len(shingles)"
      ],
      "execution_count": null,
      "outputs": [
        {
          "output_type": "stream",
          "name": "stdout",
          "text": [
            "{'ion\\xa0an', 'ven mo', 'nerali', 'res ar', ', mean', ' used ', 'is pla', ' maste', 'uzz ov', 'or tea', 'iness ', 'used t', ', kick', 'ours t', 'ians s', 'al fro', 'opular', 'roo, e', 'mathem', 'e, def', 'rmally', ' A lan', 'llow b', 'ered w', 'es (fa', 'it. Th', 'le was', 'to pro', 'the te', 'ing ca', ' risk ', 'r fing', 'heoret', 'ge foo', 'h play', 'nd Woz', 'ateria', 'eams o', 'r ever', 'uarial', 'ine ka', 'l stud', 'es are', 'quickl', 'ion\\xa0it', 'ger? A', 'rs, in', ' is us', ' lode,', 'olve t', ' II, g', 'udies ', ' manag', 'they r', 'easoni', 'hing f', 'layers', 'Your o', 'Each p', 're loo', 'ied, t', 'dae (m', ' or te', 'ropods', 'idae) ', 'tions ', 'In com', 'cking ', 'rraria', 'ght or', 'a disc', 'ost po', 'as inc', ' commo', 'bout n', 'ector?', 'issues', 'trigge', 'y reso', 'n itch', 'tiles ', 'in 197', 'r buil', 'omputa', 'otball', 'cs in ', ' means', ' reef,', 'ke a h', ' this ', 'alia. ', ' and u', 'gement', 'mic in', 's in d', 'der? A', 'ucture', 'n 1976', 'ilder?', ' hollo', ' is ac', 'ach pl', '1976 t', ' in\\xa0ha', 's\\xa0and\\xa0', 's are ', 'itchy ', 'study ', 'res; t', 'ompute', 'k as A', 'uncert', ' who d', 'uch by', 'd kang', 'omethi', ' build', 'ods, m', 'player', 't natu', 'l to s', 'ent of', ' an or', 'e Amer', 'ical m', 'mally ', 'oof. W', 'g with', '977, a', 'ts for', 'y Macr', 'land o', 'the Ea', 'score ', 'ate ne', 'mmodit', 'estern', ' word ', 're! A ', ' that ', 'are go', 's used', 'podida', 'ith th', 'ctions', 'trung ', 'nc. in', 'lorer?', 's a ra', 'ncludi', 'ef, or', 'ial sc', 'ed kan', 'eals w', 'nsight', 's, mea', 'e a ho', 's the ', 'rial s', 'mily, ', 'uding ', 'd foot', 'ald Wa', 'eans t', 'ent an', ' of it', 'cal pr', 'cer de', 'asurem', 'tion\\xa0t', ' even ', 'dictio', 'he kan', 'ge sem', 'e meas', 'e foot', 'deals ', ' mathe', 'ity th', 'ineral', 'e most', ' trigg', 'osely ', ' to de', 're lim', 'on\\xa0to ', 'ss pro', 'e, com', 't was ', 'xplore', ' can b', 'nd sal', ' antil', ', reef', 'and of', ' A mas', 'de all', 't is p', 'ne in ', ' inclu', 'ericas', 'c inte', ', the ', 'ience ', 'lidae)', 'ine, c', 'you an', ' machi', 'ter sc', ' is th', 'in Ter', 'matici', 'ia are', 'rge fo', 'layer ', 'e span', 'ralize', 'ily Ma', 'l scie', 'll to ', 'ns see', ' sport', 'y Stev', 'of foo', 'ware\\xa0a', 'les of', 'ngaroo', ' econo', 'Comput', 'ho dea', 'ry! A ', 'd agai', 'ience\\xa0', 'of tea', 'range ', 'll is ', 'of eco', 'iak, a', 'predic', 'cal ma', '. Unqu', 'oy. Yo', ' valua', 'ollect', 's, Ste', ' It wa', 'm the ', 't is s', ', vein', 'luding', 'rougho', 'o form', 'an act', 'sits f', ' pract', 'is str', 's well', 'al com', 'and en', ' with ', 'ologic', 'ified,', 'luable', 'codile', 'ne, co', 'rder C', '\\xa0and\\xa0i', 't memb', 'f\\xa0algo', 'of adv', 'ing is', ' large', 'ue cro', 'and sa', 'ctical', 's; the', 'ell Wo', 'or pre', 'd to p', 'ude al', 'al rea', 'e (mac', 'd sale', 'reptil', 'ek and', 'jectur', 'all co', ' corre', ' or fa', ' enjoy', 'lopine', 'th or ', 'e Eart', 'e used', 'op and', 'errari', 'to sco', 'ns a r', 'd\\xa0info', 'Terrar', 'ple II', 'ion of', 'our op', 'e in 1', 'ized c', 'ord fo', ' real ', 'm is u', 'was fo', 'pics i', 'e new ', 'h a wi', 'ayers ', 'e form', 'rying ', 'the fa', 'system', 'ional ', 'tery! ', 'nce sp', 'd\\xa0comp', 'ures; ', 'ally m', 'placer', 'practi', 'tician', 'sureme', '. It w', 'format', ' syste', 'nt of ', 'nd man', ' or tr', 'ans se', ' the w', 'ria ar', 'velop ', ' a hol', 'ese de', 'hbles.', 'on\\xa0and', 'ly to ', 'ometim', 'or tru', 'ia. Th', 'ly of ', 'ning i', '\\xa0and\\xa0s', 'tant m', 'f myst', 'falsit', 'pecies', 'ls fro', ' semia', ' kicki', 'nce\\xa0is', 'ord is', 'ts tha', 'An exp', 'as the', 'sed to', 'team s', 'word f', 'ons ab', ' of ri', 'acropo', 'onal c', 'degree', 'ibe th', ' or pl', 'ropodi', 'tures;', ' true ', 's in\\xa0h', ' or ot', 'argest', 'is the', 'am spo', 'al. Un', ' the t', 'aria i', ' Jobs,', 'ame of', 'oning ', 'zed co', 'raria ', 'field ', 'ut the', 'in Afr', ' and W', 'er. It', 'uremen', ' in Af', 'aning ', 'oot\").', 'ia, th', 'reef, ', 'f its ', 'ry is ', 'he fam', 'orts t', 'ort th', 'uilder', 'nteres', 'garoo,', 'ng deg', ' profe', 'r? A m', 'alifie', 'of\\xa0alg', 'uses a', 'y from', 'ange o', 're\\xa0and', 'lude a', 'ide in', 'yer us', 'ess. A', 'Are yo', 'rung w', 'ical s', 'nclude', 'tainty', 'a mars', 'of. Wh', 'ble mi', 'ithms,', 'out na', 'ematic', 't that', 'the me', 'tion\\xa0a', 'e Wozn', 'r team', 'o shap', 'g \"lar', ' studi', 'or oth', 'struct', 'Crocod', 'nd enj', 's stru', 'ms of ', 'e Jobs', 'sses,\\xa0', 'er Cro', 'nd\\xa0inf', 'll cov', 'materi', '(famil', ' Afric', 'lf.\\xa0As', 'ment a', ' teams', 'd, the', '(macro', '! A la', 'he mea', ' strik', 'cs fro', ' again', 'sed ev', ' in 19', 'e you ', ' miner', 'rm of ', 'teve W', 'd of a', 'hardwa', 'modity', ' perso', 'utatio', 've Woz', 'family', 'm croc', 'y of t', 'd, and', 's of r', \"hat's \", 'inst o', 'dylida', 'stern ', 'posits', 'strali', 'al sys', 'o prov', 'quet s', ' Are y', '\\xa0algor', 'inform', 'isk an', 'm theo', 'orated', 'le Com', ' order', ' and R', ' new c', 'al phe', 'osit. ', 'ersona', 'advent', 'y math', 'e the ', ' devel', 'h fuzz', ' was f', 'd by S', 'arsupi', 'st pop', 'e prac', 'n\\xa0to t', ' to in', 'larges', 'me of ', 'the la', ' truth', \"k's Ap\", 'ng can', 'incorp', 'he App', 'ch by ', 'ical p', 'd by J', 'ayer u', 'ther g', '). In ', ' foot\"', 'e loos', 'master', 'means ', ' ore b', 'all th', 'ardwar', 'o deve', 'ghout ', 'tation', 'd unce', 'f adve', 'n grey', 'loosel', 'acquet', 'et tha', ' the c', 'by Ste', ' to sh', ' by Jo', 'easter', ' patte', 'lve, t', 'of mys', 'e\\xa0is t', 'w ball', 's some', 'These ', 'e corr', 'ers of', 'zniak,', 'dity t', 'f risk', 'f valu', 'usuall', ' oppon', 'ilopin', 'commod', 'end, a', '\"). In', 'sk and', ' extan', 'ht or ', 'ith a ', 'develo', 'nquali', 'phenom', 'ptiles', ' falsi', 'th a w', ' Apple', 'provid', ' norma', ' in do', 'nd, an', 'ver a ', 'ly Mac', 'respon', 'anagem', 'theore', 'the co', 'y Jobs', 'Wayne ', '\\xa0is th', 'ic rep', 's your', 'omic i', 're to ', 'eoreti', 'ical i', 'certai', ' natur', ' about', 'mulate', 'crocod', 'ot\"). ', 'Woznia', 'erals ', 'se the', 'kickin', 'ith fu', 'edicti', 'n comm', ' where', 'les (f', 'ular w', ', to v', 'rs in ', 'o stri', ' yours', ' of to', ' of re', 'tures ', 't or p', \"There'\", 'to des', 'covere', 'mes us', 'cas an', 'ing fo', 'rs of ', ', seam', 'stems ', 'o deal', 'discip', 'z over', 'a racq', 'a, mat', 'nded b', 'of pla', ' of va', 'pial f', 'ing fi', 'yed ag', 'n actu', 'k and ', 'shape,', 'r. It ', 'oo, as', 'r pred', 'land t', 'body, ', 'r, Inc', 'the or', 'n\\xa0and\\xa0', 'd is u', 'normal', 't spec', 'lia. T', 'and th', 'l that', 'ing de', 'n Afri', 'lve th', '\"large', 'collec', 'ans th', 'de, ve', ' are l', 'a goal', 'c rept', 'tern g', 'pple I', 'truth ', 'usines', 'idae (', 'est to', 'e fami', 'nerals', ' good ', 'intere', 'hms,\\xa0c', 'It was', 'sually', ' struc', 'espond', 'ess pr', ' place', 'mmon u', 'ch pla', 'ughout', '76 to ', 'tuary ', 'cal is', 's from', 'lly fr', 'profes', 'ogical', 'al str', 'reason', 'rement', 'ting c', 'ement ', 'd enjo', 'lacer ', '. Each', 'oal. U', 'valuab', 'odidae', 'busine', ' they ', 'pple C', 'ocesse', 'retica', 'y! A l', 'overed', 'on of ', 'and se', 'e Appl', ' to fo', 'ers, i', ' Ameri', ' was i', 'sales ', 'nd use', 'use th', 'efend,', 'als wi', 'nageme', ' and w', 'ions a', 'times ', 'd Rona', 'fied, ', 'athema', 'An act', 'nts or', 'ams of', 'y. The', 'rom an', 'he stu', ' grew ', 'soning', 'o vary', 'o, and', 'r fals', 'y that', 'gorith', 'iscipl', ' of\\xa0al', 'nger? ', 'ng wit', 'order ', 'er wit', 'he nam', 'eologi', 'ns abo', 'f play', 'is use', ' inter', 's play', ' Asia,', 'igger ', 'asonin', 'ootbal', ' a net', 'enomen', 'nt and', 'f real', 'tion o', 'e, vei', 'member', 'es fro', 'e\\xa0and\\xa0', 'quatic', ' is so', ' explo', 'aria a', 'chy tr', 'y is a', ', grew', '; they', 'es\\xa0and', 'to sha', 'are\\xa0an', ',\\xa0comp', 'person', 'When m', 'ayne i', 'ure! A', 'ials f', 'builde', 'ly mea', 'r true', 'nd tha', ' formu', 'a rang', 'ms,\\xa0co', ' mater', 'l norm', \"'s you\", 'nal ma', 'rithms', 'implem', 'by Job', 'ounded', ' An ex', 'e name', 'c. in ', 'ainst ', 'ung wi', 's prof', ' of su', 'rom th', 's of t', 'diles ', 'gger f', 'ce spa', '. The ', 'rocodi', 'wester', 'es of ', ' is of', 'fessio', 'achine', ' Inc. ', 'g fiel', 'corres', 'se dep', 'erns t', 'al stu', 'measur', ' a bus', 'real p', 'e I pe', ' a fam', 'mena, ', 'onding', 'n more', ' defen', 't\"). I', 'ollow ', ' by ma', '. In c', ' grey ', 'thms,\\xa0', 'tterns', 'es tha', 'uet sp', 't popu', 'rest t', 'y, the', 'ctuary', ' croco', 'eam, r', 'm a mi', 'hout t', 'rm is ', 'he mos', 'live t', 'a holl', 's foun', 'eld is', ' extra', ' land ', 'ems in', 'na, ma', 'rrespo', 'he red', 'ofessi', ' actio', ' and m', 'the re', ' footb', 'ily Cr', 'w quic', 's to s', 'limitl', 'ls of ', 't. The', 'tudy o', 'a are ', 'd mana', ' Your ', 'and ma', 'ies fr', 'tuaria', 'wire t', 'hrough', 'icking', 'be the', 'n game', 'a wire', 'onal s', 'the pr', 'rm a m', 'e extr', 'h, usu', 'sely t', 'm, ree', 's form', 'astern', 't is o', 'ter bu', 'der Cr', 'arial ', ' of te', ' famil', 'seam, ', 'nd of ', 'iak as', 'embers', 'ple Co', 'ruth o', 'macrop', 'hollow', ' of th', '\\xa0to th', 'new co', 'ion\\xa0to', 'lode, ', ' the a', '\\xa0As a ', 'e is s', 'ystems', 'rsonal', 'quet t', 's of\\xa0a', 'tropic', 'am, re', 'oughou', 'term i', 'miaqua', 'lly me', 'er dep', 'es of\\xa0', ' found', 'cesses', 'in dou', 'l issu', 'enting', 'is a b', 'pondin', 'seek a', 'cians ', ' busin', 's is r', 'true c', 'rge se', 'y of\\xa0a', 'o desc', ' to sc', 'o scor', 'w conj', 'd comm', 'eek an', 'n acti', \"'s App\", 'in, se', 'his fa', ' usual', ' by St', 'conjec', 'th the', ' of my', 'able m', 'amily ', 'oppone', ' a lan', 'softwa', 'ing co', 'and\\xa0so', 'y to i', 'ence\\xa0i', ' red k', 'minera', 'nnis i', ' optio', 'ew con', 'r depo', 'imes u', ' invol', 'attern', 'methin', 'extant', 'uary i', 'meanin', 'roo, a', 'pics f', 'all is', ' to va', 'cquet ', 'ormula', 'ly fro', 'ed eve', 'ulate ', 'rofess', ' strun', 'ports ', 'orm a ', ' colle', 'n Terr', 'al mat', 'atic r', 'hese d', 'late n', 'ody, l', 'pe, de', 'alsity', 's in T', 'evelop', 't oppo', 'ms in\\xa0', 've the', 'ssiona', 'nents ', 'eraliz', 'enture', 'Africa', 'es a r', 't spor', 'odiles', 've thr', 't of r', 'ricas ', 'logica', \"that's\", 'eryone', 'enjoy.', 'erials', 's (fam', 'someti', 'matica', 'of suc', 'the mi', 'puter ', 'ommodi', 'terial', 'rsupia', 'l Wozn', 'l comp', 'fend, ', 'll Woz', 's actu', 't is t', 'Earth,', 'stery!', 'ar whe', 'to the', 'Apple ', 'ely to', 'ers in', 'st spe', ' adven', ' model', ' goal.', 'odels ', 'teve J', 'the st', 'form a', 'word i', 'is a m', 'gical ', 'rs to ', 'e II, ', 'ftware', ' a wir', 'he for', 'studie', 'r wher', 'niak, ', 'of the', 'ple wa', 'l mate', 'escrib', ' the m', 'etimes', ' sell ', 'mic pr', 'f topi', 'ales o', 'in\\xa0har', ' seam,', 'its co', 'er sci', 'he Ame', '976 to', 'y of s', 'spondi', 'opodid', ' ball ', 'd sell', 'dware\\xa0', 'the ex', 'n 1977', 'the an', 'formul', 'angaro', 'he Ear', 'ter. I', 'henome', 'cludin', 'd Wayn', ' These', 'eve Wo', 'red wi', ' wire ', 'volve,', 'es; th', 'al pro', 'lified', 'ractic', 'rica, ', 'ed wit', \" that'\", 'at is ', 'rd is ', 'of val', 'of top', 'of its', 'risk a', 'is fam', 'rike a', ' Compu', 'odylid', ' the s', 'ery! A', 'I, gre', 'rees, ', ', east', 'rdware', 'ters, ', 'l is a', ' quick', 'l syst', 'core a', 'he min', 'form o', '\\xa0softw', 'with t', 'A land', 'ormati', ' varyi', 'ell as', 'gest s', 'ness p', 'f.\\xa0As ', 'ape, d', 'scienc', 'amer w', 'nal co', 'common', 'e thro', 'ructur', 'inty. ', ' team ', 'e good', 'ns in ', 'as wel', 'tical ', 'is a l', ' and e', 'er? A ', 'and\\xa0in', ' depos', 'n\\xa0hard', '? A ma', 'l who ', 'ding f', ' Wozni', ' 1976 ', 'ey kan', 'scipli', 'Asia, ', ') or t', 'onald ', 'corpor', 'o incl', 'oo, ea', ' are g', 'ventur', 'lector', 'the Ap', 'll tha', 'hen ma', 'proof.', 'itless', 'actica', 'supial', 'ity of', 'Americ', 'itself', 'name o', 'aquati', 'other ', 'nd Aus', 'ica, A', 'sues o', 'yne in', ', Inc.', 'machin', 'siness', 'd use ', '. When', 'le is ', 'th fuz', 'algori', 'low ba', 'n douh', 'f impl', 'e patt', 'll nor', 'eptile', 'icas a', 're bod', 's a la', 'founde', 'ern gr', 'finger', ', Stev', 'xtract', ' (macr', 'll ext', 'trike ', 'uatic ', 'mily M', 'orm of', ' limit', 'ic pro', 'be use', 'agains', 'ines\\xa0a', 'ood mo', 'om thi', 'on\\xa0its', 'gainst', 'less. ', 'and we', 'mer wi', 'or? An', ' proof', ' (fami', 'uters,', 'ecies ', 'garoo ', 'ball c', 'Mining', 'arge s', 'he tro', 'r geol', 'nis is', 'ining ', ' racqu', ' field', ' all e', ' live ', ' measu', 'ocodil', 'lized ', 'ystery', ' other', 'l cove', 'er a n', 'mily o', 'tilopi', 'ion ga', 'cal re', 'explor', 'ts com', \"re's s\", 's abou', ' \"larg', 'th an ', 'als fr', 'aticia', 'l reas', ' issue', 'veryon', 'ore lo', 'icians', 'e kang', 'frica,', '? Ther', 'onal m', ' gamer', 'sell W', 'pans a', 'Inc. i', 'iles (', 'ena, m', 'lgorit', 'well a', 'odile ', 'red ka', 'd mode', 'ed com', 'plemen', 'at inv', ' the e', 'teams ', 'ovide ', 'eal ph', 'ns the', ' sales', 'rals o', 'on use', 'putati', 'myster', 'he pra', 'nge of', 'dels o', 'a ball', 'nd unc', 'l from', 'g for ', 'ted by', 'd is a', 'ne kan', ' weste', ' a min', 'ng for', 'sity o', 'omena,', 'hmic p', 'he cor', 'ss. Ar', 'ily of', 'sonal ', ' provi', 'someth', 'iaquat', 'Footba', ' the A', \"niak's\", 'nd wes', 'er fin', '. Your', ', math', 'd that', 'e mine', 'es, ki', ' of ad', 'inger?', 'large ', 'eve Jo', 'al mac', 'udy of', 'y Croc', 'mon us', 'st opp', 'st to ', 'ed, th', 'obs, S', 's in A', 'conomi', 'tional', 'ees, k', 'ually ', 'played', 'y, lod', ' to th', ', Asia', 'hey re', 'ore bo', 'the Am', 'les th', 'aluabl', 'econom', 'hat in', 'e term', 'ore a ', 'ow bal', 'ics in', 're the', 'ormall', 'ses,\\xa0c', ' uncer', 'e of t', 'port t', 'and un', 'd even', 'nes\\xa0an', 'e trut', 'e all ', ' of im', 'her ge', 'who de', ' the l', ' form ', 'extrac', 'ment o', 'l stru', ' score', 'posit.', 't and ', 'nature', 'actuar', 'ncorpo', ' term ', 'semiaq', 'Steve ', ' range', 'grees,', 'term c', ' disci', 'ls wit', 'a busi', ' insig', 'nvolve', 'orithm', 'a, Asi', ' the E', 'iles a', 'ecture', 's fami', 'c proc', 'e depo', ' fuzz ', 'od mod', ' Terra', 'rer? T', 'om an ', 'where ', 'er use', 'uter. ', 'nty. T', 'puter.', 'n\\xa0itse', ' use p', 'nst op', 'ty tha', 'uhbles', 'an ore', ' is a ', 'om the', 'terest', 'zniak ', 'rocody', 'The te', 'of ris', 'and us', ' a ran', 'ture! ', 'codyli', 'njectu', 'by mat', ' proce', ' In co', 'even m', 'yours ', 'ction ', 'p and ', 't to t', 'o the ', 'bles. ', 'd Aust', 'ak, an', 'd Wozn', ' vein,', 'f the ', 'rm cro', 'alized', 'n expl', ' popul', 'here t', 'for ev', 'he tru', 'yers i', 'from t', ' to pr', ' from ', ' as Ap', ' somet', 'cribe ', 'ntilop', ' resol', 'footba', ' Earth', 'dy, lo', ' of fo', 'ents o', 'ustral', 'more l', ' finge', ' for e', 'n, sea', 'l phen', 'The ka', 'can be', '\\xa0itsel', '.\\xa0As a', 're a g', 'rt tha', 'pods, ', ' easte', 'erest ', 'g the ', 'throug', 'ere th', 'er bui', 'layed ', 'ball n', 'self.\\xa0', ' as we', 'dile i', 'nal sy', 'most p', 'proces', 'merica', 're goo', 'ng \"la', 'rue cr', 'ptions', 'al sci', 'e trop', ' speci', 'ouhble', 'ur opt', 'cropod', 'tructu', 'at liv', 'a is a', ' you a', ' and s', ' When ', 'ive th', 's, kic', 'unded ', 'he ord', 'oosely', 'as and', 'I pers', 'ein, s', 'and Wo', 'with a', 'sional', ' tropi', 'l proo', ' a mar', 'themat', 'includ', 'uet th', 'es. Ea', 'nd\\xa0sof', 'e red ', 'upial ', 'ession', ' itchy', 'vein, ', 'r plac', ', comp', 'e larg', ' over ', ' compu', 'g degr', 'pple w', 'hemati', ' or pr', 'roof. ', 'tion g', ' topic', 'rtaint', 'A mast', ' an ac', \"iak's \", 'r with', 'Ronald', ' is ra', 'gamer ', 'h or f', 'ria is', ', incl', 'rmatio', 'all to', 'ures a', 'Jobs a', 'fuzz o', 'ls or ', 'n be u', 'aster ', 'arying', 'lop an', 'les ar', 'tless.', 'to dev', 'obs an', 'agemen', 'e Comp', 'est sp', 's or t', 'is act', 'niak a', 'qualif', 'patter', ' scien', 's seek', 'xtant ', 'zz ove', '. Are ', 'ething', 'ying d', 'r a ne', 'or fal', 'mitles', 'is of ', 'spans ', 'arge f', 'thing ', '\\xa0hardw', 'elf.\\xa0A', 'f econ', 'rey ka', 'of rea', 'ationa', ' The t', 'ning \"', 'puter,', 'over a', 'm spor', 'ut nat', '77, an', 'f, or ', 'tracti', 'ire to', 'rigger', 'f team', 'strike', 'nald W', 'eam sp', 'rithmi', 'defend', 'uickly', ' Macro', 'to var', 'ncerta', ' I per', \"ere's \", 'is rac', 'he ant', 'tralia', '\\xa0infor', 'd of m', 'ike a ', 'f such', 'ld is ', 's to f', 's inco', 'ally f', 'line, ', 'about ', ' spans', ' douhb', 'tic re', ' throu', 'odity ', 'osits ', '? A co', 'mbers ', 'llecto', ' a dis', 'ons in', 'dies o', ' 1977,', 'es use', 'the wo', 'a land', 'r uses', 'rgest ', ' geolo', 'vide i', 'option', ', as w', '1977, ', 'e orde', 'porate', 'ropics', 'lar wh', 'dy of\\xa0', ' uses ', ' a rac', 'hape, ', 'geolog', 'iles t', ' Ronal', 'e limi', ' as th', 'rporat', 'en mat', 'ed aga', 'easure', 'et spo', 'ions i', ' meani', 'tems i', 'd\\xa0soft', 'mation', 'use pa', 'nting ', ' Croco', 'r othe', 'Mathem', 'ciplin', 'ctuari', ' more ', 'antilo', 'erm is', 's a ma', 'ommon ', 'f foot', ' every', 'ly, th', 'douhbl', 'cal st', 'tion\\xa0i', 'or pla', 'ng com', '7, and', 'racque', 'e word', 'he wor', 'ge of ', 'nal wh', 'ile is', '\\xa0and\\xa0c', ', usua', 'iction', 'er geo', 'egrees', 'e a go', 'bers o', 'imitle', 'ded by', ' most ', ' of ec', 'varyin', 'of imp', 'g comp', 'mpleme', 'its fo', 'he ext', 'rts th', 'ca, As', 'orresp', 'r opti', 'pine k', 's, inc', 'ics fr', 'ozniak', 'involv', 'd to d', 'ed to ', ' Austr', 'ualifi', 'descri', 'strung', 'topics', 'to inc', 'is a f', ' Unqua', 'sight ', 'njoy. ', 'and Ro', 'ponent', 'resolv', ' pheno', 'als or', 'se pat', 'atical', 'kangar', 'acer d', 't invo', 'olve, ', 'this f', ' There', 'rovide', 's that', 'e anti', 'er? Th', 'didae ', ' is pl', 'orpora', 'A coll', 's with', 'e) or ', ' repti', ' Steve', 'oo, an', 'r scie', ' loose', 'th, us', 'eef, o', 'en mor', 'II, gr', \"ak's A\", 's a di', 'n math', ' imple', 'clude ', 'ey res', 'g a ba', 'ak as ', 'e semi', 'm an o', 'comput', 'te new', 'rew qu', 'pponen', 'ainty.', 'ld Way', 'from a', 'nomena', 'ated b', 're lar', 'ennis ', 'ith an', 'foot\")', 'le I p', 'ertain', 's a fa', 'e insi', 'was in', 'e body', 'm this', 'al iss', 'that l', 'ary is', 'oftwar', 'le II,', 'e stud', 'such b', ' incor', 'lement', 's. Eac', 'l mach', ' membe', 'plorer', 'is is ', '\\xa0compu', 'an be ', 'ing th', 'as App', 'sports', 'rth, u', 'ylidae', 'nt mem', 'k, and', 'ing \"l', 'on gam', ' playe', 'ipline', 'to str', 's of e', 'cience', 'pline,', 'mputer', 'marsup', 'The na', ', or p', '. Thes', 'mentin', 'll as ', 'onject', 'he ter', 'scribe', 'e! A l', 'o is a', ' Wayne', 'used e', 'ae) or', 'terns ', 'ds, me', 'e croc', \"zniak'\", 'oretic', 's a bu', 'rocess', '. in 1', 'hy tri', 'o, as ', 'l. Unq', 'l exta', 'all ex', 'ball i', 'y trig', 'solve ', ' the r', ' to st', 'ple I ', 'an itc', 'ssues ', 'eaning', 'ty of ', ' descr', \"'s som\", 'rd foo', 'ithmic', 's comp', 'ses a ', 'e was ', 's racq', 't live', ' of pl', 'tball ', 'ball t', 'rns to', 'Tennis', 'that i', 'Austra', 's of p', 'ia is ', ' the p', 'elop a', 'ocodyl', 'he lar', 'els of', 'oo is ', 'n ore ', 'ralia.', 'manage', 'ical r', 'roo is', 'are li', \"e's so\", 'nd\\xa0com', 'opods,', 'onents', 's,\\xa0com', 'd with', ' Jobs ', 'esolve', 'ementi', 'nding ', 'a, the', ' shape', ' name ', 'Unqual', 'nd sel', ', and ', 'rmulat', ' be us', 'u an a', 'ans a ', 'r Croc', 'a fami', 'joy. Y', ' predi', '? An e', 'ant me', 'ily, t', ' study', 'ctor? ', ' deals', 'amily,', 'thmic ', 'de ins', 'esses,', 'with f', 'ribe t', 'redict', 'y. You', ' use t', 'action', 's of i', 'popula', 'er, In', 't the ', 'ou an ', 'es,\\xa0co', 'tself.', 'sit. T', 'hines\\xa0', 'and\\xa0co', 'cies f', ' a bal', 's Appl', 'dae) o', 've, to', 'a mine', ' in Te', 'ctures', 'to for', 'deposi', 'hat li', 'r? The', 'ew qui', 'onomic', 'ayed a', 'as fou', 'r? An ', 'ed by ', 'insigh', 'le min', 'models', 'mputat', 'al who', 'bs and', 'r? A c', 'h an i', ' marsu', 'rials ', 'Macrop', \"at's y\", 'tudies', 'onal w', 'good m', 'ues of', 'specie', 'out th', 'ter, I', 'ding t', 're you', ' kanga', 'ng a b', 'or eve', 'rated ', \"t's yo\", 'ing a ', 'puters', ' degre', 'urs to', 'nd Ron', 'ce\\xa0is ', 'opics ', ' actua', ' theor', ' such ', ' its c', 'o, eas', 'king a', 'the fo', 'opine ', 'ger fi', 'bs, St', 'lsity ', 'the tr', 'ield i', 'codili', 'tchy t', 've Job', 's or o', 'eposit', ' conje', 'are la', 'dventu', 'ae (ma', ' the o', 'ts or ', 'ic int', 'm of f', 'd west', 'ns to ', 'n of v', 's and ', 'Jobs, ', 'ning c', 'and Au', ' an it', 'nture!', 'the mo', 'tor? A', ' body,', ' Each ', ' well ', 'hat is', 'uter s', 'emiaqu', 'y kang', 'is som', 'a. The', ' and A', 'ies of', 'sport ', 'g can ', 'nomic ', 'uter, ', 'ster b', ' cover', ' reaso', 'ode, v', 'f. Whe', 'goal. ', 'chines', 'ation\\xa0', 'g is t', ' seek ', 'uth or', 'mily C', 'rn gre', 'ight o', 'lder? ', 'ly Cro', 'ng the', 'e to s', 'ng fie', 'ial fr', 'orer? ', 'erm cr', 's. Are', ' a goa', 'uable ', ' is st', 'vered ', '6 to d', ' the f', 'pular ', ', lode', \"here's\", 'aroo, ', ' The n', 'h the ', 'everyo', ', defe', 'aroo i', 'ng is ', 'e, to ', 'grew q', 'h by m', ' myste', 'metime', 'sia, t', 'etical', ' A col', 'l as t', 'arth, ', 'As a d', 'all no', 'ence s', 'les. E', 'nforma', 'ty. Th', 'n use ', 'grey k', 'ractio', 'y mean'}\n"
          ]
        },
        {
          "output_type": "execute_result",
          "data": {
            "text/plain": [
              "10"
            ]
          },
          "metadata": {},
          "execution_count": 63
        }
      ]
    },
    {
      "cell_type": "code",
      "metadata": {
        "colab": {
          "base_uri": "https://localhost:8080/"
        },
        "id": "h3HTSigDozLT",
        "outputId": "1368647e-964a-48d2-9f17-1a505f8099b1"
      },
      "source": [
        "arr = minhash_arr(vocab, 40)\n",
        "\n",
        "signatures = []\n",
        "\n",
        "for vector in shingles_1hot:\n",
        "    signatures.append(get_signature(arr, vector))\n",
        "\n",
        "# merge signatures into single array\n",
        "signatures = np.stack(signatures)\n",
        "signatures.shape"
      ],
      "execution_count": null,
      "outputs": [
        {
          "output_type": "execute_result",
          "data": {
            "text/plain": [
              "(10, 40)"
            ]
          },
          "metadata": {},
          "execution_count": 65
        }
      ]
    },
    {
      "cell_type": "code",
      "metadata": {
        "id": "XXUn3Frho-3c"
      },
      "source": [
        "b = 20 #number of buckets\n",
        "\n",
        "lsh = LSH(b)\n",
        "\n",
        "for signature in signatures:\n",
        "    lsh.add_hash(signature)"
      ],
      "execution_count": null,
      "outputs": []
    },
    {
      "cell_type": "code",
      "metadata": {
        "id": "fbBG1aqcpGBh",
        "colab": {
          "base_uri": "https://localhost:8080/"
        },
        "outputId": "234fdd4e-97b9-47a4-d549-9aa93728a29e"
      },
      "source": [
        "candidate_pairs = lsh.check_candidates()\n",
        "print(len(candidate_pairs))\n",
        "list(candidate_pairs)[:5] #candidate_pairs was a set, so we observe as a list"
      ],
      "execution_count": null,
      "outputs": [
        {
          "output_type": "stream",
          "name": "stdout",
          "text": [
            "23\n"
          ]
        },
        {
          "output_type": "execute_result",
          "data": {
            "text/plain": [
              "[(7, 3), (4, 7), (10, 11), (6, 6), (7, 7)]"
            ]
          },
          "metadata": {},
          "execution_count": 70
        }
      ]
    },
    {
      "cell_type": "code",
      "metadata": {
        "id": "KB3AwymxpfEI"
      },
      "source": [
        ""
      ],
      "execution_count": null,
      "outputs": []
    }
  ]
}