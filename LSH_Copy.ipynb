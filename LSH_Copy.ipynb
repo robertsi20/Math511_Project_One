{
  "nbformat": 4,
  "nbformat_minor": 0,
  "metadata": {
    "colab": {
      "name": "LSH Copy.ipynb",
      "provenance": []
    },
    "kernelspec": {
      "name": "python3",
      "display_name": "Python 3"
    },
    "language_info": {
      "name": "python"
    }
  },
  "cells": [
    {
      "cell_type": "code",
      "metadata": {
        "id": "BDEwlUTGyGRT"
      },
      "source": [
        "# Testing LSH\n",
        "\n",
        "# This notebook covers the implementation (with Numpy) and testing of a traditional LSH process. Covering shingling, MinHashing, and a straightforward LSH banding process for identifying candidate pairs.\n",
        "\n",
        "# The first thing we need is data."
      ],
      "execution_count": null,
      "outputs": []
    },
    {
      "cell_type": "code",
      "metadata": {
        "colab": {
          "base_uri": "https://localhost:8080/",
          "height": 206
        },
        "id": "HEJqj31awkJy",
        "outputId": "9423f821-816a-4070-8f6f-7a14e712f833"
      },
      "source": [
        "import requests\n",
        "import pandas as pd\n",
        "import numpy as np\n",
        "import io\n",
        "\n",
        "url = \"https://raw.githubusercontent.com/brmson/dataset-sts/master/data/sts/sick2014/SICK_train.txt\"\n",
        "\n",
        "text = requests.get(url).text\n",
        "\n",
        "data = pd.read_csv(io.StringIO(text), sep='\\t')\n",
        "data.head()"
      ],
      "execution_count": 1,
      "outputs": [
        {
          "output_type": "execute_result",
          "data": {
            "text/html": [
              "<div>\n",
              "<style scoped>\n",
              "    .dataframe tbody tr th:only-of-type {\n",
              "        vertical-align: middle;\n",
              "    }\n",
              "\n",
              "    .dataframe tbody tr th {\n",
              "        vertical-align: top;\n",
              "    }\n",
              "\n",
              "    .dataframe thead th {\n",
              "        text-align: right;\n",
              "    }\n",
              "</style>\n",
              "<table border=\"1\" class=\"dataframe\">\n",
              "  <thead>\n",
              "    <tr style=\"text-align: right;\">\n",
              "      <th></th>\n",
              "      <th>pair_ID</th>\n",
              "      <th>sentence_A</th>\n",
              "      <th>sentence_B</th>\n",
              "      <th>relatedness_score</th>\n",
              "      <th>entailment_judgment</th>\n",
              "    </tr>\n",
              "  </thead>\n",
              "  <tbody>\n",
              "    <tr>\n",
              "      <th>0</th>\n",
              "      <td>1</td>\n",
              "      <td>A group of kids is playing in a yard and an ol...</td>\n",
              "      <td>A group of boys in a yard is playing and a man...</td>\n",
              "      <td>4.5</td>\n",
              "      <td>NEUTRAL</td>\n",
              "    </tr>\n",
              "    <tr>\n",
              "      <th>1</th>\n",
              "      <td>2</td>\n",
              "      <td>A group of children is playing in the house an...</td>\n",
              "      <td>A group of kids is playing in a yard and an ol...</td>\n",
              "      <td>3.2</td>\n",
              "      <td>NEUTRAL</td>\n",
              "    </tr>\n",
              "    <tr>\n",
              "      <th>2</th>\n",
              "      <td>3</td>\n",
              "      <td>The young boys are playing outdoors and the ma...</td>\n",
              "      <td>The kids are playing outdoors near a man with ...</td>\n",
              "      <td>4.7</td>\n",
              "      <td>ENTAILMENT</td>\n",
              "    </tr>\n",
              "    <tr>\n",
              "      <th>3</th>\n",
              "      <td>5</td>\n",
              "      <td>The kids are playing outdoors near a man with ...</td>\n",
              "      <td>A group of kids is playing in a yard and an ol...</td>\n",
              "      <td>3.4</td>\n",
              "      <td>NEUTRAL</td>\n",
              "    </tr>\n",
              "    <tr>\n",
              "      <th>4</th>\n",
              "      <td>9</td>\n",
              "      <td>The young boys are playing outdoors and the ma...</td>\n",
              "      <td>A group of kids is playing in a yard and an ol...</td>\n",
              "      <td>3.7</td>\n",
              "      <td>NEUTRAL</td>\n",
              "    </tr>\n",
              "  </tbody>\n",
              "</table>\n",
              "</div>"
            ],
            "text/plain": [
              "   pair_ID  ... entailment_judgment\n",
              "0        1  ...             NEUTRAL\n",
              "1        2  ...             NEUTRAL\n",
              "2        3  ...          ENTAILMENT\n",
              "3        5  ...             NEUTRAL\n",
              "4        9  ...             NEUTRAL\n",
              "\n",
              "[5 rows x 5 columns]"
            ]
          },
          "metadata": {},
          "execution_count": 1
        }
      ]
    },
    {
      "cell_type": "code",
      "metadata": {
        "colab": {
          "base_uri": "https://localhost:8080/"
        },
        "id": "vW0Vqj0xwuvM",
        "outputId": "02ff10f2-9206-433f-8aa2-66297f91bc83"
      },
      "source": [
        "sentences = data['sentence_A'].tolist()\n",
        "sentences[:3]"
      ],
      "execution_count": 2,
      "outputs": [
        {
          "output_type": "execute_result",
          "data": {
            "text/plain": [
              "['A group of kids is playing in a yard and an old man is standing in the background',\n",
              " 'A group of children is playing in the house and there is no man standing in the background',\n",
              " 'The young boys are playing outdoors and the man is smiling nearby']"
            ]
          },
          "metadata": {},
          "execution_count": 2
        }
      ]
    },
    {
      "cell_type": "code",
      "metadata": {
        "id": "Dv04E08KyKuM"
      },
      "source": [
        "# We have our data, now to shingle and one-hot encode it."
      ],
      "execution_count": null,
      "outputs": []
    },
    {
      "cell_type": "code",
      "metadata": {
        "id": "5jg5jyJYwvgX"
      },
      "source": [
        "def build_shingles(sentence: str, k: int):\n",
        "    shingles = []\n",
        "    for i in range(len(sentence) - k):\n",
        "        shingles.append(sentence[i:i+k])\n",
        "    return set(shingles)\n",
        "\n",
        "def build_vocab(shingle_sets: list):\n",
        "    # convert list of shingle sets into single set\n",
        "    full_set = {item for set_ in shingle_sets for item in set_}\n",
        "    vocab = {}\n",
        "    for i, shingle in enumerate(list(full_set)):\n",
        "        vocab[shingle] = i\n",
        "    return vocab\n",
        "\n",
        "def one_hot(shingles: set, vocab: dict):\n",
        "    vec = np.zeros(len(vocab))\n",
        "    for shingle in shingles:\n",
        "        idx = vocab[shingle]\n",
        "        vec[idx] = 1\n",
        "    return vec"
      ],
      "execution_count": 3,
      "outputs": []
    },
    {
      "cell_type": "code",
      "metadata": {
        "colab": {
          "base_uri": "https://localhost:8080/"
        },
        "id": "X74vZu4XwzLU",
        "outputId": "5f9e1d5d-bc6f-4653-b855-42d55303e5b2"
      },
      "source": [
        "k = 8  # shingle size\n",
        "\n",
        "# build shingles\n",
        "shingles = []\n",
        "for sentence in sentences:\n",
        "    shingles.append(build_shingles(sentence, k))\n",
        "\n",
        "# build vocab\n",
        "vocab = build_vocab(shingles)\n",
        "\n",
        "# one-hot encode our shingles\n",
        "shingles_1hot = []\n",
        "for shingle_set in shingles:\n",
        "    shingles_1hot.append(one_hot(shingle_set, vocab))\n",
        "# stack into single numpy array\n",
        "shingles_1hot = np.stack(shingles_1hot)\n",
        "shingles_1hot.shape"
      ],
      "execution_count": 4,
      "outputs": [
        {
          "output_type": "execute_result",
          "data": {
            "text/plain": [
              "(4500, 36466)"
            ]
          },
          "metadata": {},
          "execution_count": 4
        }
      ]
    },
    {
      "cell_type": "code",
      "metadata": {
        "colab": {
          "base_uri": "https://localhost:8080/"
        },
        "id": "4nCUfnUiw2AT",
        "outputId": "47889961-60fa-416e-bc82-ab057760a7bd"
      },
      "source": [
        "shingles_1hot[:5]"
      ],
      "execution_count": 6,
      "outputs": [
        {
          "output_type": "execute_result",
          "data": {
            "text/plain": [
              "array([[0., 0., 0., ..., 0., 0., 0.],\n",
              "       [0., 0., 0., ..., 0., 0., 0.],\n",
              "       [0., 0., 0., ..., 0., 0., 0.],\n",
              "       [0., 0., 0., ..., 0., 0., 0.],\n",
              "       [0., 0., 0., ..., 0., 0., 0.]])"
            ]
          },
          "metadata": {},
          "execution_count": 6
        }
      ]
    },
    {
      "cell_type": "code",
      "metadata": {
        "colab": {
          "base_uri": "https://localhost:8080/"
        },
        "id": "7luGAzVHxVCe",
        "outputId": "da234edf-7117-45dd-8ced-c7a57f7cd3fe"
      },
      "source": [
        "sum(shingles_1hot[0])  # confirm we have 1s"
      ],
      "execution_count": 7,
      "outputs": [
        {
          "output_type": "execute_result",
          "data": {
            "text/plain": [
              "73.0"
            ]
          },
          "metadata": {},
          "execution_count": 7
        }
      ]
    },
    {
      "cell_type": "code",
      "metadata": {
        "id": "n_T8BZEjxXHr"
      },
      "source": [
        "# MinHash\n",
        "# Now we move onto minhashing, first we need to create functions for building a range of minhash vectors, and another to process our sparse vectors through this minhash array - to produce our signatures."
      ],
      "execution_count": 8,
      "outputs": []
    },
    {
      "cell_type": "code",
      "metadata": {
        "id": "llFbn8_NxZ7r"
      },
      "source": [
        "def minhash_arr(vocab: dict, resolution: int):\n",
        "    length = len(vocab.keys())\n",
        "    arr = np.zeros((resolution, length))\n",
        "    for i in range(resolution):\n",
        "        permutation = np.random.permutation(len(vocab)) + 1\n",
        "        arr[i, :] = permutation.copy()\n",
        "    return arr.astype(int)\n",
        "\n",
        "def get_signature(minhash, vector):\n",
        "    # get index locations of every 1 value in vector\n",
        "    idx = np.nonzero(vector)[0].tolist()\n",
        "    # use index locations to pull only +ve positions in minhash\n",
        "    shingles = minhash[:, idx]\n",
        "    # find minimum value in each hash vector\n",
        "    signature = np.min(shingles, axis=1)\n",
        "    return signature"
      ],
      "execution_count": 9,
      "outputs": []
    },
    {
      "cell_type": "code",
      "metadata": {
        "colab": {
          "base_uri": "https://localhost:8080/"
        },
        "id": "rTDf9hJHxcBE",
        "outputId": "13453304-3459-4897-a02f-143beb02dd3d"
      },
      "source": [
        "arr = minhash_arr(vocab, 100)\n",
        "\n",
        "signatures = []\n",
        "\n",
        "for vector in shingles_1hot:\n",
        "    signatures.append(get_signature(arr, vector))\n",
        "\n",
        "# merge signatures into single array\n",
        "signatures = np.stack(signatures)\n",
        "signatures.shape"
      ],
      "execution_count": 10,
      "outputs": [
        {
          "output_type": "execute_result",
          "data": {
            "text/plain": [
              "(4500, 100)"
            ]
          },
          "metadata": {},
          "execution_count": 10
        }
      ]
    },
    {
      "cell_type": "code",
      "metadata": {
        "colab": {
          "base_uri": "https://localhost:8080/"
        },
        "id": "w-pjNDOVxeAE",
        "outputId": "a9ac6f0b-7c92-4c01-84ec-44cf0eaf4daf"
      },
      "source": [
        "signatures[0]"
      ],
      "execution_count": 11,
      "outputs": [
        {
          "output_type": "execute_result",
          "data": {
            "text/plain": [
              "array([ 789,  143,  292,  284,  114, 1033,   13,  277,  174,  590, 1621,\n",
              "         31,  108,  103,   11,  463,  181,  359,  413, 1923,   24,   53,\n",
              "        285,  888,  870,  738,  140,  994,  108,  137,  542,  377,  313,\n",
              "        197,   27,  259,  222,  792,  445,  148,  740,  164,  150,  126,\n",
              "         39,   48,  194,  817,  154, 1171,  135,   23,   62,  305,   40,\n",
              "        129,   33,  603,  492,  848,   52,  294,  287,  247, 1772, 1500,\n",
              "        129,   36, 2721,  911,  793,  118,  121,   65,  289, 1096,  414,\n",
              "        312,  176,  229,  118,  707,  703,    7, 1327,   80,  887,  607,\n",
              "        163,  288,  228,   10,  264,   39,  569,  717,  406,  749, 1041,\n",
              "        550])"
            ]
          },
          "metadata": {},
          "execution_count": 11
        }
      ]
    },
    {
      "cell_type": "code",
      "metadata": {
        "id": "PnZFVgQQxjSj"
      },
      "source": [
        "# LSH\n",
        "# Finally, we move onto the LSH process. We will use a class here:"
      ],
      "execution_count": 12,
      "outputs": []
    },
    {
      "cell_type": "code",
      "metadata": {
        "id": "-GYLO51oxkwr"
      },
      "source": [
        "from itertools import combinations\n",
        "\n",
        "class LSH:\n",
        "    buckets = []\n",
        "    counter = 0\n",
        "    def __init__(self, b):\n",
        "        self.b = b\n",
        "        for i in range(b):\n",
        "            self.buckets.append({})\n",
        "\n",
        "    def make_subvecs(self, signature):\n",
        "        l = len(signature)\n",
        "        assert l % self.b == 0\n",
        "        r = int(l / self.b)\n",
        "        # break signature into subvectors\n",
        "        subvecs = []\n",
        "        for i in range(0, l, r):\n",
        "            subvecs.append(signature[i:i+r])\n",
        "        return np.stack(subvecs)\n",
        "    \n",
        "    def add_hash(self, signature):\n",
        "        subvecs = self.make_subvecs(signature).astype(str)\n",
        "        for i, subvec in enumerate(subvecs):\n",
        "            subvec = ','.join(subvec)\n",
        "            if subvec not in self.buckets[i].keys():\n",
        "                self.buckets[i][subvec] = []\n",
        "            self.buckets[i][subvec].append(self.counter)\n",
        "        self.counter += 1\n",
        "\n",
        "    def check_candidates(self):\n",
        "        candidates = []\n",
        "        for bucket_band in self.buckets:\n",
        "            keys = bucket_band.keys()\n",
        "            for bucket in keys:\n",
        "                hits = bucket_band[bucket]\n",
        "                if len(hits) > 1:\n",
        "                    candidates.extend(combinations(hits, 2))\n",
        "        return set(candidates)"
      ],
      "execution_count": 13,
      "outputs": []
    },
    {
      "cell_type": "code",
      "metadata": {
        "id": "cI5oJWrMxpq8"
      },
      "source": [
        "b = 20\n",
        "\n",
        "lsh = LSH(b)\n",
        "\n",
        "for signature in signatures:\n",
        "    lsh.add_hash(signature)"
      ],
      "execution_count": 14,
      "outputs": []
    },
    {
      "cell_type": "code",
      "metadata": {
        "id": "qYo-et1Rxv4N"
      },
      "source": [
        "lsh.buckets\n",
        "# Now we've filled our hash buckets all we need to do is loop through each and where we have multiple entries in a single bucket, mark these as our candidate pairs."
      ],
      "execution_count": null,
      "outputs": []
    },
    {
      "cell_type": "code",
      "metadata": {
        "colab": {
          "base_uri": "https://localhost:8080/"
        },
        "id": "s5NJenUyxxUz",
        "outputId": "dea360a5-f603-491d-d561-c96984b2bcbe"
      },
      "source": [
        "candidate_pairs = lsh.check_candidates()\n",
        "len(candidate_pairs)"
      ],
      "execution_count": 17,
      "outputs": [
        {
          "output_type": "execute_result",
          "data": {
            "text/plain": [
              "7296"
            ]
          },
          "metadata": {},
          "execution_count": 17
        }
      ]
    },
    {
      "cell_type": "code",
      "metadata": {
        "colab": {
          "base_uri": "https://localhost:8080/"
        },
        "id": "kv3K-x-tyTjr",
        "outputId": "05dba298-7a06-4646-b0ba-5a550bfed640"
      },
      "source": [
        "list(candidate_pairs)[:5]"
      ],
      "execution_count": 19,
      "outputs": [
        {
          "output_type": "execute_result",
          "data": {
            "text/plain": [
              "[(1063, 1582), (2685, 2686), (3197, 3198), (1130, 1581), (2504, 2505)]"
            ]
          },
          "metadata": {},
          "execution_count": 19
        }
      ]
    },
    {
      "cell_type": "code",
      "metadata": {
        "id": "Ak-msciIyX4z"
      },
      "source": [
        "# We now have all of our candidate pairs!\n",
        "# Optimizing the Bands\n",
        "\n",
        "# Now let's visualize the actual cosine similarity of our signature vectors against whether we identified the signatures as candidate pairs or not.\n",
        "\n",
        "# (we will also calculate Jaccard but it's less useful here, try both!)"
      ],
      "execution_count": null,
      "outputs": []
    },
    {
      "cell_type": "code",
      "metadata": {
        "id": "CLMOJZFIypoS"
      },
      "source": [
        "from sklearn.metrics.pairwise import cosine_similarity\n",
        "\n",
        "def jaccard(a: set, b: set):\n",
        "    return len(a.intersection(b)) / len(a.union(b))"
      ],
      "execution_count": 21,
      "outputs": []
    },
    {
      "cell_type": "code",
      "metadata": {
        "colab": {
          "base_uri": "https://localhost:8080/"
        },
        "id": "M-We2ozHyrYr",
        "outputId": "aa139f6e-e42f-4f8b-805c-1ba08bc5f1d3"
      },
      "source": [
        "pairs = pd.DataFrame({\n",
        "    'x': [],\n",
        "    'y': [],\n",
        "    'jaccard': [],\n",
        "    'cosine': [],\n",
        "    'candidate': []\n",
        "})\n",
        "\n",
        "from tqdm import tqdm\n",
        "\n",
        "data_len = shingles_1hot.shape[0]\n",
        "chosen = set()\n",
        "# take random sample of pairs\n",
        "sample_size = 50_000\n",
        "for _ in tqdm(range(sample_size)):\n",
        "    x, y = np.random.choice(data_len, 2)\n",
        "    if x == y or (x, y) in chosen: continue\n",
        "    chosen.add((x, y))\n",
        "    vector_x = signatures[x]\n",
        "    vector_y = signatures[y]\n",
        "    candidate = 1 if (x, y) in candidate_pairs else 0\n",
        "    cosine = cosine_similarity([vector_x], [vector_y])[0][0]\n",
        "    pairs = pairs.append({\n",
        "            'x': x,\n",
        "            'y': y,\n",
        "            'jaccard': jaccard(set(vector_x), set(vector_y)),\n",
        "            'cosine': cosine,\n",
        "            'candidate': candidate\n",
        "        }, ignore_index=True)\n",
        "\n",
        "# add a normalized cosine column for better alignment\n",
        "cos_min = pairs['cosine'].min()\n",
        "cos_max = pairs['cosine'].max()\n",
        "pairs['cosine_norm'] = (pairs['cosine'] - cos_min) / (cos_max - cos_min)"
      ],
      "execution_count": 23,
      "outputs": [
        {
          "output_type": "stream",
          "name": "stderr",
          "text": [
            "100%|██████████| 50000/50000 [02:05<00:00, 397.61it/s]\n"
          ]
        }
      ]
    },
    {
      "cell_type": "code",
      "metadata": {
        "colab": {
          "base_uri": "https://localhost:8080/",
          "height": 297
        },
        "id": "SqWCH8b3ytYL",
        "outputId": "96d47b54-fc3f-4ef4-fd46-d2b655475b65"
      },
      "source": [
        "import matplotlib.pyplot as plt\n",
        "import seaborn as sns\n",
        "\n",
        "sns.scatterplot(data=pairs, x='cosine', y='candidate', alpha=0.5)"
      ],
      "execution_count": 24,
      "outputs": [
        {
          "output_type": "execute_result",
          "data": {
            "text/plain": [
              "<matplotlib.axes._subplots.AxesSubplot at 0x7fc6466c07d0>"
            ]
          },
          "metadata": {},
          "execution_count": 24
        },
        {
          "output_type": "display_data",
          "data": {
            "image/png": "[encoded data removed]",
            "text/plain": [
              "<Figure size 432x288 with 1 Axes>"
            ]
          },
          "metadata": {
            "needs_background": "light"
          }
        }
      ]
    },
    {
      "cell_type": "code",
      "metadata": {
        "id": "9FS8mO--z7xt"
      },
      "source": [
        "# Now, this is an interesting way to visualize our distribution, but we have reason. \n",
        "# We can actually tune our LSH function using b, and we have a formalized function that tells us the probability of identifying a pair as candidate pairs given their similarity. \n",
        "# We calculate this as so:\n",
        "\n",
        "def probability(s, r, b):\n",
        "    # s: similarity\n",
        "    # r: rows (per band)\n",
        "    # b: number of bands\n",
        "    return 1 - (1 - s**r)**b\n",
        "\n",
        "def normalize(x, x_min, x_max):\n",
        "    return (x - x_min) / (x_max - x_min)"
      ],
      "execution_count": 26,
      "outputs": []
    },
    {
      "cell_type": "code",
      "metadata": {
        "id": "w0nqEBJc0G_c"
      },
      "source": [
        "# Let's visualize that for our current parameters, alongside our scatter plot."
      ],
      "execution_count": null,
      "outputs": []
    },
    {
      "cell_type": "code",
      "metadata": {
        "colab": {
          "base_uri": "https://localhost:8080/",
          "height": 297
        },
        "id": "LssmXgZ50Li2",
        "outputId": "e51844a8-7e9a-41fc-aeeb-5778365e122b"
      },
      "source": [
        "b = 20\n",
        "r = int(100 / b)\n",
        "s_scores = np.arange(0.01, 1, 0.01)\n",
        "P_scores = [probability(s, r, b) for s in s_scores]\n",
        "\n",
        "sns.lineplot(x=s_scores, y=P_scores)\n",
        "sns.scatterplot(data=pairs, x='cosine', y='candidate', alpha=0.1, color='k')"
      ],
      "execution_count": 28,
      "outputs": [
        {
          "output_type": "execute_result",
          "data": {
            "text/plain": [
              "<matplotlib.axes._subplots.AxesSubplot at 0x7fc646626590>"
            ]
          },
          "metadata": {},
          "execution_count": 28
        },
        {
          "output_type": "display_data",
          "data": {
            "image/png": "[encoded data removed]",
            "text/plain": [
              "<Figure size 432x288 with 1 Axes>"
            ]
          },
          "metadata": {
            "needs_background": "light"
          }
        }
      ]
    },
    {
      "cell_type": "code",
      "metadata": {
        "colab": {
          "base_uri": "https://localhost:8080/",
          "height": 298
        },
        "id": "hemUfC3P0Syt",
        "outputId": "50d009da-a4ec-41c5-98a5-3e04b1c658ca"
      },
      "source": [
        "b = 20\n",
        "r = int(100 / b)\n",
        "s_scores = np.arange(0.01, 1, 0.01)\n",
        "P_scores = [probability(s, r, b) for s in s_scores]\n",
        "\n",
        "sns.lineplot(x=s_scores, y=P_scores)\n",
        "sns.scatterplot(data=pairs, x='cosine_norm', y='candidate', alpha=0.1, color='k')"
      ],
      "execution_count": 29,
      "outputs": [
        {
          "output_type": "execute_result",
          "data": {
            "text/plain": [
              "<matplotlib.axes._subplots.AxesSubplot at 0x7fc64666a850>"
            ]
          },
          "metadata": {},
          "execution_count": 29
        },
        {
          "output_type": "display_data",
          "data": {
            "image/png": "[encoded data removed]",
            "text/plain": [
              "<Figure size 432x288 with 1 Axes>"
            ]
          },
          "metadata": {
            "needs_background": "light"
          }
        }
      ]
    },
    {
      "cell_type": "code",
      "metadata": {
        "id": "ZL3TUarj0Tj0"
      },
      "source": [
        "# From here we can attempt to modify the similarity threshold t - which is the cut-off point on our similarity axes as to where we would like a given cosine similarity to rate as a candidate pair or not.\n",
        "\n",
        "# Let's try a few different band values with our probability formula to see where this balance may be."
      ],
      "execution_count": 30,
      "outputs": []
    },
    {
      "cell_type": "code",
      "metadata": {
        "colab": {
          "base_uri": "https://localhost:8080/",
          "height": 297
        },
        "id": "Hce5LQBI0hXr",
        "outputId": "627cef9f-8b15-424a-d02a-bf6e6635963c"
      },
      "source": [
        "probs = pd.DataFrame({\n",
        "    'P': [],\n",
        "    's': [],\n",
        "    'b': []\n",
        "})\n",
        "\n",
        "for b in [100, 50, 25, 20, 10, 5, 2]:\n",
        "    r = int(100 / b)\n",
        "    s_scores = np.arange(0.01, 1, 0.01)\n",
        "    P_scores = [probability(s, r, b) for s in s_scores]\n",
        "    probs = probs.append(pd.DataFrame({\n",
        "        'P': P_scores,\n",
        "        's': s_scores,\n",
        "        'b': [str(b)]*len(s_scores)\n",
        "    }), ignore_index=True)\n",
        "\n",
        "sns.lineplot(data=probs, x='s', y='P', hue='b')"
      ],
      "execution_count": 31,
      "outputs": [
        {
          "output_type": "execute_result",
          "data": {
            "text/plain": [
              "<matplotlib.axes._subplots.AxesSubplot at 0x7fc6460e4910>"
            ]
          },
          "metadata": {},
          "execution_count": 31
        },
        {
          "output_type": "display_data",
          "data": {
            "image/png": "[encoded data removed]",
            "text/plain": [
              "<Figure size 432x288 with 1 Axes>"
            ]
          },
          "metadata": {
            "needs_background": "light"
          }
        }
      ]
    },
    {
      "cell_type": "code",
      "metadata": {
        "id": "yqoCTywM0i_i"
      },
      "source": [
        "# So a b value of 20 have us a threshold value t slightly too high (depending on our definition of 'similar'), so maybe we can use b == 25 to get a better distribution of our candidate pairs."
      ],
      "execution_count": 32,
      "outputs": []
    },
    {
      "cell_type": "code",
      "metadata": {
        "colab": {
          "base_uri": "https://localhost:8080/"
        },
        "id": "WWXNOrko0tAT",
        "outputId": "2fa89673-62fd-4f1e-ee1a-d481b658f051"
      },
      "source": [
        "b = 25\n",
        "\n",
        "lsh = LSH(b)\n",
        "\n",
        "for signature in signatures:\n",
        "    lsh.add_hash(signature)\n",
        "\n",
        "candidate_pairs = lsh.check_candidates()\n",
        "len(candidate_pairs)"
      ],
      "execution_count": 33,
      "outputs": [
        {
          "output_type": "execute_result",
          "data": {
            "text/plain": [
              "12949"
            ]
          },
          "metadata": {},
          "execution_count": 33
        }
      ]
    },
    {
      "cell_type": "code",
      "metadata": {
        "colab": {
          "base_uri": "https://localhost:8080/"
        },
        "id": "_RJwrZK30ucE",
        "outputId": "17a1d991-2b2c-4cca-ea77-3073a06658cf"
      },
      "source": [
        "pairs = pd.DataFrame({\n",
        "    'x': [],\n",
        "    'y': [],\n",
        "    'jaccard': [],\n",
        "    'cosine': [],\n",
        "    'candidate': []\n",
        "})\n",
        "\n",
        "data_len = shingles_1hot.shape[0]\n",
        "chosen = set()\n",
        "# take random sample of pairs\n",
        "sample_size = 50_000\n",
        "for _ in tqdm(range(sample_size)):\n",
        "    x, y = np.random.choice(data_len, 2)\n",
        "    if x == y or (x, y) in chosen: continue\n",
        "    chosen.add((x, y))\n",
        "    vector_x = signatures[x]\n",
        "    vector_y = signatures[y]\n",
        "    candidate = 1 if (x, y) in candidate_pairs else 0\n",
        "    cosine = cosine_similarity([vector_x], [vector_y])[0][0]\n",
        "    pairs = pairs.append({\n",
        "            'x': x,\n",
        "            'y': y,\n",
        "            'jaccard': jaccard(set(vector_x), set(vector_y)),\n",
        "            'cosine': cosine,\n",
        "            'candidate': candidate\n",
        "        }, ignore_index=True)\n",
        "\n",
        "# add a normalized cosine column for better alignment\n",
        "cos_min = pairs['cosine'].min()\n",
        "cos_max = pairs['cosine'].max()\n",
        "pairs['cosine_norm'] = (pairs['cosine'] - cos_min) / (cos_max - cos_min)"
      ],
      "execution_count": 35,
      "outputs": [
        {
          "output_type": "stream",
          "name": "stderr",
          "text": [
            "100%|██████████| 50000/50000 [03:49<00:00, 217.98it/s]\n"
          ]
        }
      ]
    },
    {
      "cell_type": "code",
      "metadata": {
        "colab": {
          "base_uri": "https://localhost:8080/",
          "height": 298
        },
        "id": "wYFeUFhc0xyr",
        "outputId": "18b25035-20ac-41d7-af5b-0968945187df"
      },
      "source": [
        "r = int(100 / b)\n",
        "s_scores = np.arange(0.01, 1, 0.01)\n",
        "P_scores = [probability(s, r, b) for s in s_scores]\n",
        "\n",
        "sns.lineplot(x=s_scores, y=P_scores)\n",
        "sns.scatterplot(data=pairs, x='cosine_norm', y='candidate', alpha=0.1, color='k')"
      ],
      "execution_count": 36,
      "outputs": [
        {
          "output_type": "execute_result",
          "data": {
            "text/plain": [
              "<matplotlib.axes._subplots.AxesSubplot at 0x7fc644929550>"
            ]
          },
          "metadata": {},
          "execution_count": 36
        },
        {
          "output_type": "display_data",
          "data": {
            "image/png": "[encoded data removed]",
            "text/plain": [
              "<Figure size 432x288 with 1 Axes>"
            ]
          },
          "metadata": {
            "needs_background": "light"
          }
        }
      ]
    },
    {
      "cell_type": "code",
      "metadata": {
        "colab": {
          "base_uri": "https://localhost:8080/",
          "height": 298
        },
        "id": "4505cCdy3993",
        "outputId": "0208e1cc-f469-425c-836a-a06217430560"
      },
      "source": [
        "r = int(100 / b)\n",
        "s_scores = np.arange(0.01, 1, 0.01)\n",
        "P_scores = [probability(s, r, b) for s in s_scores]\n",
        "\n",
        "sns.lineplot(x=s_scores, y=P_scores)\n",
        "sns.scatterplot(data=pairs, x='cosine_norm', y='candidate', alpha=0.1, color='k')"
      ],
      "execution_count": 37,
      "outputs": [
        {
          "output_type": "execute_result",
          "data": {
            "text/plain": [
              "<matplotlib.axes._subplots.AxesSubplot at 0x7fc644da0b10>"
            ]
          },
          "metadata": {},
          "execution_count": 37
        },
        {
          "output_type": "display_data",
          "data": {
            "image/png": "[encoded data removed]",
            "text/plain": [
              "<Figure size 432x288 with 1 Axes>"
            ]
          },
          "metadata": {
            "needs_background": "light"
          }
        }
      ]
    },
    {
      "cell_type": "code",
      "metadata": {
        "id": "Gsn0seOR4Ic0"
      },
      "source": [
        "\n",
        "\n",
        "# Shifting from b == 20 to b == 25 has reduced the number of non-candidates around 0.7 - 0.8, and we can see that the number of candidate pairs in total has increased significantly too, from 7468 to 19436.\n",
        "\n",
        "# Now, in our own use-cases, the preferred similarity threshold will of-course change.\n",
        "\n",
        "# It's also worth noting that different similarity metrics will produce different charts:\n"
      ],
      "execution_count": null,
      "outputs": []
    },
    {
      "cell_type": "code",
      "metadata": {
        "colab": {
          "base_uri": "https://localhost:8080/",
          "height": 297
        },
        "id": "oKPa9oQW4MX5",
        "outputId": "23aef026-03d5-4101-b7cc-e621852994fd"
      },
      "source": [
        "r = int(100 / b)\n",
        "s_scores = np.arange(0.01, 1, 0.01)\n",
        "P_scores = [probability(s, r, b) for s in s_scores]\n",
        "\n",
        "sns.lineplot(x=s_scores, y=P_scores)\n",
        "sns.scatterplot(data=pairs, x='jaccard', y='candidate', alpha=0.1, color='k')"
      ],
      "execution_count": 38,
      "outputs": [
        {
          "output_type": "execute_result",
          "data": {
            "text/plain": [
              "<matplotlib.axes._subplots.AxesSubplot at 0x7fc644da0c10>"
            ]
          },
          "metadata": {},
          "execution_count": 38
        },
        {
          "output_type": "display_data",
          "data": {
            "image/png": "[encoded data removed]",
            "text/plain": [
              "<Figure size 432x288 with 1 Axes>"
            ]
          },
          "metadata": {
            "needs_background": "light"
          }
        }
      ]
    },
    {
      "cell_type": "code",
      "metadata": {
        "id": "qrSX7Zcs4NBU"
      },
      "source": [
        ""
      ],
      "execution_count": null,
      "outputs": []
    }
  ]
}